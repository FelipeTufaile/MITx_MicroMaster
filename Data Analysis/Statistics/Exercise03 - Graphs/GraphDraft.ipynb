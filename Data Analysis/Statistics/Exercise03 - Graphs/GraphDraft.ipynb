{
 "cells": [
  {
   "cell_type": "code",
   "execution_count": 2,
   "metadata": {},
   "outputs": [],
   "source": [
    "import numpy as np\n",
    "import pandas as pd"
   ]
  },
  {
   "cell_type": "code",
   "execution_count": 11,
   "metadata": {},
   "outputs": [],
   "source": [
    "# Reading small graph from txt file\n",
    "f = open(\"small_graph.txt\", \"r\")\n",
    "graph_text = f.read()"
   ]
  },
  {
   "cell_type": "code",
   "execution_count": 16,
   "metadata": {},
   "outputs": [],
   "source": [
    "graph = [tuple(i.split(' ')) for i in graph_text.split(\"\\n\")]"
   ]
  },
  {
   "cell_type": "code",
   "execution_count": 21,
   "metadata": {},
   "outputs": [],
   "source": [
    "unique_nodes = list(set([int(j[0]) for j in graph] + [int(j[1]) for j in graph]))"
   ]
  },
  {
   "cell_type": "code",
   "execution_count": 22,
   "metadata": {},
   "outputs": [
    {
     "data": {
      "text/plain": [
       "100"
      ]
     },
     "execution_count": 22,
     "metadata": {},
     "output_type": "execute_result"
    }
   ],
   "source": [
    "len(unique_nodes)"
   ]
  },
  {
   "cell_type": "code",
   "execution_count": 23,
   "metadata": {},
   "outputs": [
    {
     "data": {
      "text/plain": [
       "1030"
      ]
     },
     "execution_count": 23,
     "metadata": {},
     "output_type": "execute_result"
    }
   ],
   "source": [
    "len(graph)"
   ]
  },
  {
   "cell_type": "code",
   "execution_count": 25,
   "metadata": {},
   "outputs": [],
   "source": [
    "adjacency_matrix = np.zeros((len(unique_nodes), len(unique_nodes)))"
   ]
  },
  {
   "cell_type": "code",
   "execution_count": 27,
   "metadata": {},
   "outputs": [],
   "source": [
    "for edge in graph:\n",
    "    adjacency_matrix[int(edge[0])][int(edge[1])] = 1"
   ]
  },
  {
   "cell_type": "code",
   "execution_count": 29,
   "metadata": {},
   "outputs": [
    {
     "data": {
      "text/plain": [
       "8.0"
      ]
     },
     "execution_count": 29,
     "metadata": {},
     "output_type": "execute_result"
    }
   ],
   "source": [
    "np.trace(adjacency_matrix)"
   ]
  },
  {
   "cell_type": "code",
   "execution_count": 30,
   "metadata": {},
   "outputs": [],
   "source": [
    "def has_cycle(matrix):\n",
    "    n = len(matrix)\n",
    "    visited = [False] * n\n",
    "    stack = [False] * n\n",
    "\n",
    "    for i in range(n):\n",
    "        if not visited[i]:\n",
    "            if dfs(matrix, i, visited, stack):\n",
    "                return True\n",
    "\n",
    "    return False\n",
    "\n",
    "def dfs(matrix, node, visited, stack):\n",
    "    visited[node] = True\n",
    "    stack[node] = True\n",
    "\n",
    "    for i in range(len(matrix)):\n",
    "        if matrix[node][i]:\n",
    "            if not visited[i]:\n",
    "                if dfs(matrix, i, visited, stack):\n",
    "                    return True\n",
    "            elif stack[i]:\n",
    "                return True\n",
    "\n",
    "    stack[node] = False\n",
    "    return False\n"
   ]
  },
  {
   "cell_type": "code",
   "execution_count": 31,
   "metadata": {},
   "outputs": [
    {
     "data": {
      "text/plain": [
       "True"
      ]
     },
     "execution_count": 31,
     "metadata": {},
     "output_type": "execute_result"
    }
   ],
   "source": [
    "has_cycle(matrix=adjacency_matrix)"
   ]
  },
  {
   "cell_type": "code",
   "execution_count": 39,
   "metadata": {},
   "outputs": [
    {
     "data": {
      "text/plain": [
       "1030.0"
      ]
     },
     "execution_count": 39,
     "metadata": {},
     "output_type": "execute_result"
    }
   ],
   "source": [
    "np.sum(adjacency_matrix)"
   ]
  },
  {
   "cell_type": "code",
   "execution_count": 44,
   "metadata": {},
   "outputs": [
    {
     "data": {
      "text/plain": [
       "array([[0., 0., 0., ..., 0., 0., 0.],\n",
       "       [0., 0., 0., ..., 0., 0., 0.],\n",
       "       [0., 0., 0., ..., 0., 0., 0.],\n",
       "       ...,\n",
       "       [1., 0., 0., ..., 0., 0., 1.],\n",
       "       [0., 1., 0., ..., 0., 0., 0.],\n",
       "       [0., 1., 0., ..., 0., 0., 0.]])"
      ]
     },
     "execution_count": 44,
     "metadata": {},
     "output_type": "execute_result"
    }
   ],
   "source": [
    "adjacency_matrix"
   ]
  },
  {
   "cell_type": "code",
   "execution_count": 76,
   "metadata": {},
   "outputs": [],
   "source": [
    "nodes = list(range(100))\n",
    "\n",
    "p_list = []\n",
    "n = 98\n",
    "for j in range(1000):\n",
    "\n",
    "    scol_i = np.random.choice(a=nodes, size=n, replace=False)\n",
    "    srow_i = np.random.choice(a=nodes, size=n, replace=False)\n",
    "\n",
    "    p_i = np.sum(adjacency_matrix[srow_i,:][:,scol_i])/(n**2)\n",
    "\n",
    "    p_list.append(p_i)"
   ]
  },
  {
   "cell_type": "code",
   "execution_count": 77,
   "metadata": {},
   "outputs": [
    {
     "data": {
      "text/plain": [
       "0.0006226934331908303"
      ]
     },
     "execution_count": 77,
     "metadata": {},
     "output_type": "execute_result"
    }
   ],
   "source": [
    "np.std(np.array(p_list))"
   ]
  },
  {
   "cell_type": "code",
   "execution_count": 75,
   "metadata": {},
   "outputs": [
    {
     "data": {
      "text/plain": [
       "0.029027530036157056"
      ]
     },
     "execution_count": 75,
     "metadata": {},
     "output_type": "execute_result"
    }
   ],
   "source": [
    "np.std(np.array(p_list))"
   ]
  },
  {
   "cell_type": "code",
   "execution_count": 78,
   "metadata": {},
   "outputs": [
    {
     "data": {
      "text/plain": [
       "0.9999999999999999"
      ]
     },
     "execution_count": 78,
     "metadata": {},
     "output_type": "execute_result"
    }
   ],
   "source": [
    "(1030 - 1000)/(100*np.sqrt(0.1*0.9))"
   ]
  },
  {
   "cell_type": "code",
   "execution_count": 82,
   "metadata": {},
   "outputs": [
    {
     "name": "stdout",
     "output_type": "stream",
     "text": [
      "z statistic:0.9999999999999961 | p-value: 0.31731050786291604\n"
     ]
    }
   ],
   "source": [
    "#Importing libraries\n",
    "import numpy as np\n",
    "from scipy.stats import norm\n",
    "\n",
    "# Calculating probability of death in the control group\n",
    "prob_c = 0.1\n",
    "\n",
    "# Calculating probability of death in the treatment group\n",
    "prob_t = 1030/100**2\n",
    "\n",
    "# Defining the sample size n\n",
    "n = 100**2\n",
    "\n",
    "# Defining the standard deviation\n",
    "sigma = np.sqrt(prob_c*(1-prob_c))\n",
    "\n",
    "# Calculating z\n",
    "z = (prob_t - prob_c)/(sigma/np.sqrt(n))\n",
    "\n",
    "# Calculating the cumulative distribution function from -inf to z considering that\n",
    "# z is a variable sampled from a normal distribution with mean 0 and variance 1 \n",
    "pvalue = 2*norm.cdf(-z, loc=0, scale=1)\n",
    "\n",
    "# Printing result\n",
    "print(f\"z statistic:{z} | p-value: {pvalue}\")"
   ]
  },
  {
   "cell_type": "code",
   "execution_count": 111,
   "metadata": {},
   "outputs": [],
   "source": [
    "nodes = list(range(97))"
   ]
  },
  {
   "cell_type": "code",
   "execution_count": 112,
   "metadata": {},
   "outputs": [],
   "source": [
    "k=7\n",
    "list_a=[]\n",
    "for i in nodes:\n",
    "    a = tuple([i, (i+k) % 97])\n",
    "    list_a.append(a)"
   ]
  },
  {
   "cell_type": "code",
   "execution_count": 113,
   "metadata": {},
   "outputs": [
    {
     "data": {
      "text/plain": [
       "[(0, 7),\n",
       " (1, 8),\n",
       " (2, 9),\n",
       " (3, 10),\n",
       " (4, 11),\n",
       " (5, 12),\n",
       " (6, 13),\n",
       " (7, 14),\n",
       " (8, 15),\n",
       " (9, 16),\n",
       " (10, 17),\n",
       " (11, 18),\n",
       " (12, 19),\n",
       " (13, 20),\n",
       " (14, 21),\n",
       " (15, 22),\n",
       " (16, 23),\n",
       " (17, 24),\n",
       " (18, 25),\n",
       " (19, 26),\n",
       " (20, 27),\n",
       " (21, 28),\n",
       " (22, 29),\n",
       " (23, 30),\n",
       " (24, 31),\n",
       " (25, 32),\n",
       " (26, 33),\n",
       " (27, 34),\n",
       " (28, 35),\n",
       " (29, 36),\n",
       " (30, 37),\n",
       " (31, 38),\n",
       " (32, 39),\n",
       " (33, 40),\n",
       " (34, 41),\n",
       " (35, 42),\n",
       " (36, 43),\n",
       " (37, 44),\n",
       " (38, 45),\n",
       " (39, 46),\n",
       " (40, 47),\n",
       " (41, 48),\n",
       " (42, 49),\n",
       " (43, 50),\n",
       " (44, 51),\n",
       " (45, 52),\n",
       " (46, 53),\n",
       " (47, 54),\n",
       " (48, 55),\n",
       " (49, 56),\n",
       " (50, 57),\n",
       " (51, 58),\n",
       " (52, 59),\n",
       " (53, 60),\n",
       " (54, 61),\n",
       " (55, 62),\n",
       " (56, 63),\n",
       " (57, 64),\n",
       " (58, 65),\n",
       " (59, 66),\n",
       " (60, 67),\n",
       " (61, 68),\n",
       " (62, 69),\n",
       " (63, 70),\n",
       " (64, 71),\n",
       " (65, 72),\n",
       " (66, 73),\n",
       " (67, 74),\n",
       " (68, 75),\n",
       " (69, 76),\n",
       " (70, 77),\n",
       " (71, 78),\n",
       " (72, 79),\n",
       " (73, 80),\n",
       " (74, 81),\n",
       " (75, 82),\n",
       " (76, 83),\n",
       " (77, 84),\n",
       " (78, 85),\n",
       " (79, 86),\n",
       " (80, 87),\n",
       " (81, 88),\n",
       " (82, 89),\n",
       " (83, 90),\n",
       " (84, 91),\n",
       " (85, 92),\n",
       " (86, 93),\n",
       " (87, 94),\n",
       " (88, 95),\n",
       " (89, 96),\n",
       " (90, 0),\n",
       " (91, 1),\n",
       " (92, 2),\n",
       " (93, 3),\n",
       " (94, 4),\n",
       " (95, 5),\n",
       " (96, 6)]"
      ]
     },
     "execution_count": 113,
     "metadata": {},
     "output_type": "execute_result"
    }
   ],
   "source": [
    "list_a"
   ]
  },
  {
   "cell_type": "code",
   "execution_count": 114,
   "metadata": {},
   "outputs": [],
   "source": [
    "adjacency_matrix = np.zeros((97,97))"
   ]
  },
  {
   "cell_type": "code",
   "execution_count": 115,
   "metadata": {},
   "outputs": [],
   "source": [
    "for edge in list_a:\n",
    "    adjacency_matrix[int(edge[0])][int(edge[1])] = 1"
   ]
  },
  {
   "cell_type": "code",
   "execution_count": 116,
   "metadata": {},
   "outputs": [
    {
     "data": {
      "text/plain": [
       "97.0"
      ]
     },
     "execution_count": 116,
     "metadata": {},
     "output_type": "execute_result"
    }
   ],
   "source": [
    "np.sum(adjacency_matrix)"
   ]
  },
  {
   "cell_type": "code",
   "execution_count": 108,
   "metadata": {},
   "outputs": [
    {
     "data": {
      "text/plain": [
       "array([[0., 0., 0., 0., 0., 0., 0., 1., 0., 0., 0., 0., 0.],\n",
       "       [0., 0., 0., 0., 0., 0., 0., 0., 1., 0., 0., 0., 0.],\n",
       "       [0., 0., 0., 0., 0., 0., 0., 0., 0., 1., 0., 0., 0.],\n",
       "       [0., 0., 0., 0., 0., 0., 0., 0., 0., 0., 1., 0., 0.],\n",
       "       [0., 0., 0., 0., 0., 0., 0., 0., 0., 0., 0., 1., 0.],\n",
       "       [0., 0., 0., 0., 0., 0., 0., 0., 0., 0., 0., 0., 1.],\n",
       "       [1., 0., 0., 0., 0., 0., 0., 0., 0., 0., 0., 0., 0.],\n",
       "       [0., 1., 0., 0., 0., 0., 0., 0., 0., 0., 0., 0., 0.],\n",
       "       [0., 0., 1., 0., 0., 0., 0., 0., 0., 0., 0., 0., 0.],\n",
       "       [0., 0., 0., 1., 0., 0., 0., 0., 0., 0., 0., 0., 0.],\n",
       "       [0., 0., 0., 0., 1., 0., 0., 0., 0., 0., 0., 0., 0.],\n",
       "       [0., 0., 0., 0., 0., 1., 0., 0., 0., 0., 0., 0., 0.],\n",
       "       [0., 0., 0., 0., 0., 0., 1., 0., 0., 0., 0., 0., 0.]])"
      ]
     },
     "execution_count": 108,
     "metadata": {},
     "output_type": "execute_result"
    }
   ],
   "source": [
    "adjacency_matrix"
   ]
  },
  {
   "cell_type": "code",
   "execution_count": 100,
   "metadata": {},
   "outputs": [],
   "source": [
    "def is_connected(adj_matrix):\n",
    "    n = len(adj_matrix)\n",
    "    visited = [False] * n\n",
    "\n",
    "    # Find the first non-zero entry in the matrix\n",
    "    start = next((i for i in range(n) if sum(adj_matrix[i]) > 0), None)\n",
    "    if start is None:\n",
    "        # The matrix is all zeroes or empty\n",
    "        return False\n",
    "\n",
    "    dfs(adj_matrix, start, visited)\n",
    "\n",
    "    # Check if all nodes have been visited\n",
    "    return all(visited)\n",
    "\n",
    "def dfs(adj_matrix, node, visited):\n",
    "    visited[node] = True\n",
    "    for i in range(len(adj_matrix)):\n",
    "        if adj_matrix[node][i] and not visited[i]:\n",
    "            dfs(adj_matrix, i, visited)\n"
   ]
  },
  {
   "cell_type": "code",
   "execution_count": 101,
   "metadata": {},
   "outputs": [
    {
     "data": {
      "text/plain": [
       "True"
      ]
     },
     "execution_count": 101,
     "metadata": {},
     "output_type": "execute_result"
    }
   ],
   "source": [
    "is_connected(adj_matrix=adjacency_matrix)"
   ]
  },
  {
   "cell_type": "code",
   "execution_count": 137,
   "metadata": {},
   "outputs": [],
   "source": [
    "import numpy as np\n",
    "\n",
    "def modularity(adjacency_matrix, community_assignment):\n",
    "    \"\"\"\n",
    "    Calculates the modularity of a graph given its adjacency matrix and community assignment.\n",
    "    \n",
    "    Parameters:\n",
    "        adjacency_matrix (numpy.ndarray): NxN binary matrix representing the adjacency matrix of the graph\n",
    "        community_assignment (list): N-length list where the i-th element is the community assignment of the i-th node\n",
    "        \n",
    "    Returns:\n",
    "        float: The modularity of the graph\n",
    "    \"\"\"\n",
    "    N = len(adjacency_matrix)\n",
    "    m = np.sum(adjacency_matrix) # total number of edges\n",
    "    \n",
    "    modularity = 0.0\n",
    "    \n",
    "    for i in range(N):\n",
    "        for j in range(N):\n",
    "            A_ij = adjacency_matrix[i][j]\n",
    "            k_i = np.sum(adjacency_matrix[i])\n",
    "            k_j = np.sum(adjacency_matrix[j])\n",
    "            delta = 1*(community_assignment[i] == community_assignment[j])\n",
    "            modularity += (A_ij - (k_i*k_j)/(2*m))*delta\n",
    "                \n",
    "    modularity /= 2*m\n",
    "    \n",
    "    return modularity\n"
   ]
  },
  {
   "cell_type": "code",
   "execution_count": 138,
   "metadata": {},
   "outputs": [],
   "source": [
    "adjacency_matrix =[\n",
    "    [0, 1, 0, 1, 0, 1, 0, 0, 0, 0],\n",
    "\t[1, 0, 1, 1, 1, 0, 0, 0, 0, 0],\n",
    "\t[0, 1, 0, 0, 0, 0, 0, 0, 0, 0],\n",
    "\t[1, 1, 0, 0, 0, 1, 0, 1, 1, 0],\n",
    "\t[0, 1, 0, 0, 0, 0, 0, 0, 1, 1],\n",
    "\t[1, 0, 0, 1, 0, 0, 0, 0, 0, 0],\n",
    "\t[0, 0, 0, 0, 0, 0, 0, 0, 0, 1],\n",
    "\t[0, 0, 0, 1, 0, 0, 0, 0, 0, 0],\n",
    "\t[0, 0, 0, 1, 1, 0, 0, 0, 0, 1],\n",
    "\t[0, 0, 0, 0, 1, 0, 1, 0, 1, 0]\n",
    "]"
   ]
  },
  {
   "cell_type": "code",
   "execution_count": 139,
   "metadata": {},
   "outputs": [
    {
     "data": {
      "text/plain": [
       "0.025887573964497035"
      ]
     },
     "execution_count": 139,
     "metadata": {},
     "output_type": "execute_result"
    }
   ],
   "source": [
    "modularity(adjacency_matrix=adjacency_matrix, community_assignment=[1, 2, 1, 2, 1, 2, 1, 2, 1, 2])"
   ]
  },
  {
   "cell_type": "code",
   "execution_count": 141,
   "metadata": {},
   "outputs": [
    {
     "ename": "AttributeError",
     "evalue": "'list' object has no attribute 'sum'",
     "output_type": "error",
     "traceback": [
      "\u001b[1;31m---------------------------------------------------------------------------\u001b[0m",
      "\u001b[1;31mAttributeError\u001b[0m                            Traceback (most recent call last)",
      "\u001b[1;32mc:\\Users\\wr2zzgx\\OneDrive-Deere&Co\\OneDrive - Deere & Co\\Documents\\MIT\\Statistics\\GraphDraft.ipynb Cell 31\u001b[0m line \u001b[0;36m<cell line: 9>\u001b[1;34m()\u001b[0m\n\u001b[0;32m      <a href='vscode-notebook-cell:/c%3A/Users/wr2zzgx/OneDrive-Deere%26Co/OneDrive%20-%20Deere%20%26%20Co/Documents/MIT/Statistics/GraphDraft.ipynb#X55sZmlsZQ%3D%3D?line=5'>6</a>\u001b[0m \u001b[39mdef\u001b[39;00m \u001b[39mmodularity\u001b[39m(A, parts):\n\u001b[0;32m      <a href='vscode-notebook-cell:/c%3A/Users/wr2zzgx/OneDrive-Deere%26Co/OneDrive%20-%20Deere%20%26%20Co/Documents/MIT/Statistics/GraphDraft.ipynb#X55sZmlsZQ%3D%3D?line=6'>7</a>\u001b[0m \t\u001b[39mreturn\u001b[39;00m \u001b[39msum\u001b[39m([ modularity_partition(A, p) \u001b[39mfor\u001b[39;00m p \u001b[39min\u001b[39;00m parts])\n\u001b[1;32m----> <a href='vscode-notebook-cell:/c%3A/Users/wr2zzgx/OneDrive-Deere%26Co/OneDrive%20-%20Deere%20%26%20Co/Documents/MIT/Statistics/GraphDraft.ipynb#X55sZmlsZQ%3D%3D?line=8'>9</a>\u001b[0m modularity(adjacency_matrix, [[\u001b[39m0\u001b[39;49m,\u001b[39m2\u001b[39;49m,\u001b[39m4\u001b[39;49m,\u001b[39m6\u001b[39;49m,\u001b[39m8\u001b[39;49m], [\u001b[39m1\u001b[39;49m,\u001b[39m3\u001b[39;49m,\u001b[39m5\u001b[39;49m,\u001b[39m7\u001b[39;49m,\u001b[39m9\u001b[39;49m]])\n",
      "\u001b[1;32mc:\\Users\\wr2zzgx\\OneDrive-Deere&Co\\OneDrive - Deere & Co\\Documents\\MIT\\Statistics\\GraphDraft.ipynb Cell 31\u001b[0m line \u001b[0;36mmodularity\u001b[1;34m(A, parts)\u001b[0m\n\u001b[0;32m      <a href='vscode-notebook-cell:/c%3A/Users/wr2zzgx/OneDrive-Deere%26Co/OneDrive%20-%20Deere%20%26%20Co/Documents/MIT/Statistics/GraphDraft.ipynb#X55sZmlsZQ%3D%3D?line=5'>6</a>\u001b[0m \u001b[39mdef\u001b[39;00m \u001b[39mmodularity\u001b[39m(A, parts):\n\u001b[1;32m----> <a href='vscode-notebook-cell:/c%3A/Users/wr2zzgx/OneDrive-Deere%26Co/OneDrive%20-%20Deere%20%26%20Co/Documents/MIT/Statistics/GraphDraft.ipynb#X55sZmlsZQ%3D%3D?line=6'>7</a>\u001b[0m \t\u001b[39mreturn\u001b[39;00m \u001b[39msum\u001b[39m([ modularity_partition(A, p) \u001b[39mfor\u001b[39;00m p \u001b[39min\u001b[39;00m parts])\n",
      "\u001b[1;32mc:\\Users\\wr2zzgx\\OneDrive-Deere&Co\\OneDrive - Deere & Co\\Documents\\MIT\\Statistics\\GraphDraft.ipynb Cell 31\u001b[0m line \u001b[0;36m<listcomp>\u001b[1;34m(.0)\u001b[0m\n\u001b[0;32m      <a href='vscode-notebook-cell:/c%3A/Users/wr2zzgx/OneDrive-Deere%26Co/OneDrive%20-%20Deere%20%26%20Co/Documents/MIT/Statistics/GraphDraft.ipynb#X55sZmlsZQ%3D%3D?line=5'>6</a>\u001b[0m \u001b[39mdef\u001b[39;00m \u001b[39mmodularity\u001b[39m(A, parts):\n\u001b[1;32m----> <a href='vscode-notebook-cell:/c%3A/Users/wr2zzgx/OneDrive-Deere%26Co/OneDrive%20-%20Deere%20%26%20Co/Documents/MIT/Statistics/GraphDraft.ipynb#X55sZmlsZQ%3D%3D?line=6'>7</a>\u001b[0m \t\u001b[39mreturn\u001b[39;00m \u001b[39msum\u001b[39m([ modularity_partition(A, p) \u001b[39mfor\u001b[39;00m p \u001b[39min\u001b[39;00m parts])\n",
      "\u001b[1;32mc:\\Users\\wr2zzgx\\OneDrive-Deere&Co\\OneDrive - Deere & Co\\Documents\\MIT\\Statistics\\GraphDraft.ipynb Cell 31\u001b[0m line \u001b[0;36mmodularity_partition\u001b[1;34m(A, part)\u001b[0m\n\u001b[0;32m      <a href='vscode-notebook-cell:/c%3A/Users/wr2zzgx/OneDrive-Deere%26Co/OneDrive%20-%20Deere%20%26%20Co/Documents/MIT/Statistics/GraphDraft.ipynb#X55sZmlsZQ%3D%3D?line=0'>1</a>\u001b[0m \u001b[39mdef\u001b[39;00m \u001b[39mmodularity_partition\u001b[39m(A, part):\n\u001b[1;32m----> <a href='vscode-notebook-cell:/c%3A/Users/wr2zzgx/OneDrive-Deere%26Co/OneDrive%20-%20Deere%20%26%20Co/Documents/MIT/Statistics/GraphDraft.ipynb#X55sZmlsZQ%3D%3D?line=1'>2</a>\u001b[0m \tm \u001b[39m=\u001b[39m A\u001b[39m.\u001b[39;49msum()\u001b[39m/\u001b[39m\u001b[39m2\u001b[39m\n\u001b[0;32m      <a href='vscode-notebook-cell:/c%3A/Users/wr2zzgx/OneDrive-Deere%26Co/OneDrive%20-%20Deere%20%26%20Co/Documents/MIT/Statistics/GraphDraft.ipynb#X55sZmlsZQ%3D%3D?line=2'>3</a>\u001b[0m \tks \u001b[39m=\u001b[39m A\u001b[39m.\u001b[39msum(axis\u001b[39m=\u001b[39m\u001b[39m0\u001b[39m)\n\u001b[0;32m      <a href='vscode-notebook-cell:/c%3A/Users/wr2zzgx/OneDrive-Deere%26Co/OneDrive%20-%20Deere%20%26%20Co/Documents/MIT/Statistics/GraphDraft.ipynb#X55sZmlsZQ%3D%3D?line=3'>4</a>\u001b[0m \t\u001b[39mreturn\u001b[39;00m ( A[part]\u001b[39m.\u001b[39mT[part]\u001b[39m.\u001b[39mT \u001b[39m-\u001b[39m ks[part][:,\u001b[39mNone\u001b[39;00m]\u001b[39m*\u001b[39mks[part][\u001b[39mNone\u001b[39;00m,:]\u001b[39m/\u001b[39m(\u001b[39m2\u001b[39m\u001b[39m*\u001b[39mm) )\u001b[39m.\u001b[39msum()\u001b[39m/\u001b[39m(\u001b[39m2\u001b[39m\u001b[39m*\u001b[39mm)\n",
      "\u001b[1;31mAttributeError\u001b[0m: 'list' object has no attribute 'sum'"
     ]
    }
   ],
   "source": [
    "def modularity_partition(A, part):\n",
    "\tm = A.sum()/2\n",
    "\tks = A.sum(axis=0)\n",
    "\treturn ( A[part].T[part].T - ks[part][:,None]*ks[part][None,:]/(2*m) ).sum()/(2*m)\n",
    "\n",
    "def modularity(A, parts):\n",
    "\treturn sum([ modularity_partition(A, p) for p in parts])\n",
    "\n",
    "modularity(adjacency_matrix, [[0,2,4,6,8], [1,3,5,7,9]])"
   ]
  },
  {
   "cell_type": "code",
   "execution_count": 121,
   "metadata": {},
   "outputs": [
    {
     "name": "stdout",
     "output_type": "stream",
     "text": [
      "Requirement already satisfied: networkx in c:\\users\\wr2zzgx\\anaconda3\\lib\\site-packages (2.7.1)\n"
     ]
    }
   ],
   "source": [
    "!pip install networkx"
   ]
  },
  {
   "cell_type": "code",
   "execution_count": 123,
   "metadata": {},
   "outputs": [],
   "source": [
    "import networkx as nx"
   ]
  },
  {
   "cell_type": "code",
   "execution_count": 124,
   "metadata": {},
   "outputs": [
    {
     "ename": "NotAPartition",
     "evalue": "[[0, 1, 0, 1, 0, 1, 0, 0, 0, 0], [1, 0, 1, 1, 1, 0, 0, 0, 0, 0], [0, 1, 0, 0, 0, 0, 0, 0, 0, 0], [1, 1, 0, 0, 0, 1, 0, 1, 1, 0], [0, 1, 0, 0, 0, 0, 0, 0, 1, 1], [1, 0, 0, 1, 0, 0, 0, 0, 0, 0], [0, 0, 0, 0, 0, 0, 0, 0, 0, 1], [0, 0, 0, 1, 0, 0, 0, 0, 0, 0], [0, 0, 0, 1, 1, 0, 0, 0, 0, 1], [0, 0, 0, 0, 1, 0, 1, 0, 1, 0]] is not a valid partition of the graph [{0, 2, 4, 6, 8}, {1, 3, 5, 7, 9}]",
     "output_type": "error",
     "traceback": [
      "\u001b[1;31m---------------------------------------------------------------------------\u001b[0m",
      "\u001b[1;31mNotAPartition\u001b[0m                             Traceback (most recent call last)",
      "\u001b[1;32mc:\\Users\\wr2zzgx\\OneDrive-Deere&Co\\OneDrive - Deere & Co\\Documents\\MIT\\Statistics\\GraphDraft.ipynb Cell 33\u001b[0m line \u001b[0;36m<cell line: 1>\u001b[1;34m()\u001b[0m\n\u001b[1;32m----> <a href='vscode-notebook-cell:/c%3A/Users/wr2zzgx/OneDrive-Deere%26Co/OneDrive%20-%20Deere%20%26%20Co/Documents/MIT/Statistics/GraphDraft.ipynb#X52sZmlsZQ%3D%3D?line=0'>1</a>\u001b[0m nx\u001b[39m.\u001b[39;49mcommunity\u001b[39m.\u001b[39;49mmodularity(adjacency_matrix, [{\u001b[39m0\u001b[39;49m, \u001b[39m2\u001b[39;49m, \u001b[39m4\u001b[39;49m, \u001b[39m6\u001b[39;49m, \u001b[39m8\u001b[39;49m}, {\u001b[39m1\u001b[39;49m, \u001b[39m3\u001b[39;49m, \u001b[39m5\u001b[39;49m, \u001b[39m7\u001b[39;49m, \u001b[39m9\u001b[39;49m}])\n",
      "File \u001b[1;32mc:\\Users\\wr2zzgx\\Anaconda3\\lib\\site-packages\\networkx\\algorithms\\community\\quality.py:330\u001b[0m, in \u001b[0;36mmodularity\u001b[1;34m(G, communities, weight, resolution)\u001b[0m\n\u001b[0;32m    328\u001b[0m     communities \u001b[39m=\u001b[39m \u001b[39mlist\u001b[39m(communities)\n\u001b[0;32m    329\u001b[0m \u001b[39mif\u001b[39;00m \u001b[39mnot\u001b[39;00m is_partition(G, communities):\n\u001b[1;32m--> 330\u001b[0m     \u001b[39mraise\u001b[39;00m NotAPartition(G, communities)\n\u001b[0;32m    332\u001b[0m directed \u001b[39m=\u001b[39m G\u001b[39m.\u001b[39mis_directed()\n\u001b[0;32m    333\u001b[0m \u001b[39mif\u001b[39;00m directed:\n",
      "\u001b[1;31mNotAPartition\u001b[0m: [[0, 1, 0, 1, 0, 1, 0, 0, 0, 0], [1, 0, 1, 1, 1, 0, 0, 0, 0, 0], [0, 1, 0, 0, 0, 0, 0, 0, 0, 0], [1, 1, 0, 0, 0, 1, 0, 1, 1, 0], [0, 1, 0, 0, 0, 0, 0, 0, 1, 1], [1, 0, 0, 1, 0, 0, 0, 0, 0, 0], [0, 0, 0, 0, 0, 0, 0, 0, 0, 1], [0, 0, 0, 1, 0, 0, 0, 0, 0, 0], [0, 0, 0, 1, 1, 0, 0, 0, 0, 1], [0, 0, 0, 0, 1, 0, 1, 0, 1, 0]] is not a valid partition of the graph [{0, 2, 4, 6, 8}, {1, 3, 5, 7, 9}]"
     ]
    }
   ],
   "source": [
    "nx.community.modularity(adjacency_matrix, [{0, 2, 4, 6, 8}, {1, 3, 5, 7, 9}])"
   ]
  },
  {
   "cell_type": "code",
   "execution_count": null,
   "metadata": {},
   "outputs": [],
   "source": []
  }
 ],
 "metadata": {
  "kernelspec": {
   "display_name": "base",
   "language": "python",
   "name": "python3"
  },
  "language_info": {
   "codemirror_mode": {
    "name": "ipython",
    "version": 3
   },
   "file_extension": ".py",
   "mimetype": "text/x-python",
   "name": "python",
   "nbconvert_exporter": "python",
   "pygments_lexer": "ipython3",
   "version": "3.9.12"
  },
  "orig_nbformat": 4
 },
 "nbformat": 4,
 "nbformat_minor": 2
}
