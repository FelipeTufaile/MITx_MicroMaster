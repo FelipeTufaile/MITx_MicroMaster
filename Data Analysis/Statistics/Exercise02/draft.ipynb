{
 "cells": [
  {
   "cell_type": "code",
   "execution_count": 1,
   "metadata": {},
   "outputs": [],
   "source": [
    "import numpy as np"
   ]
  },
  {
   "cell_type": "code",
   "execution_count": 7,
   "metadata": {},
   "outputs": [
    {
     "data": {
      "text/plain": [
       "array([[1, 1, 0],\n",
       "       [0, 0, 1],\n",
       "       [1, 0, 0]])"
      ]
     },
     "execution_count": 7,
     "metadata": {},
     "output_type": "execute_result"
    }
   ],
   "source": [
    "A = np.array([[1,1,0], [0,0,1], [1,0,0]])\n",
    "A"
   ]
  },
  {
   "cell_type": "code",
   "execution_count": 11,
   "metadata": {},
   "outputs": [
    {
     "data": {
      "text/plain": [
       "array([[1, 1, 1],\n",
       "       [1, 0, 0],\n",
       "       [1, 1, 0]])"
      ]
     },
     "execution_count": 11,
     "metadata": {},
     "output_type": "execute_result"
    }
   ],
   "source": [
    "A2 = A@A\n",
    "\n",
    "A2"
   ]
  },
  {
   "cell_type": "code",
   "execution_count": 13,
   "metadata": {},
   "outputs": [
    {
     "data": {
      "text/plain": [
       "array([[2, 1, 1],\n",
       "       [1, 1, 0],\n",
       "       [1, 1, 1]])"
      ]
     },
     "execution_count": 13,
     "metadata": {},
     "output_type": "execute_result"
    }
   ],
   "source": [
    "A3 = A@A2\n",
    "A3"
   ]
  },
  {
   "cell_type": "code",
   "execution_count": 14,
   "metadata": {},
   "outputs": [],
   "source": [
    "A = np.array([\n",
    "    [0, 1, 0, 1, 0, 1, 0, 0, 0, 0],\n",
    "\t[1, 0, 1, 1, 1, 0, 0, 0, 0, 0],\n",
    "\t[0, 1, 0, 0, 0, 0, 0, 0, 0, 0],\n",
    "\t[1, 1, 0, 0, 0, 1, 0, 1, 1, 0],\n",
    "\t[0, 1, 0, 0, 0, 0, 0, 0, 1, 1],\n",
    "\t[1, 0, 0, 1, 0, 0, 0, 0, 0, 0],\n",
    "\t[0, 0, 0, 0, 0, 0, 0, 0, 0, 1],\n",
    "\t[0, 0, 0, 1, 0, 0, 0, 0, 0, 0],\n",
    "\t[0, 0, 0, 1, 1, 0, 0, 0, 0, 1],\n",
    "\t[0, 0, 0, 0, 1, 0, 1, 0, 1, 0]\n",
    "])"
   ]
  },
  {
   "cell_type": "code",
   "execution_count": 15,
   "metadata": {},
   "outputs": [
    {
     "data": {
      "text/plain": [
       "0"
      ]
     },
     "execution_count": 15,
     "metadata": {},
     "output_type": "execute_result"
    }
   ],
   "source": [
    "np.trace(A)"
   ]
  },
  {
   "cell_type": "code",
   "execution_count": 16,
   "metadata": {},
   "outputs": [
    {
     "data": {
      "text/plain": [
       "array([[ True,  True,  True,  True,  True,  True,  True,  True,  True,\n",
       "         True],\n",
       "       [ True,  True,  True,  True,  True,  True,  True,  True,  True,\n",
       "         True],\n",
       "       [ True,  True,  True,  True,  True,  True,  True,  True,  True,\n",
       "         True],\n",
       "       [ True,  True,  True,  True,  True,  True,  True,  True,  True,\n",
       "         True],\n",
       "       [ True,  True,  True,  True,  True,  True,  True,  True,  True,\n",
       "         True],\n",
       "       [ True,  True,  True,  True,  True,  True,  True,  True,  True,\n",
       "         True],\n",
       "       [ True,  True,  True,  True,  True,  True,  True,  True,  True,\n",
       "         True],\n",
       "       [ True,  True,  True,  True,  True,  True,  True,  True,  True,\n",
       "         True],\n",
       "       [ True,  True,  True,  True,  True,  True,  True,  True,  True,\n",
       "         True],\n",
       "       [ True,  True,  True,  True,  True,  True,  True,  True,  True,\n",
       "         True]])"
      ]
     },
     "execution_count": 16,
     "metadata": {},
     "output_type": "execute_result"
    }
   ],
   "source": [
    "A == A.T"
   ]
  },
  {
   "cell_type": "code",
   "execution_count": 17,
   "metadata": {},
   "outputs": [
    {
     "data": {
      "text/plain": [
       "26"
      ]
     },
     "execution_count": 17,
     "metadata": {},
     "output_type": "execute_result"
    }
   ],
   "source": []
  },
  {
   "cell_type": "code",
   "execution_count": 24,
   "metadata": {},
   "outputs": [],
   "source": [
    "def is_connected(adj_matrix):\n",
    "    # initialize visited list and stack\n",
    "    visited = [False] * len(adj_matrix)\n",
    "    stack = []\n",
    "\n",
    "    # push the first vertex into stack and mark it as visited\n",
    "    stack.append(0)\n",
    "    visited[0] = True\n",
    "\n",
    "    # while stack is not empty, do DFS\n",
    "    while stack:\n",
    "        # pop the top vertex from stack\n",
    "        current_vertex = stack.pop()\n",
    "\n",
    "        # iterate over its neighbors\n",
    "        for neighbor in range(len(adj_matrix)):\n",
    "            if adj_matrix[current_vertex][neighbor] == 1 and not visited[neighbor]:\n",
    "                visited[neighbor] = True\n",
    "                stack.append(neighbor)\n",
    "\n",
    "    # check if all vertices have been visited\n",
    "    return all(visited)\n"
   ]
  },
  {
   "cell_type": "code",
   "execution_count": 25,
   "metadata": {},
   "outputs": [
    {
     "data": {
      "text/plain": [
       "True"
      ]
     },
     "execution_count": 25,
     "metadata": {},
     "output_type": "execute_result"
    }
   ],
   "source": [
    "is_connected(adj_matrix=A)"
   ]
  },
  {
   "cell_type": "code",
   "execution_count": 26,
   "metadata": {},
   "outputs": [],
   "source": [
    "def count_connected_components(adj_matrix):\n",
    "    # initialize visited list and stack\n",
    "    visited = [False] * len(adj_matrix)\n",
    "    count = 0\n",
    "\n",
    "    # for each vertex, run DFS\n",
    "    for vertex in range(len(adj_matrix)):\n",
    "        if not visited[vertex]:\n",
    "            # increment count and perform DFS\n",
    "            count += 1\n",
    "            stack = []\n",
    "            stack.append(vertex)\n",
    "            visited[vertex] = True\n",
    "\n",
    "            while stack:\n",
    "                # pop the top vertex from stack\n",
    "                current_vertex = stack.pop()\n",
    "\n",
    "                # iterate over its neighbors\n",
    "                for neighbor in range(len(adj_matrix)):\n",
    "                    if adj_matrix[current_vertex][neighbor] == 1 and not visited[neighbor]:\n",
    "                        visited[neighbor] = True\n",
    "                        stack.append(neighbor)\n",
    "\n",
    "    # return the count of connected components\n",
    "    return count\n"
   ]
  },
  {
   "cell_type": "code",
   "execution_count": 27,
   "metadata": {},
   "outputs": [
    {
     "data": {
      "text/plain": [
       "1"
      ]
     },
     "execution_count": 27,
     "metadata": {},
     "output_type": "execute_result"
    }
   ],
   "source": [
    "count_connected_components(adj_matrix=A)"
   ]
  },
  {
   "cell_type": "code",
   "execution_count": 28,
   "metadata": {},
   "outputs": [],
   "source": [
    "def max_degree(adj_matrix):\n",
    "    # initialize max degree to 0\n",
    "    max_deg = 0\n",
    "\n",
    "    # iterate over each row in the adjacency matrix\n",
    "    for i in range(len(adj_matrix)):\n",
    "        # count the number of non-zero elements in the row\n",
    "        row_deg = sum(adj_matrix[i])\n",
    "\n",
    "        # update the max degree if the current row degree is greater than the current max degree\n",
    "        if row_deg > max_deg:\n",
    "            max_deg = row_deg\n",
    "\n",
    "    # return the max degree\n",
    "    return max_deg\n"
   ]
  },
  {
   "cell_type": "code",
   "execution_count": 29,
   "metadata": {},
   "outputs": [
    {
     "data": {
      "text/plain": [
       "5"
      ]
     },
     "execution_count": 29,
     "metadata": {},
     "output_type": "execute_result"
    }
   ],
   "source": [
    "max_degree(adj_matrix=A)"
   ]
  },
  {
   "cell_type": "code",
   "execution_count": 30,
   "metadata": {},
   "outputs": [
    {
     "data": {
      "text/plain": [
       "array([[46, 59, 14, 62, 30, 40,  5, 21, 38, 25],\n",
       "       [59, 36, 28, 88, 57, 28, 10, 14, 30, 27],\n",
       "       [14, 28,  2, 14,  6, 17,  2, 10, 19, 10],\n",
       "       [62, 88, 14, 58, 33, 58, 11, 37, 68, 30],\n",
       "       [30, 57,  6, 33, 24, 32,  9, 20, 47, 32],\n",
       "       [40, 28, 17, 58, 32, 22,  4, 11, 19, 16],\n",
       "       [ 5, 10,  2, 11,  9,  4,  2,  2,  9, 13],\n",
       "       [21, 14, 10, 37, 20, 11,  2,  4,  8, 11],\n",
       "       [38, 30, 19, 68, 47, 19,  9,  8, 26, 33],\n",
       "       [25, 27, 10, 30, 32, 16, 13, 11, 33, 20]])"
      ]
     },
     "execution_count": 30,
     "metadata": {},
     "output_type": "execute_result"
    }
   ],
   "source": [
    "A@(A@(A@(A@A)))"
   ]
  },
  {
   "cell_type": "code",
   "execution_count": 34,
   "metadata": {},
   "outputs": [
    {
     "data": {
      "text/plain": [
       "array([[ 4,  7,  1,  7,  2,  5,  0,  2,  3,  2],\n",
       "       [ 7,  2,  4, 10,  7,  2,  1,  1,  2,  2],\n",
       "       [ 1,  4,  0,  1,  0,  2,  0,  1,  2,  1],\n",
       "       [ 7, 10,  1,  4,  2,  7,  1,  5,  8,  2],\n",
       "       [ 2,  7,  0,  2,  2,  3,  1,  2,  6,  5],\n",
       "       [ 5,  2,  2,  7,  3,  2,  0,  1,  1,  1],\n",
       "       [ 0,  1,  0,  1,  1,  0,  0,  0,  1,  3],\n",
       "       [ 2,  1,  1,  5,  2,  1,  0,  0,  0,  1],\n",
       "       [ 3,  2,  2,  8,  6,  1,  1,  0,  2,  5],\n",
       "       [ 2,  2,  1,  2,  5,  1,  3,  1,  5,  2]])"
      ]
     },
     "execution_count": 34,
     "metadata": {},
     "output_type": "execute_result"
    }
   ],
   "source": [
    "A@(A@A)"
   ]
  },
  {
   "cell_type": "code",
   "execution_count": 32,
   "metadata": {},
   "outputs": [
    {
     "name": "stdout",
     "output_type": "stream",
     "text": [
      "l: 2 | min: 0\n",
      "l: 3 | min: 0\n",
      "l: 4 | min: 1\n"
     ]
    }
   ],
   "source": [
    "run = True\n",
    "A_l = A\n",
    "l = 2\n",
    "while(run):\n",
    "    A_l = A@A_l\n",
    "    min_val = np.min(A_l)\n",
    "    print(f\"l: {l} | min: {min_val}\")\n",
    "    if(min_val > 0):\n",
    "        break\n",
    "    else:\n",
    "        l += 1"
   ]
  },
  {
   "cell_type": "code",
   "execution_count": null,
   "metadata": {},
   "outputs": [],
   "source": []
  }
 ],
 "metadata": {
  "kernelspec": {
   "display_name": "base",
   "language": "python",
   "name": "python3"
  },
  "language_info": {
   "codemirror_mode": {
    "name": "ipython",
    "version": 3
   },
   "file_extension": ".py",
   "mimetype": "text/x-python",
   "name": "python",
   "nbconvert_exporter": "python",
   "pygments_lexer": "ipython3",
   "version": "3.9.12"
  },
  "orig_nbformat": 4
 },
 "nbformat": 4,
 "nbformat_minor": 2
}
