{
 "cells": [
  {
   "cell_type": "code",
   "execution_count": null,
   "metadata": {},
   "outputs": [],
   "source": [
    "# Importing numpy\n",
    "import numpy as np\n",
    "\n",
    "# Importing pandas\n",
    "import pandas as pd\n",
    "\n",
    "# Importing PCA\n",
    "from sklearn.decomposition import PCA\n",
    "\n",
    "# Importing MDS\n",
    "from sklearn.manifold import MDS\n",
    "\n",
    "# Importing T-SNE\n",
    "from sklearn.manifold import TSNE\n",
    "\n",
    "# Importing train test split function\n",
    "from sklearn.model_selection import train_test_split\n",
    "\n",
    "# Importing Seaborn\n",
    "import seaborn as sns\n",
    "\n",
    "# Importing matplotlib\n",
    "import matplotlib.pyplot as plt\n",
    "\n",
    "# Importing K-Means Clustering\n",
    "from sklearn.cluster import KMeans, DBSCAN\n",
    "\n",
    "# Importing Logistic Regression Cross-Validation function\n",
    "from sklearn.linear_model import LogisticRegressionCV\n",
    "\n",
    "# Importing Warnings\n",
    "import warnings\n",
    "\n",
    "# Importing pickle\n",
    "import pickle\n",
    "\n",
    "# suppress FutureWarning\n",
    "warnings.filterwarnings(\"ignore\", category=FutureWarning)"
   ]
  },
  {
   "cell_type": "markdown",
   "metadata": {},
   "source": [
    "## Problem 1"
   ]
  },
  {
   "cell_type": "code",
   "execution_count": null,
   "metadata": {},
   "outputs": [],
   "source": [
    "# Loading the data\n",
    "X=np.load(\"X2.npy\")\n",
    "\n",
    "# Printing the shape of the resulting datasets\n",
    "print(f\"X shape: Number of cells (rows) {X.shape[0]} | Number of genes (columns) {X.shape[1]}\")\n",
    "\n",
    "# Calculating max X value for the first column\n",
    "print(f\"Max X for the first column: {np.max(X[:,0])}\")\n",
    "\n",
    "# Transforming the X data to log2\n",
    "X_log = np.log2(X+1)\n",
    "\n",
    "# Calculating max Xlog value for the first column\n",
    "print(f\"Max Xlog for the first column: {np.max(X_log[:,0])}\")"
   ]
  },
  {
   "cell_type": "code",
   "execution_count": null,
   "metadata": {},
   "outputs": [],
   "source": [
    "# Clustering cells\n",
    "kmeans_X_log = KMeans(n_clusters=3, n_init=100).fit(X_log)\n",
    "\n",
    "# Calculating PCA for the X_log matrix\n",
    "pca_X_log = PCA(n_components=0.85)\n",
    "pca_X_log.fit(X_log.T);\n",
    "\n",
    "# Print summary of the PCA calculation result\n",
    "print(f\"Explained variance: {round(np.sum(pca_X_log.explained_variance_ratio_),3)}\")\n",
    "print(f\"Number of components ('Genes' components): {pca_X_log.n_components_}\")\n",
    "\n",
    "# Creating a PCA embedding with the X_log data\n",
    "pca_embedding_X_log = pca_X_log.components_.T\n",
    "\n",
    "# Printing the shape of the resulting datasets\n",
    "print(f\"X_log PCA shape: Number of cells (rows) {pca_embedding_X_log.shape[0]} | Number of PC genes (columns) {pca_embedding_X_log.shape[1]}\")"
   ]
  },
  {
   "cell_type": "code",
   "execution_count": null,
   "metadata": {},
   "outputs": [],
   "source": [
    "# set the size of the plot\n",
    "plt.figure(figsize=(8, 6))\n",
    "\n",
    "# Plotting clusters in the T-SNE embedding\n",
    "sns.scatterplot(x=pca_embedding_X_log[:,0], y=pca_embedding_X_log[:,1], hue=kmeans_X_log.labels_)\n",
    "\n",
    "# add custom title, x-label, and y-label\n",
    "plt.title(\"Brain cells types explained by the two first principal components (PC) for genes using PCA embedding\")\n",
    "plt.xlabel(\"PC1 for Genes\")\n",
    "plt.ylabel(\"PC2 for Genes\")\n",
    "\n",
    "# display the plot\n",
    "plt.show()"
   ]
  },
  {
   "cell_type": "code",
   "execution_count": null,
   "metadata": {},
   "outputs": [],
   "source": [
    "# Creating a MDS embedding\n",
    "mds_embedding_X_log = MDS(n_components=2).fit_transform(X_log)\n",
    "\n",
    "# set the size of the plot\n",
    "plt.figure(figsize=(8, 6))\n",
    "\n",
    "# Plotting clusters in the T-SNE embedding\n",
    "sns.scatterplot(x=mds_embedding_X_log[:,0], y=mds_embedding_X_log[:,1], hue=kmeans_X_log.labels_)\n",
    "\n",
    "# add custom title, x-label, and y-label\n",
    "plt.title(\"Brain cells types explained by the two first principal components (PC) for genes using MDS embedding\")\n",
    "plt.xlabel(\"PC1 for Genes\")\n",
    "plt.ylabel(\"PC2 for Genes\")\n",
    "\n",
    "# display the plot\n",
    "plt.show()"
   ]
  },
  {
   "cell_type": "code",
   "execution_count": null,
   "metadata": {},
   "outputs": [],
   "source": [
    "# Creating a T-SNE embedding with the PCA embedding data\n",
    "tsne_embedding_X_log = TSNE(n_components=2, perplexity=55).fit_transform(X_log)\n",
    "\n",
    "# set the size of the plot\n",
    "plt.figure(figsize=(8, 6))\n",
    "\n",
    "# Plotting clusters in the T-SNE embedding\n",
    "sns.scatterplot(x=tsne_embedding_X_log[:,0], y=tsne_embedding_X_log[:,1], hue=kmeans_X_log.labels_+1)\n",
    "\n",
    "# add custom title, x-label, and y-label\n",
    "plt.title(f\"Brain cells sub-types explained by genes principal components (PC) using t-SNE embedding (Perplexity: {55})\")\n",
    "plt.xlabel(\"Genes PC1\")\n",
    "plt.ylabel(\"Genes PC2\")\n",
    "\n",
    "# display the plot\n",
    "plt.show()"
   ]
  },
  {
   "cell_type": "code",
   "execution_count": null,
   "metadata": {},
   "outputs": [],
   "source": [
    "# Creating cluster using DBSCAN\n",
    "dbscan_clusters = DBSCAN(eps=1.51, min_samples=10).fit(tsne_embedding_X_log)"
   ]
  },
  {
   "cell_type": "code",
   "execution_count": null,
   "metadata": {},
   "outputs": [],
   "source": [
    "cluster_df = (\n",
    "    pd.DataFrame(tsne_embedding_X_log, columns=['PC1', 'PC2'], index=dbscan_clusters.labels_+1)\n",
    "    .reset_index()\n",
    "    .rename(columns={'index':'cell_sub_type'})\n",
    "    .assign(cell_type = lambda x:np.where(x.cell_sub_type.isin([0,1,2,3]), 1, np.where(x.cell_sub_type.isin([8,9,10,11]), 2, 3)))\n",
    "    [['cell_type', 'cell_sub_type', 'PC1', 'PC2']]\n",
    ")\n",
    "\n",
    "cluster_df"
   ]
  },
  {
   "cell_type": "code",
   "execution_count": null,
   "metadata": {},
   "outputs": [],
   "source": [
    "(\n",
    "    cluster_df\n",
    "    .assign(PC1_min = lambda x:x.PC1)\n",
    "    .assign(PC1_max = lambda x:x.PC1)\n",
    "    .assign(PC1_mean = lambda x:x.PC1)\n",
    "    .assign(PC2_min = lambda x:x.PC2)\n",
    "    .assign(PC2_max = lambda x:x.PC2)\n",
    "    .assign(PC2_mean = lambda x:x.PC2)\n",
    "    .groupby(['cell_type'])\n",
    "    .agg({\n",
    "        'PC1_min':np.min,\n",
    "        'PC1_max':np.max,\n",
    "        'PC1_mean':np.mean,\n",
    "        'PC2_min':np.min,\n",
    "        'PC2_max':np.max,\n",
    "        'PC2_mean':np.mean\n",
    "    })\n",
    "    .reset_index()\n",
    "    .assign(PC1_Domain = lambda x: [f\"[{round(i,2)}, {round(j,2)}]\" for i, j in zip(x.PC1_min, x.PC1_max)])\n",
    "    .assign(PC2_Domain = lambda x: [f\"[{round(i,2)}, {round(j,2)}]\" for i, j in zip(x.PC2_min, x.PC2_max)])\n",
    "    .assign(Center = lambda x: [f\"[{round(i,2)}, {round(j,2)}]\" for i, j in zip(x.PC1_mean, x.PC2_mean)])\n",
    "    [['cell_type', 'PC1_Domain', 'PC2_Domain', 'Center']]\n",
    ")"
   ]
  },
  {
   "cell_type": "code",
   "execution_count": null,
   "metadata": {},
   "outputs": [],
   "source": [
    "# create a figure with 3 subplots in a row\n",
    "fig, axs = plt.subplots(1, 3, figsize=(16, 4))\n",
    "\n",
    "# create a scatter plot in each subplot\n",
    "sns.scatterplot(data=cluster_df[cluster_df.cluster.isin([0,1,2,3])], x=\"PC1\", y=\"PC2\", hue=\"cluster\", ax=axs[0], palette=sns.color_palette(\"hls\", 4))\n",
    "sns.scatterplot(data=cluster_df[cluster_df.cluster.isin([8,9,10,11])], x=\"PC1\", y=\"PC2\", hue=\"cluster\", ax=axs[1], palette=sns.color_palette(\"hls\", 4))\n",
    "sns.scatterplot(data=cluster_df[cluster_df.cluster.isin([4,5,6,7])], x=\"PC1\", y=\"PC2\", hue=\"cluster\", ax=axs[2], palette=sns.color_palette(\"hls\", 4))\n",
    "\n",
    "# add custom titles to each subplot\n",
    "axs[0].set_title(\"Cell type I\")\n",
    "axs[1].set_title(\"Cell type II\")\n",
    "axs[2].set_title(\"Cell type III\")\n",
    "\n",
    "# add custom x-labels and y-labels to each subplot\n",
    "axs[0].set_xlabel(\"Genes PC1\")\n",
    "axs[0].set_ylabel(\"Genes PC2\")\n",
    "axs[1].set_xlabel(\"Genes PC1\")\n",
    "axs[1].set_ylabel(\"Genes PC2\")\n",
    "axs[2].set_xlabel(\"Genes PC1\")\n",
    "axs[2].set_ylabel(\"Genes PC2\")\n",
    "\n",
    "# adjust the space between subplots\n",
    "plt.subplots_adjust(wspace=0.3)\n",
    "\n",
    "# display the plot\n",
    "plt.show()\n"
   ]
  },
  {
   "cell_type": "markdown",
   "metadata": {},
   "source": [
    "## Problem 2"
   ]
  },
  {
   "cell_type": "code",
   "execution_count": null,
   "metadata": {},
   "outputs": [],
   "source": [
    "# set the size of the plot\n",
    "plt.figure(figsize=(12, 8))\n",
    "\n",
    "sns.scatterplot(data=cluster_df, x=\"PC1\", y=\"PC2\", hue=\"cluster\", palette=sns.color_palette(\"hls\", 12))\n",
    "\n",
    "# add custom title, x-label, and y-label\n",
    "plt.title(f\"Brain cells sub-types explained by genes principal components (PC) using t-SNE embedding (Perplexity: {55}) - Clusters created using DBSCAN\")\n",
    "plt.xlabel(\"Genes PC1\")\n",
    "plt.ylabel(\"Genes PC2\")\n",
    "\n",
    "# display the plot\n",
    "plt.show()"
   ]
  },
  {
   "cell_type": "code",
   "execution_count": null,
   "metadata": {},
   "outputs": [],
   "source": [
    "(\n",
    "    cluster_df\n",
    "    .assign(cell_sub_type = lambda x: np.where(x.cell_sub_type == 0, 1, x.cell_sub_type))\n",
    "    .assign(PC1_min = lambda x:x.PC1)\n",
    "    .assign(PC1_max = lambda x:x.PC1)\n",
    "    .assign(PC1_mean = lambda x:x.PC1)\n",
    "    .assign(PC2_min = lambda x:x.PC2)\n",
    "    .assign(PC2_max = lambda x:x.PC2)\n",
    "    .assign(PC2_mean = lambda x:x.PC2)\n",
    "    .groupby(['cell_type', 'cell_sub_type'])\n",
    "    .agg({\n",
    "        'PC1_min':np.min,\n",
    "        'PC1_max':np.max,\n",
    "        'PC1_mean':np.mean,\n",
    "        'PC2_min':np.min,\n",
    "        'PC2_max':np.max,\n",
    "        'PC2_mean':np.mean\n",
    "    })\n",
    "    .reset_index()\n",
    "    .assign(PC1_Domain = lambda x: [f\"[{round(i,2)}, {round(j,2)}]\" for i, j in zip(x.PC1_min, x.PC1_max)])\n",
    "    .assign(PC2_Domain = lambda x: [f\"[{round(i,2)}, {round(j,2)}]\" for i, j in zip(x.PC2_min, x.PC2_max)])\n",
    "    .assign(Center = lambda x: [f\"[{round(i,2)}, {round(j,2)}]\" for i, j in zip(x.PC1_mean, x.PC2_mean)])\n",
    "    [['cell_type', 'cell_sub_type', 'PC1_Domain', 'PC2_Domain', 'Center']]\n",
    ")"
   ]
  },
  {
   "cell_type": "code",
   "execution_count": null,
   "metadata": {},
   "outputs": [],
   "source": [
    "labels_df = (\n",
    "    cluster_df\n",
    "    .assign(cell_sub_type = lambda x: np.where(x.cell_sub_type == 0, 1, x.cell_sub_type))\n",
    "    [['cell_sub_type']]\n",
    ")"
   ]
  },
  {
   "cell_type": "code",
   "execution_count": null,
   "metadata": {},
   "outputs": [],
   "source": [
    "#labels_df.to_csv(\"p2_cluster_labels_X_FT\")"
   ]
  },
  {
   "cell_type": "markdown",
   "metadata": {},
   "source": [
    "## Logistic Regression"
   ]
  },
  {
   "cell_type": "markdown",
   "metadata": {},
   "source": [
    "### Part 1"
   ]
  },
  {
   "cell_type": "code",
   "execution_count": null,
   "metadata": {},
   "outputs": [],
   "source": [
    "# Defining X\n",
    "X = np.load(\"X2.npy\")\n",
    "\n",
    "# Transforming the X data to log2\n",
    "X_log = np.log2(X+1)\n",
    "\n",
    "# Defining y\n",
    "y = pd.read_csv(\"p2_cluster_labels_X_FT\").cell_sub_type.values\n",
    "\n",
    "# Splitting dataset into train, test and validation sets\n",
    "X_train, X_test, y_train, y_test = train_test_split(X_log, y, test_size=0.30, stratify=y, random_state=42)\n",
    "\n",
    "print(f\"X_train size: {X_train.shape[0]} | y_train size: {y_train.shape[0]}\")\n",
    "print(f\"X_test  size: {X_test.shape[0]}  | y_test  size: {y_test.shape[0]}\")"
   ]
  },
  {
   "cell_type": "code",
   "execution_count": null,
   "metadata": {},
   "outputs": [],
   "source": [
    "# Implementing cross-validation on logistic regression\n",
    "cv_clf = LogisticRegressionCV(\n",
    "    cv=5,                   # number of cross-validation folds\n",
    "    Cs=100,                 # number of regularization values to attempt\n",
    "    penalty='l1',           # penalty to implement: l1 - Lasso and l2 - Ridge\n",
    "    solver='liblinear',     # solver that allows l1 and l2 regularizations\n",
    "    tol=1e-5,               # tolerance\n",
    "    max_iter=100,           # max number of iterations\n",
    "    multi_class='ovr',      # in a multi-class context it will be performed one-versus-all\n",
    "    random_state=42         # random state\n",
    ").fit(X_train, y_train)"
   ]
  },
  {
   "cell_type": "code",
   "execution_count": null,
   "metadata": {},
   "outputs": [],
   "source": [
    "#pickle.dump(cv_clf, open(\"cv_clf.pickle\", \"wb\"))"
   ]
  },
  {
   "cell_type": "code",
   "execution_count": null,
   "metadata": {},
   "outputs": [],
   "source": [
    "# Reading model\n",
    "cv_clf = pickle.load(open(\"cv_clf.pickle\", \"rb\"))"
   ]
  },
  {
   "cell_type": "code",
   "execution_count": null,
   "metadata": {},
   "outputs": [],
   "source": [
    "# overall performance\n",
    "print(f\"Overall Accuracy: {round(np.mean(1*(cv_clf.predict(X_test) == y_test)), 3)}\")"
   ]
  },
  {
   "cell_type": "code",
   "execution_count": null,
   "metadata": {},
   "outputs": [],
   "source": [
    "(\n",
    "    pd.DataFrame(zip(y_test, 1*(cv_clf.predict(X_test) == y_test)), columns=['Cluster Label', 'True Positive (Predicted)'])\n",
    "    .assign(Total = lambda x:1)\n",
    "    .groupby(['Cluster Label'])\n",
    "    .sum()\n",
    "    .reset_index()\n",
    "    .assign(Accuracy = lambda x:x['True Positive (Predicted)']/x.Total)\n",
    ")"
   ]
  },
  {
   "cell_type": "code",
   "execution_count": null,
   "metadata": {},
   "outputs": [],
   "source": [
    "# Save indexes for the best 100 features\n",
    "#with open('index_100.npy', 'wb') as f:\n",
    "#    np.save(f, index_100)"
   ]
  },
  {
   "cell_type": "markdown",
   "metadata": {},
   "source": [
    "### Part 2"
   ]
  },
  {
   "cell_type": "code",
   "execution_count": null,
   "metadata": {},
   "outputs": [],
   "source": [
    "# Loading the X p2 evaluation data and applying the log2(X+1) transformation\n",
    "X_train_p2_eval = np.log2(np.load(\"X_train.npy\")+1)\n",
    "X_test_p2_eval  = np.log2(np.load(\"X_test.npy\") +1)\n",
    "\n",
    "# Selecting the 100 best features\n",
    "index_best_100 = (-np.sum(np.abs(cv_clf.coef_), axis=0)).argsort()[:100]\n",
    "X_train_p2_eval_best_100 = X_train_p2_eval[:,index_best_100]\n",
    "X_test_p2_eval_best_100   = X_test_p2_eval[:,index_best_100]\n",
    "\n",
    "# Selecting 100 random features\n",
    "np.random.seed(42)\n",
    "index_random_100 = np.random.choice(a=range(0, X_train_p2_eval.shape[1]), size=100)\n",
    "X_train_p2_eval_random_100 = X_train_p2_eval[:,index_random_100]\n",
    "X_test_p2_eval_random_100  = X_test_p2_eval[:,index_random_100]\n",
    "\n",
    "# Selecting the 100 features with the highest variance\n",
    "index_high_variance_100 = (-np.std(X_train_p2_eval, axis=0)).argsort()[:100]\n",
    "X_train_p2_eval_high_variance_100 = X_train_p2_eval[:,index_high_variance_100]\n",
    "X_test_p2_eval_high_variance_100  = X_test_p2_eval[:,index_high_variance_100]\n",
    "\n",
    "# Loading the y p2 evaluation data\n",
    "y_train_p2_eval = np.load(\"y_train.npy\")\n",
    "y_test_p2_eval = np.load(\"y_test.npy\")"
   ]
  },
  {
   "cell_type": "code",
   "execution_count": null,
   "metadata": {},
   "outputs": [],
   "source": [
    "# Re-evaluate the model implementing cross-validation on logistic regression using the reduced dataset X_small\n",
    "cv_clf_best_100 = LogisticRegressionCV(\n",
    "    cv=5,                   # number of cross-validation folds\n",
    "    Cs=100,                 # number of regularization values to attempt\n",
    "    penalty='l1',           # penalty to implement: l1 - Lasso and l2 - Ridge\n",
    "    solver='liblinear',     # solver that allows l1 and l2 regularizations\n",
    "    tol=1e-5,               # tolerance\n",
    "    max_iter=1000,          # max number of iterations\n",
    "    multi_class='ovr',      # in a multi-class context it will be performed one-versus-all\n",
    "    random_state=42         # random state\n",
    ").fit(X_train_p2_eval_best_100, y_train_p2_eval)"
   ]
  },
  {
   "cell_type": "code",
   "execution_count": null,
   "metadata": {},
   "outputs": [],
   "source": [
    "pickle.dump(cv_clf_best_100, open(\"cv_clf_best_100.pickle\", \"wb\"))"
   ]
  },
  {
   "cell_type": "code",
   "execution_count": null,
   "metadata": {},
   "outputs": [],
   "source": [
    "# Re-evaluate the model implementing cross-validation on logistic regression using the reduced dataset X_small\n",
    "cv_clf_random_100 = LogisticRegressionCV(\n",
    "    cv=5,                  # number of cross-validation folds\n",
    "    Cs=100,                 # number of regularization values to attempt\n",
    "    penalty='l1',           # penalty to implement: l1 - Lasso and l2 - Ridge\n",
    "    solver='liblinear',     # solver that allows l1 and l2 regularizations\n",
    "    tol=1e-3,               # tolerance\n",
    "    max_iter=100,          # max number of iterations\n",
    "    multi_class='ovr',      # in a multi-class context it will be performed one-versus-all\n",
    "    random_state=42         # random state\n",
    ").fit(X_train_p2_eval_random_100, y_train_p2_eval)"
   ]
  },
  {
   "cell_type": "code",
   "execution_count": null,
   "metadata": {},
   "outputs": [],
   "source": [
    "pickle.dump(cv_clf_random_100, open(\"cv_clf_random_100.pickle\", \"wb\"))"
   ]
  },
  {
   "cell_type": "code",
   "execution_count": null,
   "metadata": {},
   "outputs": [],
   "source": [
    "# Re-evaluate the model implementing cross-validation on logistic regression using the reduced dataset X_small\n",
    "cv_clf_high_variance_100 = LogisticRegressionCV(\n",
    "    cv=5,                   # number of cross-validation folds\n",
    "    Cs=100,                 # number of regularization values to attempt\n",
    "    penalty='l1',           # penalty to implement: l1 - Lasso and l2 - Ridge\n",
    "    solver='liblinear',     # solver that allows l1 and l2 regularizations\n",
    "    tol=1e-5,               # tolerance\n",
    "    max_iter=1000,          # max number of iterations\n",
    "    multi_class='ovr',      # in a multi-class context it will be performed one-versus-all\n",
    "    random_state=42         # random state\n",
    ").fit(X_train_p2_eval_high_variance_100, y_train_p2_eval)"
   ]
  },
  {
   "cell_type": "code",
   "execution_count": null,
   "metadata": {},
   "outputs": [],
   "source": [
    "pickle.dump(cv_clf_high_variance_100, open(\"cv_clf_high_variance_100.pickle\", \"wb\"))"
   ]
  },
  {
   "cell_type": "code",
   "execution_count": null,
   "metadata": {},
   "outputs": [],
   "source": [
    "# overall performance\n",
    "print(f\"Best 100 features overall Accuracy: {round(np.mean(1*(cv_clf_best_100.predict(X_test_p2_eval_best_100) == y_test_p2_eval)), 3)}\")\n",
    "print(f\"Random 100 features overall Accuracy: {round(np.mean(1*(cv_clf_random_100.predict(X_test_p2_eval_random_100) == y_test_p2_eval)), 3)}\")\n",
    "print(f\"High Variance 100 features overall Accuracy: {round(np.mean(1*(cv_clf_high_variance_100.predict(X_test_p2_eval_high_variance_100) == y_test_p2_eval)), 3)}\")"
   ]
  },
  {
   "cell_type": "code",
   "execution_count": null,
   "metadata": {},
   "outputs": [],
   "source": [
    "# Best 100 features overall Accuracy: 0.889\n",
    "# Random 100 features overall Accuracy: 0.206\n",
    "# High Variance 100 features overall Accuracy: 0.892"
   ]
  },
  {
   "cell_type": "code",
   "execution_count": null,
   "metadata": {},
   "outputs": [],
   "source": [
    "var_df = (\n",
    "    pd.concat([\n",
    "        pd.DataFrame(zip(np.var(X_train_p2_eval_high_variance_100, axis=0), 100*['Highest Variance Features']), columns=['Variance', 'Features Set']),\n",
    "        pd.DataFrame(zip(np.var(X_train_p2_eval_best_100, axis=0), 100*['Best Features']), columns=['Variance', 'Features Set'])\n",
    "    ], axis=0)\n",
    "    .reset_index()\n",
    ")\n",
    "\n",
    "var_df"
   ]
  },
  {
   "cell_type": "code",
   "execution_count": null,
   "metadata": {},
   "outputs": [],
   "source": [
    "sns.color_palette(\"hls\", 4)[0]"
   ]
  },
  {
   "cell_type": "code",
   "execution_count": null,
   "metadata": {},
   "outputs": [],
   "source": [
    "# set the size of the plot\n",
    "plt.figure(figsize=(12, 8))\n",
    "\n",
    "sns.histplot(data=var_df, x=\"Variance\", hue=\"Features Set\", palette=sns.color_palette(\"hls\", 2))\n",
    "\n",
    "# add custom title, x-label, and y-label\n",
    "plt.title(f\"Variance Distribution | Highest Variance Features versus Best Features\")\n",
    "plt.xlabel(\"Variance\")\n",
    "plt.ylabel(\"Density\")\n",
    "\n",
    "# display the plot\n",
    "plt.show()"
   ]
  },
  {
   "cell_type": "code",
   "execution_count": null,
   "metadata": {},
   "outputs": [],
   "source": [
    "pd.concat([\n",
    "    pd.DataFrame(np.var(X_train_p2_eval, axis=0), columns=['Variance (All Features)']).describe(),\n",
    "    pd.DataFrame(np.var(X_train_p2_eval_random_100, axis=0), columns=['variance (Random Features)']).describe(),\n",
    "    pd.DataFrame(np.var(X_train_p2_eval_best_100, axis=0), columns=['variance (Best Features)']).describe(),\n",
    "    pd.DataFrame(np.var(X_train_p2_eval_high_variance_100, axis=0), columns=['variance (High Variance Features)']).describe(),\n",
    "], axis=1\n",
    ")"
   ]
  },
  {
   "cell_type": "code",
   "execution_count": null,
   "metadata": {},
   "outputs": [],
   "source": [
    "\n",
    "\n",
    "# set the size of the plot\n",
    "plt.figure(figsize=(12, 8))\n",
    "\n",
    "sns.histplot(x=np.var(X_train_p2_eval, axis=0))\n",
    "\n",
    "# add custom title, x-label, and y-label\n",
    "plt.title(f\"Variance Distribution | Highest Variance Features versus Best Features\")\n",
    "plt.xlabel(\"Variance\")\n",
    "plt.ylabel(\"Density\")\n",
    "\n",
    "# display the plot\n",
    "plt.show()"
   ]
  },
  {
   "cell_type": "code",
   "execution_count": null,
   "metadata": {},
   "outputs": [],
   "source": [
    "# Creating a dataframe to hold cluster's labels\n",
    "cluster_label_df = pd.DataFrame(\n",
    "    y_test_p2_eval, \n",
    "    columns=['Cluster Label']\n",
    ")\n",
    "\n",
    "# Creating a dataframe to hold the results of the prediction using the model with th 100 best features\n",
    "prediction_best_100_df = pd.DataFrame(\n",
    "    1*(cv_clf_best_100.predict(X_test_p2_eval_best_100) == y_test_p2_eval), \n",
    "    columns=['True Positive (Predicted - 100 Best)']\n",
    ")\n",
    "\n",
    "# Creating a dataframe to hold the results of the prediction using the model with th 100 random features\n",
    "prediction_random_100_df = pd.DataFrame(\n",
    "    1*(cv_clf_random_100.predict(X_test_p2_eval_best_100) == y_test_p2_eval), \n",
    "    columns=['True Positive (Predicted - 100 Random)']\n",
    ")\n",
    "\n",
    "# Creating a dataframe to hold the results of the prediction using the model with th 100 highest variance features\n",
    "prediction_high_variance_100_df = pd.DataFrame(\n",
    "    1*(cv_clf_high_variance_100.predict(X_test_p2_eval_best_100) == y_test_p2_eval), \n",
    "    columns=['True Positive (Predicted - 100 Highest Variance)']\n",
    ")\n",
    "\n",
    "\n",
    "(\n",
    "    pd.concat([cluster_label_df, prediction_best_100_df, prediction_random_100_df, prediction_high_variance_100_df], axis=1)\n",
    "    .assign(Total = lambda x:1)\n",
    "    .groupby(['Cluster Label']).sum().reset_index()\n",
    "    #.assign(Accuracy = lambda x:x['True Positive (Predicted)']/x.Total)\n",
    ")\n",
    "\n"
   ]
  },
  {
   "cell_type": "code",
   "execution_count": null,
   "metadata": {},
   "outputs": [],
   "source": [
    "(\n",
    "    pd.DataFrame(zip(y_test, 1*(cv_clf_best_100.predict(X_test) == y_test_p2_eval)), columns=['Cluster Label', 'True Positive (Predicted)'])\n",
    "    .assign(Total = lambda x:1)\n",
    "    .groupby(['Cluster Label'])\n",
    "    .sum()\n",
    "    .reset_index()\n",
    "    .assign(Accuracy = lambda x:x['True Positive (Predicted)']/x.Total)\n",
    ")"
   ]
  },
  {
   "cell_type": "code",
   "execution_count": null,
   "metadata": {},
   "outputs": [],
   "source": [
    "np.mean(1*(preds == y_test_p2_eval))"
   ]
  },
  {
   "cell_type": "code",
   "execution_count": null,
   "metadata": {},
   "outputs": [],
   "source": [
    "(\n",
    "    pd.DataFrame(zip(y_test_p2_eval, 1*(preds == y_test_p2_eval)), columns=['Cluster Label', 'True Positive (Predicted)'])\n",
    "    .assign(Total = lambda x:1)\n",
    "    .groupby(['Cluster Label'])\n",
    "    .sum()\n",
    "    .reset_index()\n",
    "    .assign(Accuracy = lambda x:x['True Positive (Predicted)']/x.Total)\n",
    ")"
   ]
  },
  {
   "cell_type": "markdown",
   "metadata": {},
   "source": [
    "## Part 3"
   ]
  },
  {
   "cell_type": "code",
   "execution_count": null,
   "metadata": {},
   "outputs": [],
   "source": [
    "# Loading the data\n",
    "X=np.load(\"X2.npy\")\n",
    "\n",
    "# Printing the shape of the resulting datasets\n",
    "print(f\"X shape: Number of cells (rows) {X.shape[0]} | Number of genes (columns) {X.shape[1]}\")\n",
    "\n",
    "# Calculating max X value for the first column\n",
    "print(f\"Max X for the first column: {np.max(X[:,0])}\")\n",
    "\n",
    "# Transforming the X data to log2\n",
    "X_log = np.log2(X+1)\n",
    "\n",
    "# Calculating max Xlog value for the first column\n",
    "print(f\"Max Xlog for the first column: {np.max(X_log[:,0])}\")"
   ]
  },
  {
   "cell_type": "code",
   "execution_count": null,
   "metadata": {},
   "outputs": [],
   "source": [
    "# Clustering cells\n",
    "kmeans_X_log = KMeans(n_clusters=3, n_init=100).fit(X_log)\n",
    "\n",
    "# Calculating PCA for the X_log matrix\n",
    "pca_X_log10 = PCA(n_components=10).fit(X_log.T)\n",
    "pca_X_log50 = PCA(n_components=50).fit(X_log.T)\n",
    "pca_X_log100 = PCA(n_components=100).fit(X_log.T)\n",
    "pca_X_log250 = PCA(n_components=250).fit(X_log.T)\n",
    "pca_X_log500 = PCA(n_components=500).fit(X_log.T)\n",
    "\n",
    "# Creating a PCA embedding with the X_log data\n",
    "pca_embedding_X_log10 = pca_X_log10.components_.T\n",
    "pca_embedding_X_log50 = pca_X_log50.components_.T\n",
    "pca_embedding_X_log100 = pca_X_log100.components_.T\n",
    "pca_embedding_X_log250 = pca_X_log250.components_.T\n",
    "pca_embedding_X_log500 = pca_X_log500.components_.T"
   ]
  },
  {
   "cell_type": "code",
   "execution_count": null,
   "metadata": {},
   "outputs": [],
   "source": [
    "# Creating a T-SNE embedding with the PCA embedding data\n",
    "tsne_embedding_X_log10 = TSNE(n_components=2, perplexity=40, learning_rate=100).fit_transform(pca_embedding_X_log10)\n",
    "tsne_embedding_X_log50 = TSNE(n_components=2, perplexity=40).fit_transform(pca_embedding_X_log50)\n",
    "tsne_embedding_X_log100 = TSNE(n_components=2, perplexity=40).fit_transform(pca_embedding_X_log100)\n",
    "tsne_embedding_X_log250 = TSNE(n_components=2, perplexity=40).fit_transform(pca_embedding_X_log250)\n",
    "tsne_embedding_X_log500 = TSNE(n_components=2, perplexity=40).fit_transform(pca_embedding_X_log500)"
   ]
  },
  {
   "cell_type": "code",
   "execution_count": null,
   "metadata": {},
   "outputs": [],
   "source": [
    "# Creating a T-SNE embedding with the PCA embedding data\n",
    "tsne_embedding_X_log10 = TSNE(n_components=2, perplexity=40, learning_rate=50).fit_transform(pca_embedding_X_log500)\n",
    "tsne_embedding_X_log50 = TSNE(n_components=2, perplexity=40, learning_rate=100).fit_transform(pca_embedding_X_log500)\n",
    "tsne_embedding_X_log100 = TSNE(n_components=2, perplexity=40, learning_rate=200).fit_transform(pca_embedding_X_log500)\n",
    "tsne_embedding_X_log250 = TSNE(n_components=2, perplexity=40, learning_rate=500).fit_transform(pca_embedding_X_log500)\n",
    "tsne_embedding_X_log500 = TSNE(n_components=2, perplexity=40, learning_rate=800).fit_transform(pca_embedding_X_log500)"
   ]
  },
  {
   "cell_type": "code",
   "execution_count": null,
   "metadata": {},
   "outputs": [],
   "source": [
    "# create a figure with 3 subplots in a row\n",
    "fig, axs = plt.subplots(1, 5, figsize=(20, 4))\n",
    "\n",
    "# create a scatter plot in each subplot\n",
    "sns.scatterplot(x=tsne_embedding_X_log10[:,0], y=tsne_embedding_X_log10[:,1], hue=kmeans_X_log.labels_, ax=axs[0])\n",
    "sns.scatterplot(x=tsne_embedding_X_log50[:,0], y=tsne_embedding_X_log50[:,1], hue=kmeans_X_log.labels_, ax=axs[1])\n",
    "sns.scatterplot(x=tsne_embedding_X_log100[:,0], y=tsne_embedding_X_log100[:,1], hue=kmeans_X_log.labels_, ax=axs[2])\n",
    "sns.scatterplot(x=tsne_embedding_X_log250[:,0], y=tsne_embedding_X_log250[:,1], hue=kmeans_X_log.labels_, ax=axs[3])\n",
    "sns.scatterplot(x=tsne_embedding_X_log500[:,0], y=tsne_embedding_X_log500[:,1], hue=kmeans_X_log.labels_, ax=axs[4])\n",
    "\n",
    "# add custom titles to each subplot\n",
    "axs[0].set_title(\"10 PC's\")\n",
    "axs[1].set_title(\"50 PC's\")\n",
    "axs[2].set_title(\"100 PC's\")\n",
    "axs[3].set_title(\"250 PC's\")\n",
    "axs[4].set_title(\"500 PC's\")\n",
    "\n",
    "# add custom x-labels and y-labels to each subplot\n",
    "axs[0].set_xlabel(\"Genes PC1\")\n",
    "axs[0].set_ylabel(\"Genes PC2\")\n",
    "axs[1].set_xlabel(\"Genes PC1\")\n",
    "axs[1].set_ylabel(\"Genes PC2\")\n",
    "axs[2].set_xlabel(\"Genes PC1\")\n",
    "axs[2].set_ylabel(\"Genes PC2\")\n",
    "axs[3].set_xlabel(\"Genes PC1\")\n",
    "axs[3].set_ylabel(\"Genes PC2\")\n",
    "axs[4].set_xlabel(\"Genes PC1\")\n",
    "axs[4].set_ylabel(\"Genes PC2\")\n",
    "\n",
    "#axs[0].set_xlim([-75,75])\n",
    "#axs[0].set_ylim([-75,75])\n",
    "#axs[1].set_xlim([-75,75])\n",
    "#axs[1].set_ylim([-75,75])\n",
    "#axs[2].set_xlim([-75,75])\n",
    "#axs[2].set_ylim([-75,75])\n",
    "#axs[3].set_xlim([-75,75])\n",
    "#axs[3].set_ylim([-75,75])\n",
    "#axs[4].set_xlim([-75,75])\n",
    "#axs[4].set_ylim([-75,75])\n",
    "\n",
    "# adjust the space between subplots\n",
    "plt.subplots_adjust(wspace=0.3)\n",
    "\n",
    "# display the plot\n",
    "plt.show()\n"
   ]
  },
  {
   "cell_type": "code",
   "execution_count": null,
   "metadata": {},
   "outputs": [],
   "source": [
    "# set the size of the plot\n",
    "plt.figure(figsize=(12, 8))\n",
    "\n",
    "sns.scatterplot(x=teste[:,0], y=teste[:,1], hue=kmeans_X_log.labels_)\n",
    "\n",
    "# add custom title, x-label, and y-label\n",
    "plt.title(f\"Variance Distribution | Highest Variance Features versus Best Features\")\n",
    "plt.xlabel(\"Variance\")\n",
    "plt.ylabel(\"Density\")\n",
    "\n",
    "# display the plot\n",
    "plt.show()"
   ]
  },
  {
   "cell_type": "code",
   "execution_count": null,
   "metadata": {},
   "outputs": [],
   "source": [
    "# Creating an empty dictionary\n",
    "tsne_dict = {}\n",
    "\n",
    "# Defining list of parameter values\n",
    "parameter_values = [1, 3, 5, 10, 25, 50, 100, 200]\n",
    "\n",
    "# Defining shape of the final image\n",
    "nrows = 2\n",
    "ncols = 4\n",
    "\n",
    "# create a figure with 3 subplots in a row\n",
    "fig, axs = plt.subplots(nrows, ncols, figsize=(4*ncols, 5*nrows))\n",
    "\n",
    "# adjust the space between subplots\n",
    "plt.subplots_adjust(wspace=0.3)\n",
    "\n",
    "# Initializing indexes\n",
    "r = 0\n",
    "c = 0\n",
    "\n",
    "for i, p in enumerate(parameter_values):\n",
    "\n",
    "    # Creating a T-SNE embedding with the chosen perplexity value\n",
    "    tsne_p = TSNE(n_components=2, perplexity=p, learning_rate=200, early_exaggeration=12).fit_transform(X_log)\n",
    "\n",
    "    # Storing embedding\n",
    "    tsne_dict[f\"perplexity_{p}\"] = tsne_p\n",
    "\n",
    "    # Creating a dataframe using the t-SNE embedding\n",
    "    tsne_df = pd.DataFrame(np.concatenate([tsne_p, kmeans_X_log.labels_.reshape(-1,1)], axis=1), columns=['PC1', 'PC2', 'Cluster'])\n",
    "\n",
    "    # Calculating center   \n",
    "    center = (\n",
    "        tsne_df.groupby(['Cluster']).mean().reset_index()\n",
    "        .drop(columns=['Cluster'])\n",
    "        .mean()\n",
    "    ).values\n",
    "\n",
    "    # Create a scatter plot in each subplot\n",
    "    sns.scatterplot(x=tsne_df.PC1 - center[0], y=tsne_df.PC2 - center[1], hue=tsne_df.Cluster, ax=axs[r,c])\n",
    "\n",
    "    # Add custom titles to each subplot\n",
    "    axs[r,c].set_title(f'Perplexity {p}')\n",
    "\n",
    "    # Add custom x-labels and y-labels to each subplot\n",
    "    axs[r,c].set_xlabel(\"Genes PC1\")\n",
    "    axs[r,c].set_ylabel(\"Genes PC2\")\n",
    "\n",
    "    axs[r,c].set_xlim([-70,70])\n",
    "    axs[r,c].set_ylim([-70,70])\n",
    "    \n",
    "    # updating column index\n",
    "    c += 1\n",
    "\n",
    "    # Adjusting subplot indexes\n",
    "    if(c == ncols):\n",
    "        c = 0\n",
    "        r += 1\n",
    "\n",
    "# display the plot\n",
    "plt.show()"
   ]
  },
  {
   "cell_type": "code",
   "execution_count": null,
   "metadata": {},
   "outputs": [],
   "source": [
    "# Defining list of parameter values\n",
    "parameter_values = [1, 3, 5, 10, 25, 50, 100, 200]\n",
    "\n",
    "# Defining shape of the final image\n",
    "nrows = 2\n",
    "ncols = 4\n",
    "\n",
    "# create a figure with 3 subplots in a row\n",
    "fig, axs = plt.subplots(nrows, ncols, figsize=(4*ncols, 4*nrows))\n",
    "\n",
    "# adjust the space between subplots\n",
    "plt.subplots_adjust(wspace=0.4, hspace=0.4)\n",
    "\n",
    "# Initializing indexes\n",
    "r = 0\n",
    "c = 0\n",
    "\n",
    "for i, p in enumerate(parameter_values):\n",
    "\n",
    "    # Creating a dataframe using the t-SNE embedding\n",
    "    tsne_df = pd.DataFrame(np.concatenate([tsne_dict[f\"perplexity_{p}\"], kmeans_X_log.labels_.reshape(-1,1)], axis=1), columns=['PC1', 'PC2', 'Cluster'])\n",
    "\n",
    "    # Calculating center   \n",
    "    center = (\n",
    "        tsne_df.groupby(['Cluster']).mean().reset_index()\n",
    "        .drop(columns=['Cluster'])\n",
    "        .mean()\n",
    "    ).values\n",
    "\n",
    "    # Create a scatter plot in each subplot\n",
    "    sns.scatterplot(x=tsne_df.PC1 - center[0], y=tsne_df.PC2 - center[1], hue=tsne_df.Cluster, ax=axs[r,c])\n",
    "\n",
    "    # Add custom titles to each subplot\n",
    "    axs[r,c].set_title(f'Perplexity {p}')\n",
    "\n",
    "    # Add custom x-labels and y-labels to each subplot\n",
    "    axs[r,c].set_xlabel(\"Genes PC1\")\n",
    "    axs[r,c].set_ylabel(\"Genes PC2\")\n",
    "\n",
    "    #axs[r,c].set_xlim([-70,70])\n",
    "    #axs[r,c].set_ylim([-70,70])\n",
    "    \n",
    "    # updating column index\n",
    "    c += 1\n",
    "\n",
    "    # Adjusting subplot indexes\n",
    "    if(c == ncols):\n",
    "        c = 0\n",
    "        r += 1\n",
    "\n",
    "# display the plot\n",
    "plt.show()"
   ]
  },
  {
   "cell_type": "code",
   "execution_count": null,
   "metadata": {},
   "outputs": [],
   "source": []
  },
  {
   "cell_type": "code",
   "execution_count": null,
   "metadata": {},
   "outputs": [],
   "source": [
    "# Creating an empty dictionary\n",
    "tsne_dict = {}\n",
    "\n",
    "# Defining list of parameter values\n",
    "parameter_values = [0.01, 10, 100, 500, 1000, 2500, 5000, 10000]\n",
    "\n",
    "# Defining shape of the final image\n",
    "nrows = 2\n",
    "ncols = 4\n",
    "\n",
    "# create a figure with 3 subplots in a row\n",
    "fig, axs = plt.subplots(nrows, ncols, figsize=(4*ncols, 5*nrows))\n",
    "\n",
    "# adjust the space between subplots\n",
    "plt.subplots_adjust(wspace=0.3)\n",
    "\n",
    "# Initializing indexes\n",
    "r = 0\n",
    "c = 0\n",
    "\n",
    "for i, p in enumerate(parameter_values):\n",
    "\n",
    "    # Creating a T-SNE embedding with the chosen perplexity value\n",
    "    tsne_p = TSNE(n_components=2, perplexity=50, learning_rate=p, early_exaggeration=12).fit_transform(X_log)\n",
    "\n",
    "    # Storing embedding\n",
    "    tsne_dict[f\"learning_rate_{p}\"] = tsne_p\n",
    "\n",
    "    # Creating a dataframe using the t-SNE embedding\n",
    "    tsne_df = pd.DataFrame(np.concatenate([tsne_p, kmeans_X_log.labels_.reshape(-1,1)], axis=1), columns=['PC1', 'PC2', 'Cluster'])\n",
    "\n",
    "    # Calculating center   \n",
    "    center = (\n",
    "        tsne_df.groupby(['Cluster']).mean().reset_index()\n",
    "        .drop(columns=['Cluster'])\n",
    "        .mean()\n",
    "    ).values\n",
    "\n",
    "    # Create a scatter plot in each subplot\n",
    "    sns.scatterplot(x=tsne_df.PC1 - center[0], y=tsne_df.PC2 - center[1], hue=tsne_df.Cluster, ax=axs[r,c])\n",
    "\n",
    "    # Add custom titles to each subplot\n",
    "    axs[r,c].set_title(f'Learning Rate {p}')\n",
    "\n",
    "    # Add custom x-labels and y-labels to each subplot\n",
    "    axs[r,c].set_xlabel(\"Genes PC1\")\n",
    "    axs[r,c].set_ylabel(\"Genes PC2\")\n",
    "\n",
    "    axs[r,c].set_xlim([-40,40])\n",
    "    axs[r,c].set_ylim([-40,40])\n",
    "    \n",
    "    # updating column index\n",
    "    c += 1\n",
    "\n",
    "    # Adjusting subplot indexes\n",
    "    if(c == ncols):\n",
    "        c = 0\n",
    "        r += 1\n",
    "\n",
    "# display the plot\n",
    "plt.show()"
   ]
  },
  {
   "cell_type": "code",
   "execution_count": null,
   "metadata": {},
   "outputs": [],
   "source": [
    "# Defining list of parameter values\n",
    "parameter_values = [0.01, 10, 100, 500, 1000, 2500, 5000, 10000]\n",
    "\n",
    "# Defining shape of the final image\n",
    "nrows = 2\n",
    "ncols = 4\n",
    "\n",
    "# create a figure with 3 subplots in a row\n",
    "fig, axs = plt.subplots(nrows, ncols, figsize=(4*ncols, 4*nrows))\n",
    "\n",
    "# adjust the space between subplots\n",
    "plt.subplots_adjust(wspace=0.4, hspace=0.4)\n",
    "\n",
    "# Initializing indexes\n",
    "r = 0\n",
    "c = 0\n",
    "\n",
    "for i, p in enumerate(parameter_values):\n",
    "\n",
    "    # Creating a dataframe using the t-SNE embedding\n",
    "    tsne_df = pd.DataFrame(np.concatenate([tsne_dict[f\"learning_rate_{p}\"], kmeans_X_log.labels_.reshape(-1,1)], axis=1), columns=['PC1', 'PC2', 'Cluster'])\n",
    "\n",
    "    # Calculating center   \n",
    "    center = (\n",
    "        tsne_df.groupby(['Cluster']).mean().reset_index()\n",
    "        .drop(columns=['Cluster'])\n",
    "        .mean()\n",
    "    ).values\n",
    "\n",
    "    # Create a scatter plot in each subplot\n",
    "    sns.scatterplot(x=tsne_df.PC1 - center[0], y=tsne_df.PC2 - center[1], hue=tsne_df.Cluster, ax=axs[r,c])\n",
    "\n",
    "    # Add custom titles to each subplot\n",
    "    axs[r,c].set_title(f'Learning Rate {p}')\n",
    "\n",
    "    # Add custom x-labels and y-labels to each subplot\n",
    "    axs[r,c].set_xlabel(\"Genes PC1\")\n",
    "    axs[r,c].set_ylabel(\"Genes PC2\")\n",
    "\n",
    "    #axs[r,c].set_xlim([-70,70])\n",
    "    #axs[r,c].set_ylim([-70,70])\n",
    "    \n",
    "    # updating column index\n",
    "    c += 1\n",
    "\n",
    "    # Adjusting subplot indexes\n",
    "    if(c == ncols):\n",
    "        c = 0\n",
    "        r += 1\n",
    "\n",
    "# display the plot\n",
    "plt.show()"
   ]
  },
  {
   "cell_type": "code",
   "execution_count": null,
   "metadata": {},
   "outputs": [],
   "source": [
    "# Defining list of parameter values\n",
    "parameter_values = [0.01, 10, 100, 500, 1000, 2500, 5000, 10000]\n",
    "\n",
    "# Defining shape of the final image\n",
    "nrows = 2\n",
    "ncols = 4\n",
    "\n",
    "# create a figure with 3 subplots in a row\n",
    "fig, axs = plt.subplots(nrows, ncols, figsize=(4*ncols, 4*nrows))\n",
    "\n",
    "# adjust the space between subplots\n",
    "plt.subplots_adjust(wspace=0.4, hspace=0.4)\n",
    "\n",
    "# Initializing indexes\n",
    "r = 0\n",
    "c = 0\n",
    "\n",
    "for i, p in enumerate(parameter_values):\n",
    "\n",
    "    # Creating a dataframe using the t-SNE embedding\n",
    "    tsne_df = pd.DataFrame(np.concatenate([tsne_dict[f\"learning_rate_{p}\"], kmeans_X_log.labels_.reshape(-1,1)], axis=1), columns=['PC1', 'PC2', 'Cluster'])\n",
    "\n",
    "    # Calculating center   \n",
    "    center = (\n",
    "        tsne_df.groupby(['Cluster']).mean().reset_index()\n",
    "        .drop(columns=['Cluster'])\n",
    "        .mean()\n",
    "    ).values\n",
    "\n",
    "    # Create a scatter plot in each subplot\n",
    "    sns.scatterplot(x=tsne_df.PC1 - center[0], y=tsne_df.PC2 - center[1], hue=tsne_df.Cluster, ax=axs[r,c])\n",
    "\n",
    "    # Add custom titles to each subplot\n",
    "    axs[r,c].set_title(f'Learning Rate {p}')\n",
    "\n",
    "    # Add custom x-labels and y-labels to each subplot\n",
    "    axs[r,c].set_xlabel(\"Genes PC1\")\n",
    "    axs[r,c].set_ylabel(\"Genes PC2\")\n",
    "\n",
    "    axs[r,c].set_xlim([-50,60])\n",
    "    axs[r,c].set_ylim([-50,60])\n",
    "    \n",
    "    # updating column index\n",
    "    c += 1\n",
    "\n",
    "    # Adjusting subplot indexes\n",
    "    if(c == ncols):\n",
    "        c = 0\n",
    "        r += 1\n",
    "\n",
    "# display the plot\n",
    "plt.show()"
   ]
  },
  {
   "cell_type": "code",
   "execution_count": null,
   "metadata": {},
   "outputs": [],
   "source": [
    "vec1 = np.random.normal(loc=[10, 30], scale=[4,4], size=(500,2))\n",
    "vec2 = np.random.normal(loc=[20, -10], scale=[2,2], size=(500,2))\n",
    "vec3 = np.random.normal(loc=[-5, 5], scale=[5,5], size=(500,2))"
   ]
  },
  {
   "cell_type": "code",
   "execution_count": null,
   "metadata": {},
   "outputs": [],
   "source": [
    "X = np.concatenate([vec1, vec2, vec3], axis=0)"
   ]
  },
  {
   "cell_type": "code",
   "execution_count": null,
   "metadata": {},
   "outputs": [],
   "source": [
    "indexes = np.random.choice(list(range(X.shape[0])), size=1500, replace=False)"
   ]
  },
  {
   "cell_type": "code",
   "execution_count": null,
   "metadata": {},
   "outputs": [],
   "source": [
    "Xshuffle = X[indexes,:]"
   ]
  },
  {
   "cell_type": "code",
   "execution_count": null,
   "metadata": {},
   "outputs": [],
   "source": [
    "noise = np.random.uniform(low=8, high=10, size=(1500, 200))"
   ]
  },
  {
   "cell_type": "code",
   "execution_count": null,
   "metadata": {},
   "outputs": [],
   "source": [
    "Xshuffle_noise = np.concatenate([Xshuffle, noise], axis=1)"
   ]
  },
  {
   "cell_type": "code",
   "execution_count": null,
   "metadata": {},
   "outputs": [],
   "source": [
    "# Creating a T-SNE embedding with the chosen perplexity value\n",
    "tsne_X = TSNE(n_components=2, perplexity=50, learning_rate=500, early_exaggeration=12).fit_transform(Xshuffle)"
   ]
  },
  {
   "cell_type": "code",
   "execution_count": null,
   "metadata": {},
   "outputs": [],
   "source": [
    "# set the size of the plot\n",
    "plt.figure(figsize=(12, 8))\n",
    "\n",
    "sns.scatterplot(x=tsne_X[:,0], y=tsne_X[:,1])\n",
    "\n",
    "# add custom title, x-label, and y-label\n",
    "plt.title(f\"Variance Distribution | Highest Variance Features versus Best Features\")\n",
    "plt.xlabel(\"Variance\")\n",
    "plt.ylabel(\"Density\")\n",
    "\n",
    "# display the plot\n",
    "plt.show()"
   ]
  },
  {
   "cell_type": "code",
   "execution_count": null,
   "metadata": {},
   "outputs": [],
   "source": [
    "# Creating a T-SNE embedding with the chosen perplexity value\n",
    "tsne_noise = TSNE(n_components=2, perplexity=50, learning_rate=500, early_exaggeration=12).fit_transform(Xshuffle_noise)\n",
    "\n",
    "# set the size of the plot\n",
    "plt.figure(figsize=(12, 8))\n",
    "\n",
    "sns.scatterplot(x=tsne_noise[:,0], y=tsne_noise[:,1])\n",
    "\n",
    "# add custom title, x-label, and y-label\n",
    "plt.title(f\"Variance Distribution | Highest Variance Features versus Best Features\")\n",
    "plt.xlabel(\"Variance\")\n",
    "plt.ylabel(\"Density\")\n",
    "\n",
    "# display the plot\n",
    "plt.show()"
   ]
  },
  {
   "cell_type": "code",
   "execution_count": null,
   "metadata": {},
   "outputs": [],
   "source": [
    "# Calculating PCA for the X_log matrix\n",
    "pca_Xnoise = PCA(n_components=50).fit(Xshuffle_noise.T);"
   ]
  },
  {
   "cell_type": "code",
   "execution_count": null,
   "metadata": {},
   "outputs": [],
   "source": [
    "# Creating a T-SNE embedding with the chosen perplexity value\n",
    "tsne_noise_pca = TSNE(n_components=2, perplexity=50, learning_rate=500, early_exaggeration=12).fit_transform(pca_Xnoise.components_.T)\n",
    "\n",
    "# set the size of the plot\n",
    "plt.figure(figsize=(12, 8))\n",
    "\n",
    "sns.scatterplot(x=tsne_noise_pca[:,0], y=tsne_noise_pca[:,1])\n",
    "\n",
    "# add custom title, x-label, and y-label\n",
    "plt.title(f\"Variance Distribution | Highest Variance Features versus Best Features\")\n",
    "plt.xlabel(\"Variance\")\n",
    "plt.ylabel(\"Density\")\n",
    "\n",
    "# display the plot\n",
    "plt.show()"
   ]
  },
  {
   "cell_type": "code",
   "execution_count": null,
   "metadata": {},
   "outputs": [],
   "source": []
  },
  {
   "cell_type": "code",
   "execution_count": 2,
   "metadata": {},
   "outputs": [],
   "source": [
    "# Importing numpy\n",
    "import numpy as np\n",
    "\n",
    "# Importing pandas\n",
    "import pandas as pd\n",
    "\n",
    "# Importing PCA\n",
    "from sklearn.decomposition import PCA\n",
    "\n",
    "# Importing MDS\n",
    "from sklearn.manifold import MDS\n",
    "\n",
    "# Importing T-SNE\n",
    "from sklearn.manifold import TSNE\n",
    "\n",
    "# Importing train test split function\n",
    "from sklearn.model_selection import train_test_split\n",
    "\n",
    "from sklearn.preprocessing import StandardScaler\n",
    "\n",
    "# Importing Seaborn\n",
    "import seaborn as sns\n",
    "\n",
    "# Importing matplotlib\n",
    "import matplotlib.pyplot as plt\n",
    "\n",
    "# Importing K-Means Clustering\n",
    "from sklearn.cluster import KMeans, DBSCAN\n",
    "\n",
    "# Importing Logistic Regression Cross-Validation function\n",
    "from sklearn.linear_model import LogisticRegressionCV, LogisticRegression\n",
    "\n",
    "# Importing Warnings\n",
    "import warnings\n",
    "\n",
    "# Importing pickle\n",
    "import pickle\n",
    "\n",
    "import time\n",
    "\n",
    "# suppress FutureWarning\n",
    "warnings.filterwarnings(\"ignore\", category=FutureWarning)"
   ]
  },
  {
   "cell_type": "code",
   "execution_count": 3,
   "metadata": {},
   "outputs": [],
   "source": [
    "# Loading the X p2 evaluation data and applying the log2(X+1) transformation\n",
    "Xtr_eval = np.log2(np.load(\"X_train.npy\")+1)\n",
    "Xtt_eval = np.log2(np.load(\"X_test.npy\")+1)\n",
    "\n",
    "# Loading the y p2 evaluation data\n",
    "ytr_eval = np.load(\"y_train.npy\")\n",
    "ytt_eval = np.load(\"y_test.npy\")"
   ]
  },
  {
   "cell_type": "code",
   "execution_count": 4,
   "metadata": {},
   "outputs": [],
   "source": [
    "scaler = StandardScaler()\n",
    "\n",
    "scaler.fit(Xtr_eval)\n",
    "\n",
    "XtrZ = scaler.transform(Xtr_eval)\n",
    "XttZ = scaler.transform(Xtt_eval)"
   ]
  },
  {
   "cell_type": "code",
   "execution_count": 20,
   "metadata": {},
   "outputs": [
    {
     "name": "stdout",
     "output_type": "stream",
     "text": [
      "Run Time 0: 921.3808135986328 seconds\n",
      "Run Time 1: 993.2077567577362 seconds\n"
     ]
    }
   ],
   "source": [
    "#cv_reg_dict = {}\n",
    "regs = [1e7, 1e8]\n",
    "\n",
    "\n",
    "for i, r in enumerate(regs):\n",
    "\n",
    "    start_time = time.time()\n",
    "\n",
    "    # Re-evaluate the model implementing cross-validation on logistic regression using the reduced dataset X_small\n",
    "    cv_clf = LogisticRegression(\n",
    "        C=r,\n",
    "        penalty='l2',\n",
    "        solver='liblinear', \n",
    "        tol=1e-4,\n",
    "        max_iter=1000,\n",
    "        multi_class='ovr',\n",
    "    ).fit(XtrZ, ytr_eval)\n",
    "\n",
    "    l2_models[13+i] = cv_clf\n",
    "\n",
    "    pickle.dump(l2_models, open(\"l2_models_dict_04.pickle\", \"wb\"))\n",
    "\n",
    "    print(f\"Run Time {i}: {time.time() - start_time} seconds\")"
   ]
  },
  {
   "cell_type": "code",
   "execution_count": 19,
   "metadata": {},
   "outputs": [
    {
     "name": "stdout",
     "output_type": "stream",
     "text": [
      "Run Time 0: 110.09168148040771 seconds\n",
      "Run Time 1: 110.9074227809906 seconds\n"
     ]
    }
   ],
   "source": [
    "cv_reg_dict = {}\n",
    "regs = [1e7, 1e8]\n",
    "\n",
    "\n",
    "for i, r in enumerate(regs):\n",
    "\n",
    "    start_time = time.time()\n",
    "\n",
    "    # Re-evaluate the model implementing cross-validation on logistic regression using the reduced dataset X_small\n",
    "    cv_clf = LogisticRegression(\n",
    "        C=r,\n",
    "        penalty='l1',\n",
    "        solver='liblinear', \n",
    "        tol=1e-4,   \n",
    "        max_iter=1000,\n",
    "        multi_class='ovr',\n",
    "    ).fit(XtrZ, ytr_eval)\n",
    "\n",
    "    cv_reg_dict[i] = cv_clf\n",
    "    #l1_models[13+i] = cv_clf\n",
    "\n",
    "    pickle.dump(cv_reg_dict, open(\"l1_models_dict_04.pickle\", \"wb\"))\n",
    "\n",
    "    print(f\"Run Time {i}: {time.time() - start_time} seconds\")"
   ]
  },
  {
   "cell_type": "code",
   "execution_count": 21,
   "metadata": {},
   "outputs": [],
   "source": [
    "pickle.dump(l1_models, open(\"l1_models_dict_04.pickle\", \"wb\"))"
   ]
  },
  {
   "cell_type": "code",
   "execution_count": 22,
   "metadata": {},
   "outputs": [],
   "source": [
    "# Reading model\n",
    "l1_models = pickle.load(open(\"l1_models_dict_04.pickle\", \"rb\"))\n",
    "l2_models = pickle.load(open(\"l2_models_dict_04.pickle\", \"rb\"))"
   ]
  },
  {
   "cell_type": "code",
   "execution_count": 202,
   "metadata": {},
   "outputs": [],
   "source": [
    "n_fts = 50\n",
    "\n",
    "l1_features_dict = {}\n",
    "l2_features_dict = {}\n",
    "\n",
    "for i, m in enumerate(l1_models):\n",
    "\n",
    "    # Calculating sum of coeficients and ordering it\n",
    "    #sum_abs_coefs = np.sum(np.abs(l1_models[m].coef_), axis=0)\n",
    "    sum_abs_coefs = np.abs(np.sum(l1_models[m].coef_, axis=0))\n",
    "    ordered_sum_abs_coefs = np.argsort(-sum_abs_coefs)[0:n_fts]\n",
    "\n",
    "    l1_features_dict[i] = ordered_sum_abs_coefs\n",
    "\n",
    "\n",
    "for i, m in enumerate(l2_models):\n",
    "\n",
    "    # Calculating sum of coeficients and ordering it\n",
    "    #sum_abs_coefs = np.sum(np.abs(l2_models[m].coef_), axis=0)\n",
    "    sum_abs_coefs = np.abs(np.sum(l2_models[m].coef_, axis=0))\n",
    "    ordered_sum_abs_coefs = np.argsort(-sum_abs_coefs)[0:n_fts]\n",
    "\n",
    "    l2_features_dict[i] = ordered_sum_abs_coefs"
   ]
  },
  {
   "cell_type": "code",
   "execution_count": 203,
   "metadata": {},
   "outputs": [
    {
     "name": "stdout",
     "output_type": "stream",
     "text": [
      "Run Time 0: 4.237984895706177 seconds\n",
      "Run Time 1: 2.23358416557312 seconds\n",
      "Run Time 2: 1.470712423324585 seconds\n",
      "Run Time 3: 0.8083212375640869 seconds\n",
      "Run Time 4: 0.8466331958770752 seconds\n",
      "Run Time 5: 1.484581708908081 seconds\n",
      "Run Time 6: 3.032536268234253 seconds\n",
      "Run Time 7: 4.76668643951416 seconds\n",
      "Run Time 8: 6.31516432762146 seconds\n",
      "Run Time 9: 10.365107297897339 seconds\n",
      "Run Time 10: 19.052945852279663 seconds\n",
      "Run Time 11: 13.366936683654785 seconds\n",
      "Run Time 12: 15.194920778274536 seconds\n",
      "Run Time 13: 14.42741322517395 seconds\n",
      "Run Time 14: 12.963151454925537 seconds\n"
     ]
    }
   ],
   "source": [
    "l2_models_100 = {}\n",
    "\n",
    "for i, m in enumerate(l2_features_dict):\n",
    "\n",
    "    start_time = time.time()\n",
    "\n",
    "    # Re-evaluate the model implementing cross-validation on logistic regression using the reduced dataset X_small\n",
    "    cv_clf = LogisticRegression(\n",
    "        C=l2_models[i].C,\n",
    "        penalty='l2',\n",
    "        solver='saga', \n",
    "        tol=1e-3,\n",
    "        max_iter=1000,\n",
    "        multi_class='ovr',\n",
    "        random_state=42\n",
    "    ).fit(XtrZ[:,l2_features_dict[i]], ytr_eval)\n",
    "\n",
    "    l2_models_100[i] = cv_clf\n",
    "\n",
    "    print(f\"Run Time {i}: {time.time() - start_time} seconds\")"
   ]
  },
  {
   "cell_type": "code",
   "execution_count": 204,
   "metadata": {},
   "outputs": [
    {
     "name": "stdout",
     "output_type": "stream",
     "text": [
      "Run Time 0: 0.05414247512817383 seconds\n",
      "Run Time 1: 0.10805106163024902 seconds\n",
      "Run Time 2: 0.09087610244750977 seconds\n",
      "Run Time 3: 0.06475353240966797 seconds\n",
      "Run Time 4: 0.9490323066711426 seconds\n",
      "Run Time 5: 3.7305777072906494 seconds\n",
      "Run Time 6: 10.12435007095337 seconds\n",
      "Run Time 7: 13.984107732772827 seconds\n",
      "Run Time 8: 14.895514726638794 seconds\n",
      "Run Time 9: 14.959792375564575 seconds\n",
      "Run Time 10: 15.878430843353271 seconds\n",
      "Run Time 11: 15.05400276184082 seconds\n",
      "Run Time 12: 15.436102628707886 seconds\n",
      "Run Time 13: 14.961274147033691 seconds\n",
      "Run Time 14: 14.878312826156616 seconds\n"
     ]
    }
   ],
   "source": [
    "l1_models_100 = {}\n",
    "\n",
    "for i, m in enumerate(l1_features_dict):\n",
    "\n",
    "    start_time = time.time()\n",
    "\n",
    "    # Re-evaluate the model implementing cross-validation on logistic regression using the reduced dataset X_small\n",
    "    cv_clf = LogisticRegression(\n",
    "        C=l1_models[i].C,\n",
    "        penalty='l1',\n",
    "        solver='saga', \n",
    "        tol=1e-3,\n",
    "        max_iter=1000,\n",
    "        multi_class='ovr',\n",
    "        random_state=42\n",
    "    ).fit(XtrZ[:,l1_features_dict[i]], ytr_eval)\n",
    "\n",
    "    l1_models_100[i] = cv_clf\n",
    "\n",
    "    print(f\"Run Time {i}: {time.time() - start_time} seconds\")"
   ]
  },
  {
   "cell_type": "code",
   "execution_count": 243,
   "metadata": {},
   "outputs": [],
   "source": [
    "r = ['1e-6', '1e-5', '1e-4', '1e-3', '1e-2', '1e-1', '1e0', '1e1', '1e2', '1e3', '1e4', '1e5', '1e6', '1e7', '1e8']\n",
    "\n",
    "rows = []\n",
    "for i, m in enumerate(l2_models_100):\n",
    "    score = np.mean(1*(l2_models_100[i].predict(XttZ[:,l2_features_dict[i]]) == ytt_eval))\n",
    "    regularization = r[i]\n",
    "    standard_deviation = np.std(np.std(Xtr_eval[:,l2_features_dict[i]], axis=0))\n",
    "    row = ('l2', regularization, score, standard_deviation)\n",
    "    rows.append(row)\n",
    "\n",
    "l2_df = pd.DataFrame(rows, columns=['reg_type', 'log_reg', 'accuracy', 'fts_std'])\n",
    "\n",
    "rows = []\n",
    "for i, m in enumerate(l1_models_100):\n",
    "    score = np.mean(1*(l1_models_100[i].predict(XttZ[:,l1_features_dict[i]]) == ytt_eval))\n",
    "    regularization = r[i]\n",
    "    standard_deviation = np.std(np.std(Xtr_eval[:,l1_features_dict[i]], axis=0))\n",
    "    row = ('l1', regularization, score, standard_deviation)\n",
    "    rows.append(row)\n",
    "\n",
    "l1_df = pd.DataFrame(rows, columns=['reg_type', 'log_reg', 'accuracy', 'fts_std'])\n",
    "\n",
    "\n",
    "std_df = pd.concat([l2_df, l1_df], axis=0).reset_index()\n"
   ]
  },
  {
   "cell_type": "code",
   "execution_count": 244,
   "metadata": {},
   "outputs": [],
   "source": [
    "r = ['1e-6', '1e-5', '1e-4', '1e-3', '1e-2', '1e-1', '1e0', '1e1', '1e2', '1e3', '1e4', '1e5', '1e6', '1e7', '1e8']\n",
    "\n",
    "standard_deviation = []\n",
    "regularization = []\n",
    "regularization_type = []\n",
    "for i, m in enumerate(l2_models_100):\n",
    "    standard_deviation += list(np.std(Xtr_eval[:,l2_features_dict[i]], axis=0))\n",
    "    regularization += n_fts*[r[i]]\n",
    "    regularization_type += n_fts*['l2']\n",
    "l2_df = pd.DataFrame(zip(regularization_type, regularization, standard_deviation), columns=['reg_type', 'log_reg', 'fts_std'])\n",
    "\n",
    "standard_deviation = []\n",
    "regularization = []\n",
    "regularization_type = []\n",
    "for i, m in enumerate(l1_models_100):\n",
    "    standard_deviation += list(np.std(Xtr_eval[:,l1_features_dict[i]], axis=0))\n",
    "    regularization += n_fts*[r[i]]\n",
    "    regularization_type += n_fts*['l1']\n",
    "l1_df = pd.DataFrame(zip(regularization_type, regularization, standard_deviation), columns=['reg_type', 'log_reg', 'fts_std'])\n",
    "\n",
    "reg_std_df = pd.concat([l2_df, l1_df], axis=0).reset_index()"
   ]
  },
  {
   "cell_type": "code",
   "execution_count": 248,
   "metadata": {},
   "outputs": [
    {
     "data": {
      "image/png": "[encoded data removed]",
      "text/plain": [
       "<Figure size 1440x720 with 2 Axes>"
      ]
     },
     "metadata": {
      "needs_background": "light"
     },
     "output_type": "display_data"
    }
   ],
   "source": [
    "# Create figure and axes\n",
    "fig, ax1 = plt.subplots(figsize=(20, 10))\n",
    "\n",
    "# Add a boxplot to the left axis\n",
    "sns.boxplot(data=reg_std_df.query(\"reg_type=='l2'\"), x=\"log_reg\", y=\"fts_std\", color=\"lightblue\", ax=ax1)\n",
    "ax1.set_ylim(0, 5)\n",
    "\n",
    "# Add a line plot to the right axis\n",
    "ax2 = ax1.twinx()\n",
    "sns.lineplot(data=std_df.query(\"reg_type=='l2'\"), x=\"log_reg\", y=\"accuracy\", color=\"red\", ax=ax2)\n",
    "ax2.set_ylim(0, 1)\n",
    "\n",
    "# Customize plot labels and legends\n",
    "ax1.set_xlabel('Penalty Term')\n",
    "ax1.set_ylabel('Features Standard Deviation')\n",
    "ax2.set_ylabel('Accuracy')\n",
    "ax2.tick_params(axis='y')\n",
    "plt.title(f\"Standard Deviation Distribution and Accuracy for Different Regularization Strength Values (Ridge Regularization) - Selection of Best 50 Features\")\n",
    "\n",
    "# Show plot\n",
    "plt.show()\n"
   ]
  },
  {
   "cell_type": "code",
   "execution_count": null,
   "metadata": {},
   "outputs": [],
   "source": [
    "(50-len())/50"
   ]
  },
  {
   "cell_type": "code",
   "execution_count": 242,
   "metadata": {},
   "outputs": [
    {
     "name": "stdout",
     "output_type": "stream",
     "text": [
      "0.78\n",
      "0.78\n",
      "0.04\n",
      "0.3\n",
      "0.7\n",
      "0.9\n",
      "0.92\n",
      "0.94\n",
      "0.6\n",
      "0.0\n",
      "0.16\n",
      "0.66\n",
      "0.72\n",
      "0.8\n"
     ]
    }
   ],
   "source": [
    "for i in range(14):\n",
    "    p = (50-len(set(l2_features_dict[i]) - set(l2_features_dict[i+1])))/50\n",
    "    print(p)"
   ]
  },
  {
   "cell_type": "code",
   "execution_count": 225,
   "metadata": {},
   "outputs": [
    {
     "data": {
      "text/plain": [
       "0.8"
      ]
     },
     "execution_count": 225,
     "metadata": {},
     "output_type": "execute_result"
    }
   ],
   "source": [
    "(50-len(set(l2_features_dict[14]) - set(l2_features_dict[13])))/50"
   ]
  },
  {
   "cell_type": "code",
   "execution_count": 226,
   "metadata": {},
   "outputs": [
    {
     "data": {
      "text/plain": [
       "0.72"
      ]
     },
     "execution_count": 226,
     "metadata": {},
     "output_type": "execute_result"
    }
   ],
   "source": [
    "(50-len(set(l2_features_dict[13]) - set(l2_features_dict[12])))/50"
   ]
  },
  {
   "cell_type": "code",
   "execution_count": null,
   "metadata": {},
   "outputs": [],
   "source": [
    "(50-len(set(l2_features_dict[13]) - set(l2_features_dict[12])))/50"
   ]
  }
 ],
 "metadata": {
  "kernelspec": {
   "display_name": "base",
   "language": "python",
   "name": "python3"
  },
  "language_info": {
   "codemirror_mode": {
    "name": "ipython",
    "version": 3
   },
   "file_extension": ".py",
   "mimetype": "text/x-python",
   "name": "python",
   "nbconvert_exporter": "python",
   "pygments_lexer": "ipython3",
   "version": "3.9.12"
  },
  "orig_nbformat": 4
 },
 "nbformat": 4,
 "nbformat_minor": 2
}
