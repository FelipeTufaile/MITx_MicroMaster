{
 "cells": [
  {
   "cell_type": "code",
   "execution_count": 2,
   "metadata": {},
   "outputs": [
    {
     "name": "stderr",
     "output_type": "stream",
     "text": [
      "c:\\Users\\wr2zzgx\\Anaconda3\\lib\\site-packages\\scipy\\__init__.py:146: UserWarning: A NumPy version >=1.16.5 and <1.23.0 is required for this version of SciPy (detected version 1.23.4\n",
      "  warnings.warn(f\"A NumPy version >={np_minversion} and <{np_maxversion}\"\n"
     ]
    }
   ],
   "source": [
    "import numpy as np\n",
    "from scipy.special import comb\n",
    "from scipy.stats import fisher_exact"
   ]
  },
  {
   "cell_type": "code",
   "execution_count": 4,
   "metadata": {},
   "outputs": [
    {
     "data": {
      "text/plain": [
       "0.05024468664277072"
      ]
     },
     "execution_count": 4,
     "metadata": {},
     "output_type": "execute_result"
    }
   ],
   "source": [
    "# Defining number of samples / runs\n",
    "n = 31000\n",
    "\n",
    "# Defining number of positive cases (1)\n",
    "k = 63\n",
    "\n",
    "# Defining probability of event happening\n",
    "p = 0.00203\n",
    "\n",
    "# Calculating binomial pmf\n",
    "pmf = comb(n, k)*(p**k)*((1-p)**(n-k))\n",
    "\n",
    "# Printing pmf\n",
    "pmf"
   ]
  },
  {
   "cell_type": "code",
   "execution_count": 26,
   "metadata": {},
   "outputs": [
    {
     "name": "stdout",
     "output_type": "stream",
     "text": [
      "Statistics - prior odds ratio:0.6185677526719483 | p-value: 0.011094091844052025\n"
     ]
    }
   ],
   "source": [
    "#Importing libraries\n",
    "import numpy as np\n",
    "from scipy.stats import fisher_exact\n",
    "\n",
    "# Creating a contingency table\n",
    "contingency_table = np.array([[39, 63], [30961, 30937]])\n",
    "\n",
    "# Calculating Fisher's exact test\n",
    "statistic, pvalue = fisher_exact(contingency_table, alternative='less')\n",
    "\n",
    "# Printing result\n",
    "print(f\"Statistics - prior odds ratio:{statistic} | p-value: {pvalue}\")"
   ]
  },
  {
   "cell_type": "code",
   "execution_count": 28,
   "metadata": {},
   "outputs": [
    {
     "name": "stdout",
     "output_type": "stream",
     "text": [
      "z statistic:-3.0267929604748476 | p-value: 0.0012358159238705215\n"
     ]
    }
   ],
   "source": [
    "#Importing libraries\n",
    "import numpy as np\n",
    "from scipy.stats import norm\n",
    "\n",
    "# Calculating probability of death in the control group\n",
    "prob_c = 63/31000\n",
    "\n",
    "# Calculating probability of death in the treatment group\n",
    "prob_t = 39/31000\n",
    "\n",
    "# Defining the sample size n\n",
    "n = 31000\n",
    "\n",
    "# Defining the standard deviation\n",
    "sigma = np.sqrt(prob_c*(1-prob_c))\n",
    "\n",
    "# Calculating z\n",
    "z = (prob_t - prob_c)/(sigma/np.sqrt(n))\n",
    "\n",
    "# Calculating the cumulative distribution function from -inf to z considering that\n",
    "# z is a variable sampled from a normal distribution with mean 0 and variance 1 \n",
    "pvalue = norm.cdf(z, loc=0, scale=1)\n",
    "\n",
    "# Printing result\n",
    "print(f\"z statistic:{z} | p-value: {pvalue}\")"
   ]
  },
  {
   "cell_type": "code",
   "execution_count": 44,
   "metadata": {},
   "outputs": [
    {
     "name": "stdout",
     "output_type": "stream",
     "text": [
      "Xbar: 1.78 | Sample size: 10 | Sigma hat: 1.7681126158201075 | t-stat: 3.1835383022188735 | p-value: 0.0055606927492846125\n",
      "t-stat: 3.1835383022188735 | p-value: 0.005560692749284678\n"
     ]
    }
   ],
   "source": [
    "#Importing libraries\n",
    "import numpy as np\n",
    "from scipy.stats import t, ttest_1samp\n",
    "\n",
    "# Defining the sample data\n",
    "x = np.array([0.9, -0.9, 4.3, 2.9, 1.2, 3.0, 2.7, 0.6, 3.6, -0.5])\n",
    "\n",
    "# Calculating probability of death in the treatment group\n",
    "x_bar = x.mean()\n",
    "\n",
    "# Defining the sample size n\n",
    "n = x.shape[0]\n",
    "\n",
    "# Defining the standard deviation\n",
    "sigma_hat = np.sqrt(np.sum((x - x_bar)**2)/(n-1))\n",
    "\n",
    "# Defining mu\n",
    "mu = 0\n",
    "\n",
    "# Calculating t statistic for n-1 degrees of freedom\n",
    "t_stat = (x_bar - mu)/(sigma_hat/(np.sqrt(n)))\n",
    "\n",
    "# Calculating the cumulative distribution function from t to +inf considering that\n",
    "# t is a variable sampled from a t distribution wiht mean 0 and standard deviation 1\n",
    "pvalue = 1 - t.cdf(t_stat, df=n-1, loc=0, scale=1)\n",
    "\n",
    "# Printing result\n",
    "print(f\"Xbar: {x_bar} | Sample size: {n} | Sigma hat: {sigma_hat} | t-stat: {t_stat} | p-value: {pvalue}\")\n",
    "\n",
    "# Using function ttest_1samp\n",
    "t_stat, pvalue = ttest_1samp(a=x, popmean=mu, alternative='greater')\n",
    "\n",
    "# Printing result\n",
    "print(f\"t-stat: {t_stat} | p-value: {pvalue}\")"
   ]
  },
  {
   "cell_type": "code",
   "execution_count": 68,
   "metadata": {},
   "outputs": [
    {
     "name": "stdout",
     "output_type": "stream",
     "text": [
      "Maximum likelihood estimator (MLE) treatment: 0.0012580645161290322 and Probability Mass Function (PMF) treatment: 0.06378567544145823\n",
      "Maximum likelihood estimator (MLE) treatment: 0.002032258064516129 and Probability Mass Function (PMF) treatment: 0.05024664607042506\n",
      "Maximum likelihood estimator (MLE) treatment: 0.0016451612903225807 and Probability Mass Function (PMF) treatment: 0.00018449866030670578\n",
      "The likelihood ratio test statistic is 5.709660479762178\n",
      "The p-value is 0.016871802195942753\n"
     ]
    }
   ],
   "source": [
    "\n",
    "#Importing libraries\n",
    "import numpy as np\n",
    "from scipy.stats import chi2, binom\n",
    "\n",
    "# Number of deaths in the treatment set\n",
    "k_T = 39\n",
    "\n",
    "# Number of deaths in the control set\n",
    "k_C = 63\n",
    "\n",
    "# Number of patients in the treatment set\n",
    "n_T = 31000\n",
    "\n",
    "# Number of patients in the control set\n",
    "n_C = 31000\n",
    "\n",
    "# Maximum likelihood estimator and Probability Mass Function for the treatment set under the alternative hypothesis (HA): pMLE_T diff pMLE_C\n",
    "pMLE_T = k_T/n_T\n",
    "pmf_T = binom.pmf(k=k_T, n=n_T, p=pMLE_T, loc=0)\n",
    "print(f\"Maximum likelihood estimator (MLE) treatment: {pMLE_T} and Probability Mass Function (PMF) treatment: {pmf_T}\")\n",
    "\n",
    ": Maximum likelihood estimator (MLE) treatment: 0.0012580645161290322 and Probability Mass Function (PMF) treatment: 0.06378567544145823\n",
    "\n",
    "# Maximum likelihood estimator and Probability Mass Function for the control set under the alternative hypothesis (HA): pMLE_T diff pMLE_C\n",
    "pMLE_C = k_C/n_C\n",
    "pmf_C = binom.pmf(k=k_C, n=n_C, p=pMLE_C, loc=0)\n",
    "print(f\"Maximum likelihood estimator (MLE) treatment: {pMLE_C} and Probability Mass Function (PMF) treatment: {pmf_C}\")\n",
    "\n",
    ": Maximum likelihood estimator (MLE) treatment: 0.002032258064516129 and Probability Mass Function (PMF) treatment: 0.05024664607042506\n",
    "\n",
    "# Maximum likelihood estimator and Probability Mass Function for the control / treatment set under the null hypothesis (H0): pMLE_T = pMLE_C = pMLE\n",
    "pMLE = (k_T + k_C)/(n_T + n_C)\n",
    "pmf_p = binom.pmf(k=k_T, n=n_T, p=pMLE, loc=0)*binom.pmf(k=k_C, n=n_C, p=pMLE, loc=0)\n",
    "print(f\"Maximum likelihood estimator (MLE) treatment: {pMLE} and Probability Mass Function (PMF) treatment: {pmf_p}\")\n",
    "\n",
    ": Maximum likelihood estimator (MLE) treatment: 0.0016451612903225807 and Probability Mass Function (PMF) treatment: 0.00018449866030670578\n",
    "\n",
    "# Calculating the likelihood ratio test statistic\n",
    "LR_stat = -2*np.log(pmf_p/(pmf_T*pmf_C))\n",
    "print(f\"The likelihood ratio test statistic is {LR_stat}\")\n",
    "\n",
    ": The likelihood ratio test statistic is 5.709660479762178\n",
    "\n",
    "# Calculating p-value assuming a Chi-Squared distribution for LR_stat\n",
    "pvalue = 1 - chi2.cdf(x=LR_stat, df=1, loc=0, scale=1)\n",
    "print(f\"The p-value is {pvalue}\")\n",
    "\n",
    ": The p-value is 0.016871802195942753"
   ]
  },
  {
   "cell_type": "code",
   "execution_count": 75,
   "metadata": {},
   "outputs": [
    {
     "name": "stdout",
     "output_type": "stream",
     "text": [
      "Xs mean: 0.9199250000000001 Mpc and Ys mean: 425.6175 km/s\n",
      "Xs standard deviation: 0.6533948258734996 Mpc and Ys standard deviation: 348.7336574977229 km/s\n",
      "Covariance of Xs and Ys: 191.20706528260868\n"
     ]
    }
   ],
   "source": [
    "# Creating Xs array\n",
    "Xs = np.array([0.0339, 0.0423, 0.213, 0.257, 0.273, 0.273, 0.450, 0.503, 0.503, 0.637, 0.805, 0.904, 0.904, 0.910, 0.910, 1.02, 1.11, 1.11, 1.41, 1.72, 2.03, 2.02, 2.02, 2.02])\n",
    "\n",
    "# Creating Ys array\n",
    "Ys = np.array([-19.3, 30.4, 38.7, 5.52, -33.1, -77.3, 398.0, 406.0, 436.0, 320.0, 373.0, 93.9, 210.0, 423.0, 594.0, 829.0, 718.0, 561.0, 608.0, 1.04E3, 1.10E3, 840.0, 801.0, 519.0])\n",
    "\n",
    "# Storing the number of points\n",
    "n = Xs.shape[0]\n",
    "\n",
    "print(f\"Xs mean: {Xs.mean()} Mpc and Ys mean: {Ys.mean()} km/s\")\n",
    "\n",
    "print(f\"Xs standard deviation: {np.sqrt(np.sum((Xs-Xs.mean())**2)/(n-1))} Mpc and Ys standard deviation: {np.sqrt(np.sum((Ys-Ys.mean())**2)/(n-1))} km/s\")\n",
    "\n",
    "print(f\"Covariance of Xs and Ys: {np.sum((Xs-Xs.mean())*(Ys-Ys.mean()))/(n-1)}\")"
   ]
  },
  {
   "cell_type": "code",
   "execution_count": 77,
   "metadata": {},
   "outputs": [
    {
     "name": "stdout",
     "output_type": "stream",
     "text": [
      "\n",
      "Xs mean: 0.9199250000000001 Mpc\n",
      "Ys mean: 425.6175 km/s\n",
      "Xs standard deviation: 0.6533948258734996 Mpc\n",
      "Ys standard deviation: 348.7336574977229 km/s\n",
      "Covariance between Xs and Ys: 191.20706528260868 Mpc km/s\n",
      "Correlation between Xs and Ys: 0.8391399162310663 unitless\n",
      "\n"
     ]
    }
   ],
   "source": [
    "# Creating Xs array\n",
    "Xs = np.array([0.0339, 0.0423, 0.213, 0.257, 0.273, 0.273, 0.450, 0.503, 0.503, 0.637, 0.805, 0.904, 0.904, 0.910, 0.910, 1.02, 1.11, 1.11, 1.41, 1.72, 2.03, 2.02, 2.02, 2.02])\n",
    "\n",
    "# Creating Ys array\n",
    "Ys = np.array([-19.3, 30.4, 38.7, 5.52, -33.1, -77.3, 398.0, 406.0, 436.0, 320.0, 373.0, 93.9, 210.0, 423.0, 594.0, 829.0, 718.0, 561.0, 608.0, 1.04E3, 1.10E3, 840.0, 801.0, 519.0])\n",
    "\n",
    "# Storing the number of points\n",
    "n = Xs.shape[0]\n",
    "\n",
    "# Calculating Xs mean\n",
    "Xs_mu = Xs.mean()\n",
    "\n",
    "# Calculating Ys mean\n",
    "Ys_mu = Ys.mean()\n",
    "\n",
    "# Calculating Xs standard deviation\n",
    "Xs_std = np.sqrt(np.sum((Xs-Xs.mean())**2)/(n-1))\n",
    "\n",
    "# Calculating Ys standard deviation\n",
    "Ys_std = np.sqrt(np.sum((Ys-Ys.mean())**2)/(n-1))\n",
    "\n",
    "# Standard Xs\n",
    "Xs_z = (Xs - Xs_mu)/Xs_std\n",
    "\n",
    "# Standard Ys\n",
    "Ys_z = (Ys - Ys_mu)/Ys_std\n",
    "\n",
    "# Covariance between Xs and Ys\n",
    "CovXY = np.sum((Xs-Xs.mean())*(Ys-Ys.mean()))/(n-1)\n",
    "\n",
    "# Correlation between Xs and Ys\n",
    "rXY = np.sum(Xs_z*Ys_z)/(n-1)\n",
    "\n",
    "results = f\"\"\"\n",
    "Xs mean: {Xs_mu} Mpc\n",
    "Ys mean: {Ys_mu} km/s\n",
    "Xs standard deviation: {Xs_std} Mpc\n",
    "Ys standard deviation: {Ys_std} km/s\n",
    "Covariance between Xs and Ys: {CovXY} Mpc km/s\n",
    "Correlation between Xs and Ys: {rXY} unitless\n",
    "\"\"\"\n",
    "\n",
    "print(results)"
   ]
  },
  {
   "cell_type": "code",
   "execution_count": 78,
   "metadata": {},
   "outputs": [],
   "source": [
    "def correl(x, y):\n",
    "    # Storing the number of points\n",
    "    n = x.shape[0]\n",
    "\n",
    "    # Calculating x mean\n",
    "    x_mu = x.mean()\n",
    "\n",
    "    # Calculating y mean\n",
    "    y_mu = y.mean()\n",
    "\n",
    "    # Calculating x standard deviation\n",
    "    x_std = np.sqrt(np.sum((x-x.mean())**2)/(n-1))\n",
    "\n",
    "    # Calculating y standard deviation\n",
    "    y_std = np.sqrt(np.sum((y-y.mean())**2)/(n-1))\n",
    "\n",
    "    # Standard x\n",
    "    x_z = (x - x_mu)/x_std\n",
    "\n",
    "    # Standard y\n",
    "    y_z = (y - y_mu)/y_std\n",
    "\n",
    "    # Correlation between x and y\n",
    "    rxy = np.sum(x_z*y_z)/(n-1)\n",
    "\n",
    "    return rxy\n",
    "\n"
   ]
  },
  {
   "cell_type": "code",
   "execution_count": 102,
   "metadata": {},
   "outputs": [
    {
     "name": "stdout",
     "output_type": "stream",
     "text": [
      "\n",
      "Xs mean: 0.9199250000000001 Mpc\n",
      "Ys mean: 425.6175 km/s\n",
      "Xs standard deviation: 0.6533948258734996 Mpc\n",
      "Ys standard deviation: 348.7336574977229 km/s\n",
      "Covariance between Xs and Ys: 191.20706528260868 Mpc km/s\n",
      "Correlation between Xs and Ys: 0.8391399162310663 unitless\n",
      "Beta1: 447.8705991409983\n",
      "Beta0: 13.6101390852171\n",
      "\n"
     ]
    }
   ],
   "source": [
    "# Creating Xs array\n",
    "Xs = np.array([0.0339, 0.0423, 0.213, 0.257, 0.273, 0.273, 0.450, 0.503, 0.503, 0.637, 0.805, 0.904, 0.904, 0.910, 0.910, 1.02, 1.11, 1.11, 1.41, 1.72, 2.03, 2.02, 2.02, 2.02])\n",
    "\n",
    "# Creating Ys array\n",
    "Ys = np.array([-19.3, 30.4, 38.7, 5.52, -33.1, -77.3, 398.0, 406.0, 436.0, 320.0, 373.0, 93.9, 210.0, 423.0, 594.0, 829.0, 718.0, 561.0, 608.0, 1.04E3, 1.10E3, 840.0, 801.0, 519.0])\n",
    "\n",
    "# Storing the number of points\n",
    "n = Xs.shape[0]\n",
    "\n",
    "# Calculating Xs mean\n",
    "Xs_mu = Xs.mean()\n",
    "\n",
    "# Calculating Ys mean\n",
    "Ys_mu = Ys.mean()\n",
    "\n",
    "# Calculating Xs standard deviation\n",
    "Xs_std = np.sqrt(np.sum((Xs-Xs.mean())**2)/(n-1))\n",
    "\n",
    "# Calculating Ys standard deviation\n",
    "Ys_std = np.sqrt(np.sum((Ys-Ys.mean())**2)/(n-1))\n",
    "\n",
    "# Standard Xs\n",
    "Xs_z = (Xs - Xs_mu)/Xs_std\n",
    "\n",
    "# Standard Ys\n",
    "Ys_z = (Ys - Ys_mu)/Ys_std\n",
    "\n",
    "# Covariance between Xs and Ys\n",
    "CovXY = np.sum((Xs-Xs.mean())*(Ys-Ys.mean()))/(n-1)\n",
    "\n",
    "# Correlation between Xs and Ys\n",
    "rXY = np.sum(Xs_z*Ys_z)/(n-1)\n",
    "\n",
    "# Calculating beta_1\n",
    "beta_1 = rXY*(Ys_std/Xs_std)\n",
    "\n",
    "# Calculating beta_0\n",
    "beta_0 = Ys_mu - beta_1*Xs_mu\n",
    "\n",
    "results = f\"\"\"\n",
    "Xs mean: {Xs_mu} Mpc\n",
    "Ys mean: {Ys_mu} km/s\n",
    "Xs standard deviation: {Xs_std} Mpc\n",
    "Ys standard deviation: {Ys_std} km/s\n",
    "Covariance between Xs and Ys: {CovXY} Mpc km/s\n",
    "Correlation between Xs and Ys: {rXY} unitless\n",
    "Beta1: {beta_1}\n",
    "Beta0: {beta_0}\n",
    "\"\"\"\n",
    "\n",
    "print(results)"
   ]
  },
  {
   "cell_type": "code",
   "execution_count": 104,
   "metadata": {},
   "outputs": [
    {
     "name": "stdout",
     "output_type": "stream",
     "text": [
      "\n",
      "Xs mean: 11.907777777777776 AU\n",
      "Ys mean: 60.23733333333333 year\n",
      "Xs standard deviation: 14.494731601324823 AU\n",
      "Ys standard deviation: 89.54398623162808 year\n",
      "Covariance between Xs and Ys: 1283.4213123333334 AU year\n",
      "Correlation between Xs and Ys: 0.9888323018726735 unitless\n",
      "Beta1: 6.108701317117374\n",
      "Beta0: -12.503724461718768\n",
      "\n"
     ]
    }
   ],
   "source": [
    "# Creating Xs array\n",
    "Xs = np.array([ 0.387, 0.723, 1.00, 1.52, 5.20, 9.54, 19.2, 30.1, 39.5 ])\n",
    "\n",
    "# Creating Ys array\n",
    "Ys = np.array([ 0.241, 0.615, 1.00, 1.88, 11.9, 29.5, 84.0, 165.0, 248 ])\n",
    "\n",
    "# Storing the number of points\n",
    "n = Xs.shape[0]\n",
    "\n",
    "# Calculating Xs mean\n",
    "Xs_mu = Xs.mean()\n",
    "\n",
    "# Calculating Ys mean\n",
    "Ys_mu = Ys.mean()\n",
    "\n",
    "# Calculating Xs standard deviation\n",
    "Xs_std = np.sqrt(np.sum((Xs-Xs.mean())**2)/(n-1))\n",
    "\n",
    "# Calculating Ys standard deviation\n",
    "Ys_std = np.sqrt(np.sum((Ys-Ys.mean())**2)/(n-1))\n",
    "\n",
    "# Standard Xs\n",
    "Xs_z = (Xs - Xs_mu)/Xs_std\n",
    "\n",
    "# Standard Ys\n",
    "Ys_z = (Ys - Ys_mu)/Ys_std\n",
    "\n",
    "# Covariance between Xs and Ys\n",
    "CovXY = np.sum((Xs-Xs.mean())*(Ys-Ys.mean()))/(n-1)\n",
    "\n",
    "# Correlation between Xs and Ys\n",
    "rXY = np.sum(Xs_z*Ys_z)/(n-1)\n",
    "\n",
    "# Calculating beta_1\n",
    "beta_1 = rXY*(Ys_std/Xs_std)\n",
    "\n",
    "# Calculating beta_0\n",
    "beta_0 = Ys_mu - beta_1*Xs_mu\n",
    "\n",
    "# Calculating residuals\n",
    "residuals = Ys - (beta_1*Xs + beta_0)\n",
    "\n",
    "results = f\"\"\"\n",
    "Xs mean: {Xs_mu} AU\n",
    "Ys mean: {Ys_mu} year\n",
    "Xs standard deviation: {Xs_std} AU\n",
    "Ys standard deviation: {Ys_std} year\n",
    "Covariance between Xs and Ys: {CovXY} AU year\n",
    "Correlation between Xs and Ys: {rXY} unitless\n",
    "Beta1: {beta_1}\n",
    "Beta0: {beta_0}\n",
    "\"\"\"\n",
    "\n",
    "print(results)"
   ]
  },
  {
   "cell_type": "code",
   "execution_count": 108,
   "metadata": {},
   "outputs": [
    {
     "data": {
      "image/png": "[encoded data removed]",
      "text/plain": [
       "<Figure size 432x288 with 1 Axes>"
      ]
     },
     "metadata": {
      "needs_background": "light"
     },
     "output_type": "display_data"
    }
   ],
   "source": [
    "# Importing Seaborn\n",
    "import seaborn as sns\n",
    "\n",
    "# Creating plot\n",
    "fig = sns.scatterplot(x=Xs, y=residuals)\n",
    " \n",
    "# Adding labels to the axis and label to the plot\n",
    "fig.set(xlabel =\"X values\", ylabel = \"Residuals\", title ='Residual plot');"
   ]
  },
  {
   "cell_type": "code",
   "execution_count": 109,
   "metadata": {},
   "outputs": [
    {
     "data": {
      "image/png": "[encoded data removed]",
      "text/plain": [
       "<Figure size 432x288 with 1 Axes>"
      ]
     },
     "metadata": {
      "needs_background": "light"
     },
     "output_type": "display_data"
    }
   ],
   "source": [
    "# Importing Seaborn\n",
    "import seaborn as sns\n",
    "\n",
    "# Creating plot\n",
    "fig = sns.scatterplot(x=Ys, y=residuals)\n",
    " \n",
    "# Adding labels to the axis and label to the plot\n",
    "fig.set(xlabel =\"Y values\", ylabel = \"Residuals\", title ='Residual plot');"
   ]
  },
  {
   "cell_type": "code",
   "execution_count": 111,
   "metadata": {},
   "outputs": [
    {
     "data": {
      "image/png": "[encoded data removed]",
      "text/plain": [
       "<Figure size 432x288 with 1 Axes>"
      ]
     },
     "metadata": {
      "needs_background": "light"
     },
     "output_type": "display_data"
    }
   ],
   "source": [
    "# Importing matplotlib pyplot\n",
    "import matplotlib.pyplot as plt\n",
    "\n",
    "# Importing statsmodels lib\n",
    "import statsmodels.api as sm\n",
    "\n",
    "# Creating a QQ-plot\n",
    "sm.qqplot(Xs, line='s')\n",
    "plt.title(\"X distribution\")\n",
    "plt.show()"
   ]
  },
  {
   "cell_type": "code",
   "execution_count": 122,
   "metadata": {},
   "outputs": [
    {
     "name": "stdout",
     "output_type": "stream",
     "text": [
      "\n",
      "Xs mean: 1.4538802139806306 AU\n",
      "Ys mean: 2.181477789171877 year\n",
      "Xs standard deviation: 1.7248419253757807 AU\n",
      "Ys standard deviation: 2.586457153139843 year\n",
      "Covariance between Xs and Ys: 4.461228881643748 AU year\n",
      "Correlation between Xs and Ys: 0.9999998085102114 unitless\n",
      "Beta1: 1.4995325773381893\n",
      "Beta0: 0.0013370447605036695\n",
      "\n"
     ]
    }
   ],
   "source": [
    "# Creating Xs array\n",
    "Xs = np.log(np.array([ 0.387, 0.723, 1.00, 1.52, 5.20, 9.54, 19.2, 30.1, 39.5 ]))\n",
    "\n",
    "# Creating Ys array\n",
    "Ys = np.log(np.array([ 0.241, 0.615, 1.00, 1.88, 11.9, 29.5, 84.0, 165.0, 248 ]))\n",
    "\n",
    "# Storing the number of points\n",
    "n = Xs.shape[0]\n",
    "\n",
    "# Calculating Xs mean\n",
    "Xs_mu = Xs.mean()\n",
    "\n",
    "# Calculating Ys mean\n",
    "Ys_mu = Ys.mean()\n",
    "\n",
    "# Calculating Xs standard deviation\n",
    "Xs_std = np.sqrt(np.sum((Xs-Xs.mean())**2)/(n-1))\n",
    "\n",
    "# Calculating Ys standard deviation\n",
    "Ys_std = np.sqrt(np.sum((Ys-Ys.mean())**2)/(n-1))\n",
    "\n",
    "# Standard Xs\n",
    "Xs_z = (Xs - Xs_mu)/Xs_std\n",
    "\n",
    "# Standard Ys\n",
    "Ys_z = (Ys - Ys_mu)/Ys_std\n",
    "\n",
    "# Covariance between Xs and Ys\n",
    "CovXY = np.sum((Xs-Xs.mean())*(Ys-Ys.mean()))/(n-1)\n",
    "\n",
    "# Correlation between Xs and Ys\n",
    "rXY = np.sum(Xs_z*Ys_z)/(n-1)\n",
    "\n",
    "# Calculating beta_1\n",
    "beta_1 = rXY*(Ys_std/Xs_std)\n",
    "\n",
    "# Calculating beta_0\n",
    "beta_0 = Ys_mu - beta_1*Xs_mu\n",
    "\n",
    "# Calculating residuals\n",
    "residuals = Ys - (beta_1*Xs + beta_0)\n",
    "\n",
    "results = f\"\"\"\n",
    "Xs mean: {Xs_mu} AU\n",
    "Ys mean: {Ys_mu} year\n",
    "Xs standard deviation: {Xs_std} AU\n",
    "Ys standard deviation: {Ys_std} year\n",
    "Covariance between Xs and Ys: {CovXY} AU year\n",
    "Correlation between Xs and Ys: {rXY} unitless\n",
    "Beta1: {beta_1}\n",
    "Beta0: {beta_0}\n",
    "\"\"\"\n",
    "\n",
    "print(results)"
   ]
  },
  {
   "cell_type": "code",
   "execution_count": 123,
   "metadata": {},
   "outputs": [
    {
     "data": {
      "image/png": "[encoded data removed]",
      "text/plain": [
       "<Figure size 432x288 with 1 Axes>"
      ]
     },
     "metadata": {
      "needs_background": "light"
     },
     "output_type": "display_data"
    }
   ],
   "source": [
    "# Importing Seaborn\n",
    "import seaborn as sns\n",
    "\n",
    "# Creating plot\n",
    "fig = sns.scatterplot(x=Xs, y=residuals)\n",
    " \n",
    "# Adding labels to the axis and label to the plot\n",
    "fig.set(xlabel =\"Log X values\", ylabel = \"Residuals\", title ='Residual plot');"
   ]
  },
  {
   "cell_type": "code",
   "execution_count": null,
   "metadata": {},
   "outputs": [],
   "source": []
  },
  {
   "cell_type": "code",
   "execution_count": 4,
   "metadata": {},
   "outputs": [],
   "source": [
    "# Importing Libraries\n",
    "import numpy as np\n",
    "\n",
    "# Defining data\n",
    "LogPlanetMass = np.array([-0.31471074,  1.01160091,  0.58778666,  0.46373402, -0.01005034,\n",
    "         0.66577598, -1.30933332, -0.37106368, -0.40047757, -0.27443685,\n",
    "         1.30833282, -0.46840491, -1.91054301,  0.16551444,  0.78845736,\n",
    "        -2.43041846,  0.21511138,  2.29253476, -2.05330607, -0.43078292,\n",
    "        -4.98204784, -0.48776035, -1.69298258, -0.08664781, -2.28278247,\n",
    "         3.30431931, -3.27016912,  1.14644962, -3.10109279, -0.61248928])\n",
    "\n",
    "LogPlanetRadius = np.array([ 0.32497786,  0.34712953,  0.14842001,  0.45742485,  0.1889661 ,\n",
    "         0.06952606,  0.07696104,  0.3220835 ,  0.42918163, -0.05762911,\n",
    "         0.40546511,  0.19227189, -0.16251893,  0.45107562,  0.3825376 ,\n",
    "        -0.82098055,  0.10436002,  0.0295588 , -1.17921515,  0.55961579,\n",
    "        -2.49253568,  0.11243543, -0.72037861,  0.36464311, -0.46203546,\n",
    "         0.13976194, -2.70306266,  0.12221763, -2.41374014,  0.35627486])\n",
    "\n",
    "LogPlanetOrbit = np.array([-2.63108916, -3.89026151, -3.13752628, -2.99633245, -3.12356565,\n",
    "        -2.33924908, -2.8507665 , -3.04765735, -2.84043939, -3.19004544,\n",
    "        -3.14655516, -3.13729584, -3.09887303, -3.09004295, -3.16296819,\n",
    "        -2.3227878 , -3.77661837, -2.52572864, -4.13641734, -3.05018846,\n",
    "        -2.40141145, -3.14795149, -0.40361682, -3.2148838 , -2.74575207,\n",
    "        -3.70014265, -1.98923527, -3.35440922, -1.96897409, -2.99773428])\n",
    "\n",
    "StarMetallicity = np.array([ 0.11 , -0.002, -0.4  ,  0.01 ,  0.15 ,  0.22 , -0.01 ,  0.02 ,\n",
    "        -0.06 , -0.127,  0.   ,  0.12 ,  0.27 ,  0.09 , -0.077,  0.3  ,\n",
    "         0.14 , -0.07 ,  0.19 , -0.02 ,  0.12 ,  0.251,  0.07 ,  0.16 ,\n",
    "         0.19 ,  0.052, -0.32 ,  0.258,  0.02 , -0.17 ])\n",
    "\n",
    "LogStarMass = np.array([ 0.27002714,  0.19144646, -0.16369609,  0.44468582,  0.19227189,\n",
    "         0.01291623,  0.0861777 ,  0.1380213 ,  0.49469624, -0.43850496,\n",
    "         0.54232429,  0.02469261,  0.07325046,  0.42133846,  0.2592826 ,\n",
    "        -0.09431068, -0.24846136, -0.12783337, -0.07364654,  0.26159474,\n",
    "         0.07603469, -0.07796154,  0.09440068,  0.07510747,  0.17395331,\n",
    "         0.28893129, -0.21940057,  0.02566775, -0.09211529,  0.16551444])\n",
    "\n",
    "LogStarAge = np.array([ 1.58103844,  1.06471074,  2.39789527,  0.72754861,  0.55675456,\n",
    "         1.91692261,  1.64865863,  1.38629436,  0.77472717,  1.36097655,\n",
    "         0.        ,  1.80828877,  1.7837273 ,  0.64185389,  0.69813472,\n",
    "         2.39789527, -0.35667494,  1.79175947,  1.90210753,  1.39624469,\n",
    "         1.84054963,  2.19722458,  1.89761986,  1.84054963,  0.74193734,\n",
    "         0.55961579,  1.79175947,  0.91629073,  2.17475172,  1.36097655])\n",
    "\n",
    "N = 30"
   ]
  },
  {
   "cell_type": "code",
   "execution_count": 21,
   "metadata": {},
   "outputs": [
    {
     "name": "stdout",
     "output_type": "stream",
     "text": [
      "[ 0.15379303  1.40214538 -0.14099818 -1.59951364 -0.95610919 -0.46176234]\n"
     ]
    }
   ],
   "source": [
    "# Creating X vector\n",
    "X = np.concatenate([\n",
    "    np.ones(shape=(N,1)), \n",
    "    LogPlanetRadius.reshape(N,1),\n",
    "    LogPlanetOrbit.reshape(N,1),\n",
    "    StarMetallicity.reshape(N,1),\n",
    "    LogStarMass.reshape(N,1),\n",
    "    LogStarAge.reshape(N,1)\n",
    "], axis=1)\n",
    "\n",
    "# Creating y vector\n",
    "y = LogPlanetMass.reshape(N,1)\n",
    "\n",
    "# Calculating Beta\n",
    "beta = np.linalg.inv(X.T@X)@X.T@y\n",
    "\n",
    "# Printing Beta\n",
    "print(beta[:,0])"
   ]
  },
  {
   "cell_type": "code",
   "execution_count": 46,
   "metadata": {},
   "outputs": [
    {
     "name": "stdout",
     "output_type": "stream",
     "text": [
      "['intercept: 0.111', 'LogPlanetRadius: 4.895', 'LogPlanetOrbit: -0.392', 'StarMetallicity: -1.279', 'LogStarMass: -0.856', 'LogStarAge: -1.243']\n"
     ]
    }
   ],
   "source": [
    "# Calculating sigma hat\n",
    "sigma_hat = np.sqrt(np.sum(((y - X@beta)**2)/(N-X.shape[1])))\n",
    "\n",
    "# Calculating Sigma vector\n",
    "Sigma_vec = np.sqrt(np.linalg.inv(X.T@X).diagonal()).reshape(X.shape[1], 1)\n",
    "\n",
    "# Calculating T-statistics\n",
    "T_vec = beta/(sigma_hat*Sigma_vec)\n",
    "\n",
    "# Features\n",
    "features_name = ['intercept', 'LogPlanetRadius', 'LogPlanetOrbit', 'StarMetallicity', 'LogStarMass', 'LogStarAge']\n",
    "\n",
    "# Printing Beta\n",
    "print([f\"{feature}: {round(value,3)}\" for feature, value in zip(features_name, T_vec[:,0])])"
   ]
  },
  {
   "cell_type": "code",
   "execution_count": null,
   "metadata": {},
   "outputs": [],
   "source": []
  }
 ],
 "metadata": {
  "kernelspec": {
   "display_name": "base",
   "language": "python",
   "name": "python3"
  },
  "language_info": {
   "codemirror_mode": {
    "name": "ipython",
    "version": 3
   },
   "file_extension": ".py",
   "mimetype": "text/x-python",
   "name": "python",
   "nbconvert_exporter": "python",
   "pygments_lexer": "ipython3",
   "version": "3.9.12"
  },
  "orig_nbformat": 4
 },
 "nbformat": 4,
 "nbformat_minor": 2
}
