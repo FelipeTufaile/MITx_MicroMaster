{
 "cells": [
  {
   "cell_type": "code",
   "execution_count": 3,
   "metadata": {},
   "outputs": [],
   "source": [
    "import pandas as pd\n",
    "import seaborn as sns"
   ]
  },
  {
   "cell_type": "code",
   "execution_count": 4,
   "metadata": {},
   "outputs": [],
   "source": [
    "df = pd.read_csv(\"gamma-ray.csv\")\n",
    "\n",
    "df['rate'] = df['count']/df['seconds']"
   ]
  },
  {
   "cell_type": "code",
   "execution_count": 5,
   "metadata": {},
   "outputs": [
    {
     "data": {
      "text/plain": [
       "<AxesSubplot:xlabel='rate', ylabel='Count'>"
      ]
     },
     "execution_count": 5,
     "metadata": {},
     "output_type": "execute_result"
    },
    {
     "data": {
      "image/png": "[encoded data removed]",
      "text/plain": [
       "<Figure size 432x288 with 1 Axes>"
      ]
     },
     "metadata": {
      "needs_background": "light"
     },
     "output_type": "display_data"
    }
   ],
   "source": [
    "sns.histplot(data=df, x=\"rate\")"
   ]
  },
  {
   "cell_type": "code",
   "execution_count": 6,
   "metadata": {},
   "outputs": [
    {
     "data": {
      "text/plain": [
       "0.0038808514969907496"
      ]
     },
     "execution_count": 6,
     "metadata": {},
     "output_type": "execute_result"
    }
   ],
   "source": [
    "df['count'].sum()/df['seconds'].sum()"
   ]
  },
  {
   "cell_type": "code",
   "execution_count": 7,
   "metadata": {},
   "outputs": [
    {
     "data": {
      "text/plain": [
       "0.61"
      ]
     },
     "execution_count": 7,
     "metadata": {},
     "output_type": "execute_result"
    }
   ],
   "source": [
    "df['count'].mean()"
   ]
  },
  {
   "cell_type": "code",
   "execution_count": 8,
   "metadata": {},
   "outputs": [
    {
     "data": {
      "text/plain": [
       "-0.001628841581497262"
      ]
     },
     "execution_count": 8,
     "metadata": {},
     "output_type": "execute_result"
    }
   ],
   "source": [
    "(0.0042 - 0.004206852295946855)/0.004206852295946855"
   ]
  },
  {
   "cell_type": "code",
   "execution_count": 9,
   "metadata": {},
   "outputs": [
    {
     "name": "stdout",
     "output_type": "stream",
     "text": [
      "The likelihood ratio test statistic is 104.33272117042188\n",
      "The p-value is 0.337398546433923\n"
     ]
    }
   ],
   "source": [
    "#Importing libraries\n",
    "import numpy as np\n",
    "from scipy.stats import chi2, binom, poisson\n",
    "\n",
    "# Maximum likelihood estimator and Probability Mass Function for the treatment set under the alternative hypothesis (HA): pMLE_T diff pMLE_C\n",
    "L_HA = 1\n",
    "for k_i, t_i in zip(df['count'].values, df['seconds'].values): \n",
    "    pmf_i = poisson.pmf(k=k_i, mu=k_i/t_i)\n",
    "    L_HA *= pmf_i\n",
    "\n",
    "# Maximum likelihood estimator and Probability Mass Function for the control / treatment set under the null hypothesis (H0): pMLE_T = pMLE_C = pMLE\n",
    "L_H0 = 1\n",
    "for k_i, t_i in zip(df['count'].values, df['seconds'].values): \n",
    "    pmf_i = poisson.pmf(k=k_i, mu=df['count'].sum()/df['seconds'].sum())\n",
    "    L_H0 *= pmf_i\n",
    "\n",
    "# Calculating the likelihood ratio test statistic\n",
    "LR_stat = -2*np.log(L_H0/L_HA)\n",
    "print(f\"The likelihood ratio test statistic is {LR_stat}\")\n",
    "\n",
    "# Calculating p-value assuming a Chi-Squared distribution for LR_stat\n",
    "pvalue = 1 - chi2.cdf(x=LR_stat, df=99)\n",
    "print(f\"The p-value is {pvalue}\")"
   ]
  },
  {
   "cell_type": "code",
   "execution_count": 10,
   "metadata": {},
   "outputs": [
    {
     "data": {
      "text/plain": [
       "0.05000013599602504"
      ]
     },
     "execution_count": 10,
     "metadata": {},
     "output_type": "execute_result"
    }
   ],
   "source": [
    "1-chi2.cdf(x=123.2252, df=99)"
   ]
  },
  {
   "cell_type": "code",
   "execution_count": 11,
   "metadata": {},
   "outputs": [],
   "source": [
    "golub_data = pd.read_csv(\"golub.csv\",  index_col='Unnamed: 0')"
   ]
  },
  {
   "cell_type": "code",
   "execution_count": 12,
   "metadata": {},
   "outputs": [],
   "source": [
    "import math\n",
    "\n",
    "\n",
    "all_arr = golub_data[golub_data.columns[0:27]].values\n",
    "aml_arr = golub_data[golub_data.columns[27:]].values\n",
    "\n",
    "all_mu_arr = np.mean(all_arr, axis=1)\n",
    "aml_mu_arr = np.mean(aml_arr, axis=1)\n",
    "\n",
    "all_var_arr = np.var(all_arr, axis=1)/all_arr.shape[1]\n",
    "aml_var_arr = np.var(aml_arr, axis=1)/aml_arr.shape[1]\n",
    "\n",
    "tw = (all_mu_arr - aml_mu_arr)/np.sqrt(all_var_arr + aml_var_arr)\n",
    "\n",
    "dfw = ((all_var_arr + aml_var_arr)**2)/((1/(all_arr.shape[1]-1))*all_var_arr**2 + (1/(aml_arr.shape[1]-1))*aml_var_arr**2)\n",
    "#dfw = np.array([math.floor(dfw_i) for dfw_i in dfw])"
   ]
  },
  {
   "cell_type": "code",
   "execution_count": 13,
   "metadata": {},
   "outputs": [
    {
     "data": {
      "text/plain": [
       "1131"
      ]
     },
     "execution_count": 13,
     "metadata": {},
     "output_type": "execute_result"
    }
   ],
   "source": [
    "#Importing libraries\n",
    "import numpy as np\n",
    "from scipy.stats import chi2, binom, poisson, t\n",
    "\n",
    "counter = 0\n",
    "p_values = []\n",
    "for tw_i, dfw_i in zip(tw, dfw):\n",
    "    p_value = 1-t.cdf(x=np.abs(tw_i), df=dfw_i, loc=0, scale=1)\n",
    "    p_values.append(p_value)\n",
    "    if(p_value < 0.025):\n",
    "        counter += 1\n",
    "\n",
    "counter"
   ]
  },
  {
   "cell_type": "code",
   "execution_count": 14,
   "metadata": {},
   "outputs": [
    {
     "ename": "NameError",
     "evalue": "name 'ps' is not defined",
     "output_type": "error",
     "traceback": [
      "\u001b[1;31m---------------------------------------------------------------------------\u001b[0m",
      "\u001b[1;31mNameError\u001b[0m                                 Traceback (most recent call last)",
      "\u001b[1;32mc:\\Users\\wr2zzgx\\OneDrive-Deere&Co\\OneDrive - Deere & Co\\Documents\\MIT\\Statistics\\Exercise01\\20230911_Exercise01.ipynb Cell 12\u001b[0m in \u001b[0;36m<cell line: 1>\u001b[1;34m()\u001b[0m\n\u001b[1;32m----> <a href='vscode-notebook-cell:/c%3A/Users/wr2zzgx/OneDrive-Deere%26Co/OneDrive%20-%20Deere%20%26%20Co/Documents/MIT/Statistics/Exercise01/20230911_Exercise01.ipynb#X14sZmlsZQ%3D%3D?line=0'>1</a>\u001b[0m p_values_increasing \u001b[39m=\u001b[39m \u001b[39msorted\u001b[39m(ps)\n",
      "\u001b[1;31mNameError\u001b[0m: name 'ps' is not defined"
     ]
    }
   ],
   "source": [
    "p_values_increasing = sorted(ps)"
   ]
  },
  {
   "cell_type": "code",
   "execution_count": null,
   "metadata": {},
   "outputs": [
    {
     "data": {
      "text/plain": [
       "89"
      ]
     },
     "execution_count": 187,
     "metadata": {},
     "output_type": "execute_result"
    }
   ],
   "source": [
    "m = len(p_values_increasing)\n",
    "count = 0\n",
    "alpha = 0.025\n",
    "for i, p_value_i in enumerate(p_values_increasing):\n",
    "    if(p_value_i*(m - (i+1-1)) <= alpha):\n",
    "        count += 1\n",
    "    else:\n",
    "        break\n",
    "count"
   ]
  },
  {
   "cell_type": "code",
   "execution_count": null,
   "metadata": {},
   "outputs": [],
   "source": [
    "from statsmodels.stats import multitest, weightstats"
   ]
  },
  {
   "cell_type": "code",
   "execution_count": null,
   "metadata": {},
   "outputs": [],
   "source": [
    "ps = []\n",
    "for i in range(golub_data.shape[0]):\n",
    "    t, p, df = weightstats.ttest_ind(x1=all_arr[i,:], x2=aml_arr[i,:], alternative='two-sided', usevar='unequal')\n",
    "    ps.append(p)"
   ]
  },
  {
   "cell_type": "code",
   "execution_count": null,
   "metadata": {},
   "outputs": [],
   "source": [
    "res = multitest.multipletests(pvals=ps, alpha=0.025, method='fdr_bh', is_sorted=False, returnsorted=True)"
   ]
  },
  {
   "cell_type": "code",
   "execution_count": null,
   "metadata": {},
   "outputs": [
    {
     "data": {
      "text/plain": [
       "540"
      ]
     },
     "execution_count": 184,
     "metadata": {},
     "output_type": "execute_result"
    }
   ],
   "source": [
    "np.sum(res[0])"
   ]
  },
  {
   "cell_type": "code",
   "execution_count": 16,
   "metadata": {},
   "outputs": [],
   "source": [
    "Xraw = pd.read_csv(\"syn_X.csv\", header=None)\n",
    "yraw = pd.read_csv(\"syn_y.csv\", header=None)"
   ]
  },
  {
   "cell_type": "code",
   "execution_count": 17,
   "metadata": {},
   "outputs": [
    {
     "name": "stdout",
     "output_type": "stream",
     "text": [
      "[ 1.92960603  1.26397096 -4.59799331]\n"
     ]
    }
   ],
   "source": [
    "# Creating X vector\n",
    "X = np.concatenate([\n",
    "    np.ones(shape=(Xraw.shape[0],1)), \n",
    "    Xraw.values[:,0].reshape((Xraw.shape[0],1)),\n",
    "    Xraw.values[:,1].reshape((Xraw.shape[0],1))\n",
    "], axis=1)\n",
    "\n",
    "# Creating y vector\n",
    "y = yraw.values.reshape((Xraw.shape[0],1))\n",
    "\n",
    "# Calculating Beta\n",
    "beta = np.linalg.inv(X.T@X)@X.T@y\n",
    "\n",
    "# Printing Beta\n",
    "print(beta[:,0])"
   ]
  },
  {
   "cell_type": "code",
   "execution_count": 96,
   "metadata": {},
   "outputs": [],
   "source": [
    "def gradient_descent(X, y, step_size, precision, beta):\n",
    "    \n",
    "    j_k = 0\n",
    "    beta_i = np.zeros((X.shape[1], 1))\n",
    "    error = np.max(np.abs(beta-beta_i))\n",
    "    m = X.shape[0]\n",
    "\n",
    "    count = 0\n",
    "\n",
    "    while (error > precision):\n",
    "\n",
    "        j_i = np.sum((1/(2*m))*(y - X@beta_i)**2)\n",
    "\n",
    "        beta_i = beta_i - step_size*(-(X.T@y) + (X.T@X@beta_i))*(1/m)\n",
    "\n",
    "        count += 1\n",
    "\n",
    "        error = np.max(np.abs(beta-beta_i))\n",
    "\n",
    "\n",
    "    return count, beta_i"
   ]
  },
  {
   "cell_type": "code",
   "execution_count": 101,
   "metadata": {},
   "outputs": [],
   "source": [
    "best_it = float('inf')\n",
    "for lr in range(1, 14000):\n",
    "    it, beta_i = gradient_descent(X=X, y=y, step_size=lr/10000, precision=10**(-8), beta=beta)\n",
    "    if(it < best_it):\n",
    "        hold_lr = lr/10000\n",
    "        best_it = it"
   ]
  },
  {
   "cell_type": "code",
   "execution_count": 102,
   "metadata": {},
   "outputs": [
    {
     "data": {
      "text/plain": [
       "13"
      ]
     },
     "execution_count": 102,
     "metadata": {},
     "output_type": "execute_result"
    }
   ],
   "source": [
    "best_it"
   ]
  },
  {
   "cell_type": "code",
   "execution_count": 105,
   "metadata": {},
   "outputs": [
    {
     "data": {
      "text/plain": [
       "0.8623"
      ]
     },
     "execution_count": 105,
     "metadata": {},
     "output_type": "execute_result"
    }
   ],
   "source": [
    "hold_lr"
   ]
  },
  {
   "cell_type": "code",
   "execution_count": 104,
   "metadata": {},
   "outputs": [
    {
     "data": {
      "text/plain": [
       "array([[ 1.92960603],\n",
       "       [ 1.26397097],\n",
       "       [-4.5979933 ]])"
      ]
     },
     "execution_count": 104,
     "metadata": {},
     "output_type": "execute_result"
    }
   ],
   "source": [
    "beta_i"
   ]
  },
  {
   "cell_type": "code",
   "execution_count": 109,
   "metadata": {},
   "outputs": [],
   "source": [
    "dfmort = pd.read_csv(\"mortality.csv\")\n",
    "dfmort['intercept'] = 1"
   ]
  },
  {
   "cell_type": "code",
   "execution_count": 174,
   "metadata": {},
   "outputs": [],
   "source": [
    "Xm = dfmort[\n",
    "    [\n",
    "        'JanTemp', \n",
    "        'JulyTemp', \n",
    "        'RelHum', \n",
    "        'Rain', \n",
    "        'Educ', \n",
    "        'Dens', \n",
    "        'NonWhite', \n",
    "        'WhiteCollar', \n",
    "        'Pop', \n",
    "        'House', \n",
    "        'Income', \n",
    "        'HC', \n",
    "        'NOx', \n",
    "        'SO2'\n",
    "        ]\n",
    "]"
   ]
  },
  {
   "cell_type": "code",
   "execution_count": 176,
   "metadata": {},
   "outputs": [],
   "source": [
    "# Importing Sklearn Libraries\n",
    "from sklearn.preprocessing import StandardScaler"
   ]
  },
  {
   "cell_type": "code",
   "execution_count": 177,
   "metadata": {},
   "outputs": [],
   "source": [
    "# Defining a StandardScaler Object\n",
    "scaler = StandardScaler()\n",
    "\n",
    "# Fitting the features columns to the scaler object \n",
    "scaler.fit(Xm)\n",
    "\n",
    "# Applying scaling to features\n",
    "Xz = scaler.transform(Xm)"
   ]
  },
  {
   "cell_type": "code",
   "execution_count": 178,
   "metadata": {},
   "outputs": [],
   "source": [
    "from sklearn.linear_model import LinearRegression"
   ]
  },
  {
   "cell_type": "code",
   "execution_count": 181,
   "metadata": {},
   "outputs": [
    {
     "data": {
      "text/plain": [
       "array([ 921.87,  997.87,  962.35,  982.29, 1071.29, 1030.38,  934.7 ,\n",
       "        899.53, 1001.9 ,  912.35, 1017.61, 1024.89,  970.47,  985.95,\n",
       "        958.84,  860.1 ,  936.23,  871.77,  959.22,  941.18,  871.34,\n",
       "        971.12,  887.47,  952.53,  968.67,  919.73,  844.05,  861.26,\n",
       "        989.26, 1006.49,  861.44,  929.15,  857.62,  961.01,  923.23,\n",
       "       1113.16,  994.65, 1015.02,  991.29,  893.99,  938.5 ,  946.19,\n",
       "       1025.5 ,  874.28,  953.56,  839.71,  911.7 ,  790.73,  899.26,\n",
       "        904.16,  950.67,  972.46,  912.2 ,  967.8 ,  823.76, 1003.5 ,\n",
       "        895.7 ,  911.82,  954.44])"
      ]
     },
     "execution_count": 181,
     "metadata": {},
     "output_type": "execute_result"
    }
   ],
   "source": [
    "dfmort['Mortality'].values"
   ]
  },
  {
   "cell_type": "code",
   "execution_count": 267,
   "metadata": {},
   "outputs": [],
   "source": [
    "reg = LinearRegression().fit(Xz, dfmort['Mortality'].values)"
   ]
  },
  {
   "cell_type": "code",
   "execution_count": 268,
   "metadata": {},
   "outputs": [
    {
     "data": {
      "text/plain": [
       "[-14.50562,\n",
       " -13.4609,\n",
       " 0.72559,\n",
       " 11.12502,\n",
       " -9.31721,\n",
       " 6.74267,\n",
       " 47.30559,\n",
       " -7.50122,\n",
       " 5.20078,\n",
       " -6.89946,\n",
       " -1.88571,\n",
       " -61.65432,\n",
       " 54.52784,\n",
       " 5.32964]"
      ]
     },
     "execution_count": 268,
     "metadata": {},
     "output_type": "execute_result"
    }
   ],
   "source": [
    "[round(i,5) for i in reg.coef_]"
   ]
  },
  {
   "cell_type": "code",
   "execution_count": 266,
   "metadata": {},
   "outputs": [
    {
     "data": {
      "text/plain": [
       "1400.0347123519368"
      ]
     },
     "execution_count": 266,
     "metadata": {},
     "output_type": "execute_result"
    }
   ],
   "source": [
    "reg.intercept_"
   ]
  },
  {
   "cell_type": "code",
   "execution_count": 269,
   "metadata": {},
   "outputs": [],
   "source": [
    "def gradient_descent(X, y, step_size, precision):\n",
    "    \n",
    "    j_k = 0\n",
    "    beta_i = np.zeros((X.shape[1], 1))\n",
    "    error = float('inf')\n",
    "    m = X.shape[0]\n",
    "\n",
    "    count = 0\n",
    "\n",
    "    while (error > precision):\n",
    "\n",
    "        j_i = np.sum((1/(2*m))*(y - X@beta_i)**2)\n",
    "\n",
    "        beta_i = beta_i - step_size*(-(X.T@y) + (X.T@X@beta_i))*(1/m)\n",
    "\n",
    "        count += 1\n",
    "\n",
    "        error = np.abs(j_i - j_k)\n",
    "        j_k = j_i\n",
    "\n",
    "\n",
    "    return count, beta_i"
   ]
  },
  {
   "cell_type": "code",
   "execution_count": 273,
   "metadata": {},
   "outputs": [],
   "source": [
    "# Creating X vector\n",
    "Xzi = np.concatenate([\n",
    "    np.ones(shape=(Xz.shape[0],1)), \n",
    "    Xz\n",
    "], axis=1)"
   ]
  },
  {
   "cell_type": "code",
   "execution_count": 282,
   "metadata": {},
   "outputs": [],
   "source": [
    "it, beta_i = gradient_descent(X=Xzi, y=dfmort['Mortality'].values.reshape(-1,1), step_size=0.01, precision=1e-50)"
   ]
  },
  {
   "cell_type": "code",
   "execution_count": 283,
   "metadata": {},
   "outputs": [
    {
     "data": {
      "text/plain": [
       "[941.173,\n",
       " -14.506,\n",
       " -13.461,\n",
       " 0.726,\n",
       " 11.125,\n",
       " -9.317,\n",
       " 6.743,\n",
       " 47.306,\n",
       " -7.501,\n",
       " 5.201,\n",
       " -6.899,\n",
       " -1.886,\n",
       " -61.653,\n",
       " 54.526,\n",
       " 5.33]"
      ]
     },
     "execution_count": 283,
     "metadata": {},
     "output_type": "execute_result"
    }
   ],
   "source": [
    "[round(i, 3) for i in beta_i[:,0]]"
   ]
  },
  {
   "cell_type": "code",
   "execution_count": null,
   "metadata": {},
   "outputs": [],
   "source": [
    " [\n",
    "        'intercept', \n",
    "        'JanTemp', \n",
    "        'JulyTemp', \n",
    "        'RelHum', \n",
    "        'Rain', \n",
    "        'Educ', \n",
    "        'Dens', \n",
    "        'NonWhite', \n",
    "        'WhiteCollar', \n",
    "        'Pop', \n",
    "        'House', \n",
    "        'Income', \n",
    "        'HC', \n",
    "        'NOx', \n",
    "        'SO2'\n",
    "        ]"
   ]
  },
  {
   "cell_type": "code",
   "execution_count": 187,
   "metadata": {},
   "outputs": [],
   "source": [
    "\n",
    "# Importing scipy stats\n",
    "from scipy import stats"
   ]
  },
  {
   "cell_type": "code",
   "execution_count": 239,
   "metadata": {},
   "outputs": [
    {
     "data": {
      "text/plain": [
       "0.7187634599333806"
      ]
     },
     "execution_count": 239,
     "metadata": {},
     "output_type": "execute_result"
    }
   ],
   "source": [
    "# Calculating the different between points randomly sampled from x and y distributions\n",
    "w = np.log(dfmort['Dens'].values)\n",
    "#w = dfmort['Dens'].values\n",
    "\n",
    "# Calculating w mean\n",
    "w_mu = w.mean()\n",
    "\n",
    "# Calculating w standard deviation\n",
    "w_std = w.std()\n",
    "\n",
    "# Calculating z-statistic\n",
    "z = (w - w_mu)/w_std\n",
    "\n",
    "# Perfoming a Kolmogorov-Smirnov test for goodness of fit\n",
    "ks_statistic, ks_pvalue = stats.kstest(z, 'norm')\n",
    "\n",
    "ks_pvalue"
   ]
  },
  {
   "cell_type": "code",
   "execution_count": 245,
   "metadata": {},
   "outputs": [
    {
     "data": {
      "image/png": "[encoded data removed]",
      "text/plain": [
       "<Figure size 432x288 with 1 Axes>"
      ]
     },
     "metadata": {
      "needs_background": "light"
     },
     "output_type": "display_data"
    }
   ],
   "source": [
    "# Importing matplotlib pyplot\n",
    "import matplotlib.pyplot as plt\n",
    "\n",
    "# Importing statsmodels lib\n",
    "import statsmodels.api as sm\n",
    "\n",
    "# Creating a QQ-plot\n",
    "sm.qqplot(dfmort['Pop'], line='s')\n",
    "plt.title(\"X distribution\")\n",
    "plt.show()"
   ]
  },
  {
   "cell_type": "code",
   "execution_count": 157,
   "metadata": {},
   "outputs": [
    {
     "data": {
      "text/plain": [
       "<AxesSubplot:xlabel='RelHum', ylabel='Count'>"
      ]
     },
     "execution_count": 157,
     "metadata": {},
     "output_type": "execute_result"
    },
    {
     "data": {
      "image/png": "[encoded data removed]",
      "text/plain": [
       "<Figure size 432x288 with 1 Axes>"
      ]
     },
     "metadata": {
      "needs_background": "light"
     },
     "output_type": "display_data"
    }
   ],
   "source": [
    "sns.histplot(data=dfmort, x=\"RelHum\")"
   ]
  },
  {
   "cell_type": "code",
   "execution_count": 28,
   "metadata": {},
   "outputs": [],
   "source": [
    "import numpy as np\n",
    "\n",
    "n = np.array(list(range(1, 101)))\n",
    "\n",
    "beta = 0.25\n",
    "alpha = 0.05\n",
    "R = 0.5\n",
    "\n",
    "ppv_atleast = ((1-beta**n)*R)/(R*(1-beta**n) + 1-(1-alpha)**n )\n",
    "ppv_all = ((R*(1-beta))**n)/((R*(1-beta)+ alpha)**n)"
   ]
  },
  {
   "cell_type": "code",
   "execution_count": 29,
   "metadata": {},
   "outputs": [
    {
     "data": {
      "text/plain": [
       "array([0.88235294, 0.82781457, 0.77532736, 0.72862805, 0.6882879 ,\n",
       "       0.65361801, 0.62368938, 0.59766811, 0.57487652, 0.55477675,\n",
       "       0.53694157, 0.52102875, 0.50676125, 0.49391252, 0.48229552,\n",
       "       0.47175449, 0.46215861, 0.45339725, 0.44537621, 0.43801475,\n",
       "       0.43124327, 0.42500149, 0.41923689, 0.41390352, 0.40896101,\n",
       "       0.40437374, 0.40011014, 0.39614217, 0.39244482, 0.3889957 ,\n",
       "       0.38577473, 0.38276383, 0.37994669, 0.37730855, 0.37483602,\n",
       "       0.37251696, 0.37034026, 0.36829584, 0.36637443, 0.36456758,\n",
       "       0.36286749, 0.36126704, 0.35975962, 0.35833919, 0.35700012,\n",
       "       0.35573725, 0.35454577, 0.35342123, 0.3523595 , 0.35135676,\n",
       "       0.35040942, 0.34951417, 0.34866791, 0.34786775, 0.34711099,\n",
       "       0.34639511, 0.34571776, 0.34507672, 0.34446994, 0.34389546,\n",
       "       0.34335148, 0.3428363 , 0.3423483 , 0.34188598, 0.34144794,\n",
       "       0.34103284, 0.34063943, 0.34026652, 0.33991302, 0.33957787,\n",
       "       0.3392601 , 0.33895876, 0.33867298, 0.33840194, 0.33814485,\n",
       "       0.33790098, 0.33766962, 0.33745013, 0.33724188, 0.33704427,\n",
       "       0.33685677, 0.33667883, 0.33650996, 0.33634969, 0.33619758,\n",
       "       0.3360532 , 0.33591615, 0.33578606, 0.33566256, 0.33554533,\n",
       "       0.33543403, 0.33532837, 0.33522805, 0.3351328 , 0.33504237,\n",
       "       0.3349565 , 0.33487497, 0.33479755, 0.33472403, 0.33465422])"
      ]
     },
     "execution_count": 29,
     "metadata": {},
     "output_type": "execute_result"
    }
   ],
   "source": [
    "ppv_atleast"
   ]
  },
  {
   "cell_type": "code",
   "execution_count": 30,
   "metadata": {},
   "outputs": [
    {
     "data": {
      "text/plain": [
       "array([8.82352941e-01, 7.78546713e-01, 6.86952982e-01, 6.06134984e-01,\n",
       "       5.34824986e-01, 4.71904399e-01, 4.16386235e-01, 3.67399619e-01,\n",
       "       3.24176134e-01, 2.86037766e-01, 2.52386264e-01, 2.22693762e-01,\n",
       "       1.96494496e-01, 1.73377496e-01, 1.52980144e-01, 1.34982480e-01,\n",
       "       1.19102188e-01, 1.05090166e-01, 9.27266171e-02, 8.18176033e-02,\n",
       "       7.21920029e-02, 6.36988261e-02, 5.62048466e-02, 4.95925117e-02,\n",
       "       4.37580985e-02, 3.86100869e-02, 3.40677238e-02, 3.00597563e-02,\n",
       "       2.65233144e-02, 2.34029244e-02, 2.06496392e-02, 1.82202699e-02,\n",
       "       1.60767087e-02, 1.41853312e-02, 1.25164687e-02, 1.10439430e-02,\n",
       "       9.74465559e-03, 8.59822552e-03, 7.58666957e-03, 6.69412021e-03,\n",
       "       5.90657666e-03, 5.21168529e-03, 4.59854584e-03, 4.05754045e-03,\n",
       "       3.58018275e-03, 3.15898478e-03, 2.78733951e-03, 2.45941721e-03,\n",
       "       2.17007401e-03, 1.91477119e-03, 1.68950399e-03, 1.49073881e-03,\n",
       "       1.31535778e-03, 1.16060980e-03, 1.02406747e-03, 9.03588947e-04,\n",
       "       7.97284365e-04, 7.03486205e-04, 6.20723122e-04, 5.47696872e-04,\n",
       "       4.83261946e-04, 4.26407599e-04, 3.76241999e-04, 3.31978235e-04,\n",
       "       2.92921972e-04, 2.58460563e-04, 2.28053438e-04, 2.01223622e-04,\n",
       "       1.77550255e-04, 1.56661989e-04, 1.38231167e-04, 1.21968677e-04,\n",
       "       1.07619421e-04, 9.49583125e-05, 8.37867463e-05, 7.39294820e-05,\n",
       "       6.52318959e-05, 5.75575552e-05, 5.07860781e-05, 4.48112454e-05,\n",
       "       3.95393342e-05, 3.48876478e-05, 3.07832187e-05, 2.71616635e-05,\n",
       "       2.39661737e-05, 2.11466239e-05, 1.86587858e-05, 1.64636345e-05,\n",
       "       1.45267363e-05, 1.28177085e-05, 1.13097428e-05, 9.97918483e-06,\n",
       "       8.80516308e-06, 7.76926154e-06, 6.85523077e-06, 6.04873303e-06,\n",
       "       5.33711738e-06, 4.70922122e-06, 4.15519519e-06, 3.66634870e-06])"
      ]
     },
     "execution_count": 30,
     "metadata": {},
     "output_type": "execute_result"
    }
   ],
   "source": [
    "ppv_all"
   ]
  },
  {
   "cell_type": "code",
   "execution_count": 93,
   "metadata": {},
   "outputs": [
    {
     "data": {
      "text/plain": [
       "array([5.5 , 5.  , 3.25])"
      ]
     },
     "execution_count": 93,
     "metadata": {},
     "output_type": "execute_result"
    }
   ],
   "source": [
    "x = np.array([\n",
    "    [8,4,7],\n",
    "    [2,8,1],\n",
    "    [3,1,1],\n",
    "    [9,7,4]\n",
    "])\n",
    "\n",
    "np.mean(x.T, axis=1)"
   ]
  },
  {
   "cell_type": "code",
   "execution_count": 106,
   "metadata": {},
   "outputs": [
    {
     "data": {
      "text/plain": [
       "array([[8, 2, 3, 9],\n",
       "       [4, 8, 1, 7],\n",
       "       [7, 1, 1, 4]])"
      ]
     },
     "execution_count": 106,
     "metadata": {},
     "output_type": "execute_result"
    }
   ],
   "source": [
    "x = np.array([\n",
    "    [8,2,3,9],\n",
    "    [4,8,1,7],\n",
    "    [7,1,1,4]\n",
    "])\n",
    "\n",
    "x"
   ]
  },
  {
   "cell_type": "code",
   "execution_count": 81,
   "metadata": {},
   "outputs": [
    {
     "data": {
      "text/plain": [
       "array([[12.33333333,  1.33333333,  8.5       ],\n",
       "       [ 1.33333333, 10.        ,  0.        ],\n",
       "       [ 8.5       ,  0.        ,  8.25      ]])"
      ]
     },
     "execution_count": 81,
     "metadata": {},
     "output_type": "execute_result"
    }
   ],
   "source": [
    "np.cov(x.T)"
   ]
  },
  {
   "cell_type": "code",
   "execution_count": 83,
   "metadata": {},
   "outputs": [
    {
     "data": {
      "text/plain": [
       "array([[12.33333333,  1.33333333,  8.5       ],\n",
       "       [ 1.33333333, 10.        ,  0.        ],\n",
       "       [ 8.5       ,  0.        ,  8.25      ]])"
      ]
     },
     "execution_count": 83,
     "metadata": {},
     "output_type": "execute_result"
    }
   ],
   "source": [
    "np.cov(x)"
   ]
  },
  {
   "cell_type": "code",
   "execution_count": 89,
   "metadata": {},
   "outputs": [
    {
     "data": {
      "text/plain": [
       "129"
      ]
     },
     "execution_count": 89,
     "metadata": {},
     "output_type": "execute_result"
    }
   ],
   "source": [
    "x[0][:]@x[0][:].T"
   ]
  },
  {
   "cell_type": "code",
   "execution_count": 134,
   "metadata": {},
   "outputs": [
    {
     "data": {
      "text/plain": [
       "array([[9.25  , 1.    , 6.375 ],\n",
       "       [1.    , 7.5   , 0.    ],\n",
       "       [6.375 , 0.    , 6.1875]])"
      ]
     },
     "execution_count": 134,
     "metadata": {},
     "output_type": "execute_result"
    }
   ],
   "source": [
    "1/4*(x[:,0].reshape(-1,1)@x[:,0].reshape(-1,1).T + \\\n",
    "    x[:,1].reshape(-1,1)@x[:,1].reshape(-1,1).T + \\\n",
    "        x[:,2].reshape(-1,1)@x[:,2].reshape(-1,1).T +\n",
    "            x[:,3].reshape(-1,1)@x[:,3].reshape(-1,1).T) - \\\n",
    "            np.mean(x, axis=1).reshape(-1,1)@np.mean(x, axis=1).reshape(-1,1).T\n",
    "        "
   ]
  },
  {
   "cell_type": "code",
   "execution_count": 165,
   "metadata": {},
   "outputs": [
    {
     "data": {
      "text/plain": [
       "array([[8, 4, 7],\n",
       "       [2, 8, 1],\n",
       "       [3, 1, 1],\n",
       "       [9, 7, 4]])"
      ]
     },
     "execution_count": 165,
     "metadata": {},
     "output_type": "execute_result"
    }
   ],
   "source": [
    "y = x.T\n",
    "y"
   ]
  },
  {
   "cell_type": "code",
   "execution_count": 186,
   "metadata": {},
   "outputs": [
    {
     "data": {
      "text/plain": [
       "array([[9.25  , 1.    , 6.375 ],\n",
       "       [1.    , 7.5   , 0.    ],\n",
       "       [6.375 , 0.    , 6.1875]])"
      ]
     },
     "execution_count": 186,
     "metadata": {},
     "output_type": "execute_result"
    }
   ],
   "source": [
    "y.T@(np.eye(4) - (1/4)*np.ones((4,1))@np.ones((4,1)).T)@y/4"
   ]
  },
  {
   "cell_type": "code",
   "execution_count": 187,
   "metadata": {},
   "outputs": [
    {
     "data": {
      "text/plain": [
       "array([[ 0.66666667, -0.33333333, -0.33333333],\n",
       "       [-0.33333333,  0.66666667, -0.33333333],\n",
       "       [-0.33333333, -0.33333333,  0.66666667]])"
      ]
     },
     "execution_count": 187,
     "metadata": {},
     "output_type": "execute_result"
    }
   ],
   "source": [
    "H = (np.eye(3) - (1/3)*np.ones((3,1))@np.ones((3,1)).T)\n",
    "H"
   ]
  },
  {
   "cell_type": "code",
   "execution_count": 209,
   "metadata": {},
   "outputs": [],
   "source": [
    "a = np.array([\n",
    "    [2],\n",
    "    [10],\n",
    "    [1]\n",
    "])"
   ]
  },
  {
   "cell_type": "code",
   "execution_count": 214,
   "metadata": {},
   "outputs": [
    {
     "data": {
      "text/plain": [
       "array([-2.33333333,  5.66666667, -3.33333333])"
      ]
     },
     "execution_count": 214,
     "metadata": {},
     "output_type": "execute_result"
    }
   ],
   "source": [
    "H@a[:,0]*np.ones((3,1))[:,0]"
   ]
  },
  {
   "cell_type": "code",
   "execution_count": 191,
   "metadata": {},
   "outputs": [
    {
     "data": {
      "text/plain": [
       "array([[ 2.33333333],\n",
       "       [-0.66666667],\n",
       "       [-1.66666667]])"
      ]
     },
     "execution_count": 191,
     "metadata": {},
     "output_type": "execute_result"
    }
   ],
   "source": [
    "(H@H.T)@a"
   ]
  },
  {
   "cell_type": "code",
   "execution_count": 193,
   "metadata": {},
   "outputs": [
    {
     "data": {
      "text/plain": [
       "array([[ 2.33333333],\n",
       "       [-0.66666667],\n",
       "       [-1.66666667]])"
      ]
     },
     "execution_count": 193,
     "metadata": {},
     "output_type": "execute_result"
    }
   ],
   "source": [
    "(H@H@H)@a"
   ]
  },
  {
   "cell_type": "code",
   "execution_count": 215,
   "metadata": {},
   "outputs": [
    {
     "data": {
      "text/plain": [
       "array([[0.4472136 ],\n",
       "       [0.89442719]])"
      ]
     },
     "execution_count": 215,
     "metadata": {},
     "output_type": "execute_result"
    }
   ],
   "source": [
    "u = (1/(np.sqrt(5)))*np.array([[1], [2]])\n",
    "u    "
   ]
  },
  {
   "cell_type": "code",
   "execution_count": 218,
   "metadata": {},
   "outputs": [
    {
     "data": {
      "text/plain": [
       "array([[0.4472136 ],\n",
       "       [0.89442719]])"
      ]
     },
     "execution_count": 218,
     "metadata": {},
     "output_type": "execute_result"
    }
   ],
   "source": [
    "u_norm = u/np.linalg.norm(u)\n",
    "u_norm"
   ]
  },
  {
   "cell_type": "code",
   "execution_count": 225,
   "metadata": {},
   "outputs": [
    {
     "data": {
      "text/plain": [
       "array([[1.],\n",
       "       [2.]])"
      ]
     },
     "execution_count": 225,
     "metadata": {},
     "output_type": "execute_result"
    }
   ],
   "source": [
    "x1 = np.array([[1], [2]])\n",
    "\n",
    "(u_norm.T@x1)*u_norm"
   ]
  },
  {
   "cell_type": "code",
   "execution_count": 226,
   "metadata": {},
   "outputs": [
    {
     "data": {
      "text/plain": [
       "array([[2.2],\n",
       "       [4.4]])"
      ]
     },
     "execution_count": 226,
     "metadata": {},
     "output_type": "execute_result"
    }
   ],
   "source": [
    "x2 = np.array([[3], [4]])\n",
    "\n",
    "(u_norm.T@x2)*u_norm"
   ]
  },
  {
   "cell_type": "code",
   "execution_count": 227,
   "metadata": {},
   "outputs": [
    {
     "data": {
      "text/plain": [
       "array([[-0.2],\n",
       "       [-0.4]])"
      ]
     },
     "execution_count": 227,
     "metadata": {},
     "output_type": "execute_result"
    }
   ],
   "source": [
    "x3 = np.array([[-1], [0]])\n",
    "\n",
    "(u_norm.T@x3)*u_norm"
   ]
  },
  {
   "cell_type": "code",
   "execution_count": 244,
   "metadata": {},
   "outputs": [
    {
     "data": {
      "text/plain": [
       "array([[ 2.23606798],\n",
       "       [ 4.91934955],\n",
       "       [-0.4472136 ]])"
      ]
     },
     "execution_count": 244,
     "metadata": {},
     "output_type": "execute_result"
    }
   ],
   "source": [
    "X = np.array([(u_norm.T@x1)[0][0], (u_norm.T@x2)[0][0], (u_norm.T@x3)[0][0]]).reshape(-1,1)\n",
    "X"
   ]
  },
  {
   "cell_type": "code",
   "execution_count": 247,
   "metadata": {},
   "outputs": [
    {
     "data": {
      "text/plain": [
       "array([[4.8]])"
      ]
     },
     "execution_count": 247,
     "metadata": {},
     "output_type": "execute_result"
    }
   ],
   "source": [
    "n=X.shape[0]\n",
    "S = X.T@(np.eye(n) - (1/n)*np.ones((n,1))@np.ones((n,1)).T)@X/n\n",
    "S"
   ]
  },
  {
   "cell_type": "code",
   "execution_count": 242,
   "metadata": {},
   "outputs": [
    {
     "ename": "ValueError",
     "evalue": "matmul: Input operand 1 does not have enough dimensions (has 0, gufunc core with signature (n?,k),(k,m?)->(n?,m?) requires 1)",
     "output_type": "error",
     "traceback": [
      "\u001b[1;31m---------------------------------------------------------------------------\u001b[0m",
      "\u001b[1;31mValueError\u001b[0m                                Traceback (most recent call last)",
      "\u001b[1;32mc:\\Users\\wr2zzgx\\OneDrive-Deere&Co\\OneDrive - Deere & Co\\Documents\\MIT\\Statistics\\Exercise01\\20230911_Exercise01.ipynb Cell 67\u001b[0m in \u001b[0;36m<cell line: 1>\u001b[1;34m()\u001b[0m\n\u001b[1;32m----> <a href='vscode-notebook-cell:/c%3A/Users/wr2zzgx/OneDrive-Deere%26Co/OneDrive%20-%20Deere%20%26%20Co/Documents/MIT/Statistics/Exercise01/20230911_Exercise01.ipynb#Y146sZmlsZQ%3D%3D?line=0'>1</a>\u001b[0m u_norm\u001b[39m.\u001b[39;49mT\u001b[39m@S\u001b[39;49m\n",
      "\u001b[1;31mValueError\u001b[0m: matmul: Input operand 1 does not have enough dimensions (has 0, gufunc core with signature (n?,k),(k,m?)->(n?,m?) requires 1)"
     ]
    }
   ],
   "source": [
    "u_norm.T@S"
   ]
  },
  {
   "cell_type": "code",
   "execution_count": 250,
   "metadata": {},
   "outputs": [
    {
     "data": {
      "text/plain": [
       "array([[1.]])"
      ]
     },
     "execution_count": 250,
     "metadata": {},
     "output_type": "execute_result"
    }
   ],
   "source": [
    "u_norm.T@u_norm"
   ]
  },
  {
   "cell_type": "code",
   "execution_count": 263,
   "metadata": {},
   "outputs": [],
   "source": [
    "sample = np.random.normal(loc=[0,0], scale=[1,1], size=(100,2))"
   ]
  },
  {
   "cell_type": "code",
   "execution_count": 264,
   "metadata": {},
   "outputs": [
    {
     "data": {
      "text/plain": [
       "array([[ 0.92898775, -0.09736006],\n",
       "       [-0.09736006,  0.95900387]])"
      ]
     },
     "execution_count": 264,
     "metadata": {},
     "output_type": "execute_result"
    }
   ],
   "source": [
    "n=sample.shape[0]\n",
    "S = sample.T@(np.eye(n) - (1/n)*np.ones((n,1))@np.ones((n,1)).T)@sample/n\n",
    "S"
   ]
  },
  {
   "cell_type": "code",
   "execution_count": 289,
   "metadata": {},
   "outputs": [
    {
     "data": {
      "text/plain": [
       "array([[0.00454033]])"
      ]
     },
     "execution_count": 289,
     "metadata": {},
     "output_type": "execute_result"
    }
   ],
   "source": [
    "a=0.39999999999999999999999\n",
    "np.array([[1], [a]]).T@S@np.array([[1], [a]])-1\n"
   ]
  },
  {
   "cell_type": "code",
   "execution_count": 291,
   "metadata": {},
   "outputs": [
    {
     "data": {
      "text/plain": [
       "array([[0., 0., 0.],\n",
       "       [0., 0., 0.],\n",
       "       [0., 0., 0.]])"
      ]
     },
     "execution_count": 291,
     "metadata": {},
     "output_type": "execute_result"
    }
   ],
   "source": [
    "np.eye(3).T@np.eye(3)-np.eye(3)"
   ]
  },
  {
   "cell_type": "code",
   "execution_count": 294,
   "metadata": {},
   "outputs": [],
   "source": [
    "D = 3*np.eye(3)"
   ]
  },
  {
   "cell_type": "code",
   "execution_count": 297,
   "metadata": {},
   "outputs": [
    {
     "data": {
      "text/plain": [
       "27.0"
      ]
     },
     "execution_count": 297,
     "metadata": {},
     "output_type": "execute_result"
    }
   ],
   "source": [
    "np.linalg.det(np.eye(3).T@D@np.eye(3))"
   ]
  },
  {
   "cell_type": "code",
   "execution_count": null,
   "metadata": {},
   "outputs": [],
   "source": []
  },
  {
   "cell_type": "code",
   "execution_count": 304,
   "metadata": {},
   "outputs": [],
   "source": [
    "H = np.eye(2) - (1/2)*np.ones((2,1))@np.ones((2,1)).T"
   ]
  },
  {
   "cell_type": "code",
   "execution_count": 303,
   "metadata": {},
   "outputs": [
    {
     "data": {
      "text/plain": [
       "array([[0., 0.],\n",
       "       [0., 1.]])"
      ]
     },
     "execution_count": 303,
     "metadata": {},
     "output_type": "execute_result"
    }
   ],
   "source": [
    "np.array([[0, 1],[0,-1]]).T@np.array([[0, 1],[0,-1]])/2"
   ]
  },
  {
   "cell_type": "code",
   "execution_count": 308,
   "metadata": {},
   "outputs": [],
   "source": [
    "H = np.eye(2) - (1/2)*np.ones((2,1))@np.ones((2,1)).T"
   ]
  },
  {
   "cell_type": "code",
   "execution_count": 350,
   "metadata": {},
   "outputs": [
    {
     "data": {
      "text/plain": [
       "array([[1.  , 0.5 ],\n",
       "       [0.5 , 0.25]])"
      ]
     },
     "execution_count": 350,
     "metadata": {},
     "output_type": "execute_result"
    }
   ],
   "source": [
    "A = np.array([[1, 0.5],[-1,-0.5]])\n",
    "#A = np.array([[0, 1],[0,-1]])\n",
    "#A = np.array([[1, 1],[4,1]])\n",
    "\n",
    "n = A.shape[0]\n",
    "\n",
    "S = A.T@A/n\n",
    "\n",
    "#n=A.shape[0]\n",
    "#S = A.T@(np.eye(n) - (1/n)*np.ones((n,1))@np.ones((n,1)).T)@A/n\n",
    "S\n",
    "\n",
    "S"
   ]
  },
  {
   "cell_type": "code",
   "execution_count": 351,
   "metadata": {},
   "outputs": [],
   "source": [
    "eigenval, eigenvec = np.linalg.eig(S)"
   ]
  },
  {
   "cell_type": "code",
   "execution_count": 352,
   "metadata": {},
   "outputs": [
    {
     "data": {
      "text/plain": [
       "array([1.25, 0.  ])"
      ]
     },
     "execution_count": 352,
     "metadata": {},
     "output_type": "execute_result"
    }
   ],
   "source": [
    "eigenval"
   ]
  },
  {
   "cell_type": "code",
   "execution_count": 354,
   "metadata": {},
   "outputs": [
    {
     "data": {
      "text/plain": [
       "array([[ 1.99999998, -0.99999999],\n",
       "       [ 0.99999999,  1.99999998]])"
      ]
     },
     "execution_count": 354,
     "metadata": {},
     "output_type": "execute_result"
    }
   ],
   "source": [
    "eigenvec/0.4472136"
   ]
  },
  {
   "cell_type": "code",
   "execution_count": 363,
   "metadata": {},
   "outputs": [
    {
     "data": {
      "text/plain": [
       "array([[1.11803399]])"
      ]
     },
     "execution_count": 363,
     "metadata": {},
     "output_type": "execute_result"
    }
   ],
   "source": [
    "y1 = eigenvec[:,0].reshape(-1,1).T@A[0,:].reshape(-1,1)\n",
    "y1"
   ]
  },
  {
   "cell_type": "code",
   "execution_count": 364,
   "metadata": {},
   "outputs": [
    {
     "data": {
      "text/plain": [
       "array([[-1.11803399]])"
      ]
     },
     "execution_count": 364,
     "metadata": {},
     "output_type": "execute_result"
    }
   ],
   "source": [
    "y2 = eigenvec[:,0].reshape(-1,1).T@A[1,:].reshape(-1,1)\n",
    "y2"
   ]
  },
  {
   "cell_type": "code",
   "execution_count": 2,
   "metadata": {},
   "outputs": [],
   "source": [
    "import numpy as np"
   ]
  },
  {
   "cell_type": "code",
   "execution_count": 7,
   "metadata": {},
   "outputs": [
    {
     "data": {
      "text/plain": [
       "array([[ 6.66666667e-01,  0.00000000e+00],\n",
       "       [-7.40148683e-17,  2.00000000e+00]])"
      ]
     },
     "execution_count": 7,
     "metadata": {},
     "output_type": "execute_result"
    }
   ],
   "source": [
    "x1 = np.array([[0], [2]])\n",
    "x2 = np.array([[1], [-1]])\n",
    "x3 = np.array([[-1], [-1]])\n",
    "\n",
    "A = np.array([[0, 2], [1,-1], [-1,-1]])\n",
    "\n",
    "n = A.shape[0]\n",
    "\n",
    "S = A.T@(np.eye(n) - (1/n)*np.ones((n,1))@np.ones((n,1)).T)@A/n\n",
    "\n",
    "S"
   ]
  },
  {
   "cell_type": "code",
   "execution_count": 10,
   "metadata": {},
   "outputs": [
    {
     "data": {
      "text/plain": [
       "array([[0.66666667, 0.        ],\n",
       "       [0.        , 2.        ]])"
      ]
     },
     "execution_count": 10,
     "metadata": {},
     "output_type": "execute_result"
    }
   ],
   "source": [
    "S = A.T@A/n\n",
    "\n",
    "S"
   ]
  },
  {
   "cell_type": "code",
   "execution_count": 11,
   "metadata": {},
   "outputs": [],
   "source": [
    "eigenval, eigenvec = np.linalg.eig(S)"
   ]
  },
  {
   "cell_type": "code",
   "execution_count": 12,
   "metadata": {},
   "outputs": [
    {
     "data": {
      "text/plain": [
       "array([0.66666667, 2.        ])"
      ]
     },
     "execution_count": 12,
     "metadata": {},
     "output_type": "execute_result"
    }
   ],
   "source": [
    "eigenval"
   ]
  },
  {
   "cell_type": "code",
   "execution_count": 13,
   "metadata": {},
   "outputs": [
    {
     "data": {
      "text/plain": [
       "array([[1., 0.],\n",
       "       [0., 1.]])"
      ]
     },
     "execution_count": 13,
     "metadata": {},
     "output_type": "execute_result"
    }
   ],
   "source": [
    "eigenvec"
   ]
  },
  {
   "cell_type": "code",
   "execution_count": 14,
   "metadata": {},
   "outputs": [
    {
     "data": {
      "text/plain": [
       "array([[2]])"
      ]
     },
     "execution_count": 14,
     "metadata": {},
     "output_type": "execute_result"
    }
   ],
   "source": [
    "x1.T@np.array([[0], [1]])"
   ]
  },
  {
   "cell_type": "code",
   "execution_count": 15,
   "metadata": {},
   "outputs": [
    {
     "data": {
      "text/plain": [
       "array([[-1]])"
      ]
     },
     "execution_count": 15,
     "metadata": {},
     "output_type": "execute_result"
    }
   ],
   "source": [
    "x2.T@np.array([[0], [1]])"
   ]
  },
  {
   "cell_type": "code",
   "execution_count": 16,
   "metadata": {},
   "outputs": [
    {
     "data": {
      "text/plain": [
       "array([[-1]])"
      ]
     },
     "execution_count": 16,
     "metadata": {},
     "output_type": "execute_result"
    }
   ],
   "source": [
    "x3.T@np.array([[0], [1]])"
   ]
  },
  {
   "cell_type": "code",
   "execution_count": 18,
   "metadata": {},
   "outputs": [
    {
     "data": {
      "text/plain": [
       "array([[0.5, 0.5],\n",
       "       [0.5, 2.5]])"
      ]
     },
     "execution_count": 18,
     "metadata": {},
     "output_type": "execute_result"
    }
   ],
   "source": [
    "x1 = np.array([[0], [2]])\n",
    "x2 = np.array([[0], [-2]])\n",
    "x3 = np.array([[1], [1]])\n",
    "x4 = np.array([[-1], [-1]])\n",
    "\n",
    "A = np.array([[0, 2], [0,-2], [1,1], [-1,-1]])\n",
    "\n",
    "n = A.shape[0]\n",
    "\n",
    "S = A.T@(np.eye(n) - (1/n)*np.ones((n,1))@np.ones((n,1)).T)@A/n\n",
    "\n",
    "S"
   ]
  },
  {
   "cell_type": "code",
   "execution_count": 19,
   "metadata": {},
   "outputs": [],
   "source": [
    "eigenval, eigenvec = np.linalg.eig(S)"
   ]
  },
  {
   "cell_type": "code",
   "execution_count": 20,
   "metadata": {},
   "outputs": [
    {
     "data": {
      "text/plain": [
       "array([0.38196601, 2.61803399])"
      ]
     },
     "execution_count": 20,
     "metadata": {},
     "output_type": "execute_result"
    }
   ],
   "source": [
    "eigenval"
   ]
  },
  {
   "cell_type": "code",
   "execution_count": 25,
   "metadata": {},
   "outputs": [
    {
     "data": {
      "text/plain": [
       "array([[-0.97324899, -0.22975292],\n",
       "       [ 0.22975292, -0.97324899]])"
      ]
     },
     "execution_count": 25,
     "metadata": {},
     "output_type": "execute_result"
    }
   ],
   "source": [
    "eigenvec"
   ]
  },
  {
   "cell_type": "code",
   "execution_count": 44,
   "metadata": {},
   "outputs": [
    {
     "data": {
      "text/plain": [
       "array([[-1.94649798,  0.45950584]])"
      ]
     },
     "execution_count": 44,
     "metadata": {},
     "output_type": "execute_result"
    }
   ],
   "source": [
    "(np.concatenate([eigenvec[:,1].reshape(-1,1), eigenvec[:,0].reshape(-1,1)], axis=1)@x1).T"
   ]
  },
  {
   "cell_type": "code",
   "execution_count": 32,
   "metadata": {},
   "outputs": [
    {
     "data": {
      "text/plain": [
       "array([0.4472136 , 1.89442719])"
      ]
     },
     "execution_count": 32,
     "metadata": {},
     "output_type": "execute_result"
    }
   ],
   "source": [
    "x1.T@eigenvec[:,1]*eigenvec[:,1]"
   ]
  },
  {
   "cell_type": "code",
   "execution_count": 37,
   "metadata": {},
   "outputs": [
    {
     "data": {
      "text/plain": [
       "array([1., 1.])"
      ]
     },
     "execution_count": 37,
     "metadata": {},
     "output_type": "execute_result"
    }
   ],
   "source": [
    "np.sum(eigenvec**2, axis=1)"
   ]
  },
  {
   "cell_type": "code",
   "execution_count": 46,
   "metadata": {},
   "outputs": [
    {
     "data": {
      "text/plain": [
       "array([[ 2,  0,  0],\n",
       "       [ 0,  2, -2],\n",
       "       [ 0, -2,  2]])"
      ]
     },
     "execution_count": 46,
     "metadata": {},
     "output_type": "execute_result"
    }
   ],
   "source": [
    "X = np.array([[1,1], [1, -1], [-1,1]])\n",
    "\n",
    "B = X@X.T\n",
    "\n",
    "B"
   ]
  },
  {
   "cell_type": "code",
   "execution_count": 47,
   "metadata": {},
   "outputs": [],
   "source": [
    "eigenval, eigenvec = np.linalg.eig(B)"
   ]
  },
  {
   "cell_type": "code",
   "execution_count": 48,
   "metadata": {},
   "outputs": [
    {
     "data": {
      "text/plain": [
       "array([4.0000000e+00, 4.4408921e-16, 2.0000000e+00])"
      ]
     },
     "execution_count": 48,
     "metadata": {},
     "output_type": "execute_result"
    }
   ],
   "source": [
    "eigenval"
   ]
  },
  {
   "cell_type": "code",
   "execution_count": 49,
   "metadata": {},
   "outputs": [
    {
     "data": {
      "text/plain": [
       "array([[ 0.        ,  0.        ,  1.        ],\n",
       "       [-0.70710678,  0.70710678,  0.        ],\n",
       "       [ 0.70710678,  0.70710678,  0.        ]])"
      ]
     },
     "execution_count": 49,
     "metadata": {},
     "output_type": "execute_result"
    }
   ],
   "source": [
    "eigenvec"
   ]
  },
  {
   "cell_type": "code",
   "execution_count": 52,
   "metadata": {},
   "outputs": [
    {
     "data": {
      "text/plain": [
       "array([ 0.        , -0.70710678,  0.70710678])"
      ]
     },
     "execution_count": 52,
     "metadata": {},
     "output_type": "execute_result"
    }
   ],
   "source": [
    "eigenvec[:,0]/np.linalg.norm(eigenvec[:,0])"
   ]
  },
  {
   "cell_type": "code",
   "execution_count": 56,
   "metadata": {},
   "outputs": [
    {
     "data": {
      "text/plain": [
       "array([[ 0.        ],\n",
       "       [-0.35355339],\n",
       "       [ 0.35355339]])"
      ]
     },
     "execution_count": 56,
     "metadata": {},
     "output_type": "execute_result"
    }
   ],
   "source": [
    "eigenvec[:,0].reshape(-1,1)*(4**-.5)"
   ]
  },
  {
   "cell_type": "code",
   "execution_count": 3,
   "metadata": {},
   "outputs": [],
   "source": [
    "import numpy as np"
   ]
  },
  {
   "cell_type": "code",
   "execution_count": 7,
   "metadata": {},
   "outputs": [],
   "source": [
    "k = 1  - ((2*np.exp(1) + 1)/3)*np.exp((-2*np.exp(1)/(1+2*np.exp(1))))"
   ]
  },
  {
   "cell_type": "code",
   "execution_count": 10,
   "metadata": {},
   "outputs": [
    {
     "data": {
      "text/plain": [
       "0.33683796580865194"
      ]
     },
     "execution_count": 10,
     "metadata": {},
     "output_type": "execute_result"
    }
   ],
   "source": [
    "np.sqrt(k/(1-4*k))"
   ]
  },
  {
   "cell_type": "code",
   "execution_count": 11,
   "metadata": {},
   "outputs": [
    {
     "data": {
      "text/plain": [
       "1.1578463418420823"
      ]
     },
     "execution_count": 11,
     "metadata": {},
     "output_type": "execute_result"
    }
   ],
   "source": [
    "k = 3*np.exp(1)/(2*np.exp(1) + 1)\n",
    "\n",
    "a = np.sqrt((k-1)/(4-3*k))\n",
    "\n",
    "a"
   ]
  },
  {
   "cell_type": "code",
   "execution_count": 13,
   "metadata": {},
   "outputs": [
    {
     "data": {
      "text/plain": [
       "0.4855752884605294"
      ]
     },
     "execution_count": 13,
     "metadata": {},
     "output_type": "execute_result"
    }
   ],
   "source": [
    "(0*np.log(0.49) + 1*np.log(0.51))/(np.log(0.49) + np.log(0.51))"
   ]
  },
  {
   "cell_type": "code",
   "execution_count": 20,
   "metadata": {},
   "outputs": [
    {
     "data": {
      "text/plain": [
       "array([[1.5, 0.5],\n",
       "       [0.5, 1.5]])"
      ]
     },
     "execution_count": 20,
     "metadata": {},
     "output_type": "execute_result"
    }
   ],
   "source": [
    "S = np.array([[1, 1], [1, -1]])@np.array([[2, 0], [0, 1]])@np.array([[1, 1], [1, -1]])/2\n",
    "S"
   ]
  },
  {
   "cell_type": "code",
   "execution_count": 23,
   "metadata": {},
   "outputs": [],
   "source": [
    "E, P = np.linalg.eig(S)"
   ]
  },
  {
   "cell_type": "code",
   "execution_count": 33,
   "metadata": {},
   "outputs": [
    {
     "data": {
      "text/plain": [
       "array([[1., 0.],\n",
       "       [0., 1.]])"
      ]
     },
     "execution_count": 33,
     "metadata": {},
     "output_type": "execute_result"
    }
   ],
   "source": [
    "P.T@S@P"
   ]
  },
  {
   "cell_type": "code",
   "execution_count": 31,
   "metadata": {},
   "outputs": [],
   "source": [
    "P = (1/np.sqrt(2))*np.array([[1, 1], [1, -1]])@(np.linalg.inv(np.array([[2, 0], [0, 1]]))**0.5)"
   ]
  },
  {
   "cell_type": "code",
   "execution_count": 32,
   "metadata": {},
   "outputs": [
    {
     "data": {
      "text/plain": [
       "array([[ 0.5       ,  0.70710678],\n",
       "       [ 0.5       , -0.70710678]])"
      ]
     },
     "execution_count": 32,
     "metadata": {},
     "output_type": "execute_result"
    }
   ],
   "source": [
    "P"
   ]
  },
  {
   "cell_type": "code",
   "execution_count": 34,
   "metadata": {},
   "outputs": [
    {
     "data": {
      "text/plain": [
       "array([[0.5, 0. ],\n",
       "       [0. , 1. ]])"
      ]
     },
     "execution_count": 34,
     "metadata": {},
     "output_type": "execute_result"
    }
   ],
   "source": [
    "P.T@P"
   ]
  },
  {
   "cell_type": "code",
   "execution_count": 40,
   "metadata": {},
   "outputs": [
    {
     "data": {
      "text/plain": [
       "47.0"
      ]
     },
     "execution_count": 40,
     "metadata": {},
     "output_type": "execute_result"
    }
   ],
   "source": [
    "x11 = np.array([[0],[0]])\n",
    "x12 = np.array([[2],[0]])\n",
    "mu1 = 0.5*(x11 + x12)\n",
    "\n",
    "x21 = np.array([[6],[-3]])\n",
    "x22 = np.array([[8],[-3]])\n",
    "mu2 = 0.5*(x21 + x22)\n",
    "\n",
    "n1 = 2\n",
    "n2 = 2\n",
    "\n",
    "s1 = 0\n",
    "for xi in [x11, x12]:\n",
    "    for xj in [x21, x22]:\n",
    "        s1 += np.linalg.norm(xi - xj)**2\n",
    "s1/(n1*n2)"
   ]
  },
  {
   "cell_type": "code",
   "execution_count": 41,
   "metadata": {},
   "outputs": [
    {
     "data": {
      "text/plain": [
       "47.0"
      ]
     },
     "execution_count": 41,
     "metadata": {},
     "output_type": "execute_result"
    }
   ],
   "source": [
    "s1 = 0\n",
    "for xi in [x11, x12]:\n",
    "    for xj in [x21, x22]:\n",
    "        s1 += np.linalg.norm((xi - mu1) + (mu1 - mu2) - (xj - mu2))**2\n",
    "s1/(n1*n2)"
   ]
  },
  {
   "cell_type": "code",
   "execution_count": 42,
   "metadata": {},
   "outputs": [
    {
     "data": {
      "text/plain": [
       "47.00000000000001"
      ]
     },
     "execution_count": 42,
     "metadata": {},
     "output_type": "execute_result"
    }
   ],
   "source": [
    "s1 = 0\n",
    "for xi in [x11, x12]:\n",
    "    for xj in [x21, x22]:\n",
    "        s1 += np.linalg.norm(xi - mu1)**2 + np.linalg.norm(mu1 - mu2)**2 + np.linalg.norm(xj - mu2)**2\n",
    "s1/(n1*n2)"
   ]
  },
  {
   "cell_type": "code",
   "execution_count": 43,
   "metadata": {},
   "outputs": [
    {
     "data": {
      "text/plain": [
       "45.00000000000001"
      ]
     },
     "execution_count": 43,
     "metadata": {},
     "output_type": "execute_result"
    }
   ],
   "source": [
    "s1 = 0\n",
    "for xi in [x11, x12]:\n",
    "    for xj in [x21, x22]:\n",
    "        s1 += np.linalg.norm(mu1 - mu2)**2\n",
    "s1/(n1*n2)"
   ]
  },
  {
   "cell_type": "code",
   "execution_count": null,
   "metadata": {},
   "outputs": [],
   "source": []
  }
 ],
 "metadata": {
  "kernelspec": {
   "display_name": "base",
   "language": "python",
   "name": "python3"
  },
  "language_info": {
   "codemirror_mode": {
    "name": "ipython",
    "version": 3
   },
   "file_extension": ".py",
   "mimetype": "text/x-python",
   "name": "python",
   "nbconvert_exporter": "python",
   "pygments_lexer": "ipython3",
   "version": "3.9.12"
  },
  "orig_nbformat": 4
 },
 "nbformat": 4,
 "nbformat_minor": 2
}
