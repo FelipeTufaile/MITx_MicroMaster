{
 "cells": [
  {
   "cell_type": "code",
   "execution_count": null,
   "metadata": {},
   "outputs": [],
   "source": [
    "# Importing numpy\n",
    "import numpy as np\n",
    "\n",
    "# Importing pandas\n",
    "import pandas as pd\n",
    "\n",
    "# Importing PCA\n",
    "from sklearn.decomposition import PCA\n",
    "\n",
    "# Importing MDS\n",
    "from sklearn.manifold import MDS\n",
    "\n",
    "# Importing T-SNE\n",
    "from sklearn.manifold import TSNE\n",
    "\n",
    "# Importing train test split function\n",
    "from sklearn.model_selection import train_test_split\n",
    "\n",
    "# Importing Seaborn\n",
    "import seaborn as sns\n",
    "\n",
    "# Importing matplotlib\n",
    "import matplotlib.pyplot as plt\n",
    "\n",
    "# Importing K-Means Clustering\n",
    "from sklearn.cluster import KMeans, DBSCAN\n",
    "\n",
    "# Importing Logistic Regression Cross-Validation function\n",
    "from sklearn.linear_model import LogisticRegressionCV\n",
    "\n",
    "# Importing Warnings\n",
    "import warnings\n",
    "\n",
    "# Importing pickle\n",
    "import pickle\n",
    "\n",
    "# suppress FutureWarning\n",
    "warnings.filterwarnings(\"ignore\", category=FutureWarning)"
   ]
  },
  {
   "cell_type": "markdown",
   "metadata": {},
   "source": [
    "## Problem 1"
   ]
  },
  {
   "cell_type": "code",
   "execution_count": null,
   "metadata": {},
   "outputs": [],
   "source": [
    "# Loading the data\n",
    "X=np.load(\"X2.npy\")\n",
    "\n",
    "# Printing the shape of the resulting datasets\n",
    "print(f\"X shape: Number of cells (rows) {X.shape[0]} | Number of genes (columns) {X.shape[1]}\")\n",
    "\n",
    "# Calculating max X value for the first column\n",
    "print(f\"Max X for the first column: {np.max(X[:,0])}\")\n",
    "\n",
    "# Transforming the X data to log2\n",
    "X_log = np.log2(X+1)\n",
    "\n",
    "# Calculating max Xlog value for the first column\n",
    "print(f\"Max Xlog for the first column: {np.max(X_log[:,0])}\")"
   ]
  },
  {
   "cell_type": "code",
   "execution_count": null,
   "metadata": {},
   "outputs": [],
   "source": [
    "# Clustering cells\n",
    "kmeans_X_log = KMeans(n_clusters=3, n_init=100).fit(X_log)\n",
    "\n",
    "# Calculating PCA for the X_log matrix\n",
    "pca_X_log = PCA(n_components=0.85)\n",
    "pca_X_log.fit(X_log.T);\n",
    "\n",
    "# Print summary of the PCA calculation result\n",
    "print(f\"Explained variance: {round(np.sum(pca_X_log.explained_variance_ratio_),3)}\")\n",
    "print(f\"Number of components ('Genes' components): {pca_X_log.n_components_}\")\n",
    "\n",
    "# Creating a PCA embedding with the X_log data\n",
    "pca_embedding_X_log = pca_X_log.components_.T\n",
    "\n",
    "# Printing the shape of the resulting datasets\n",
    "print(f\"X_log PCA shape: Number of cells (rows) {pca_embedding_X_log.shape[0]} | Number of PC genes (columns) {pca_embedding_X_log.shape[1]}\")"
   ]
  },
  {
   "cell_type": "code",
   "execution_count": null,
   "metadata": {},
   "outputs": [],
   "source": [
    "# set the size of the plot\n",
    "plt.figure(figsize=(8, 6))\n",
    "\n",
    "# Plotting clusters in the T-SNE embedding\n",
    "sns.scatterplot(x=pca_embedding_X_log[:,0], y=pca_embedding_X_log[:,1], hue=kmeans_X_log.labels_)\n",
    "\n",
    "# add custom title, x-label, and y-label\n",
    "plt.title(\"Brain cells types explained by the two first principal components (PC) for genes using PCA embedding\")\n",
    "plt.xlabel(\"PC1 for Genes\")\n",
    "plt.ylabel(\"PC2 for Genes\")\n",
    "\n",
    "# display the plot\n",
    "plt.show()"
   ]
  },
  {
   "cell_type": "code",
   "execution_count": null,
   "metadata": {},
   "outputs": [],
   "source": [
    "# Creating a MDS embedding\n",
    "mds_embedding_X_log = MDS(n_components=2).fit_transform(X_log)\n",
    "\n",
    "# set the size of the plot\n",
    "plt.figure(figsize=(8, 6))\n",
    "\n",
    "# Plotting clusters in the T-SNE embedding\n",
    "sns.scatterplot(x=mds_embedding_X_log[:,0], y=mds_embedding_X_log[:,1], hue=kmeans_X_log.labels_)\n",
    "\n",
    "# add custom title, x-label, and y-label\n",
    "plt.title(\"Brain cells types explained by the two first principal components (PC) for genes using MDS embedding\")\n",
    "plt.xlabel(\"PC1 for Genes\")\n",
    "plt.ylabel(\"PC2 for Genes\")\n",
    "\n",
    "# display the plot\n",
    "plt.show()"
   ]
  },
  {
   "cell_type": "code",
   "execution_count": null,
   "metadata": {},
   "outputs": [],
   "source": [
    "# Creating a T-SNE embedding with the PCA embedding data\n",
    "tsne_embedding_X_log = TSNE(n_components=2, perplexity=55).fit_transform(X_log)\n",
    "\n",
    "# set the size of the plot\n",
    "plt.figure(figsize=(8, 6))\n",
    "\n",
    "# Plotting clusters in the T-SNE embedding\n",
    "sns.scatterplot(x=tsne_embedding_X_log[:,0], y=tsne_embedding_X_log[:,1], hue=kmeans_X_log.labels_+1)\n",
    "\n",
    "# add custom title, x-label, and y-label\n",
    "plt.title(f\"Brain cells sub-types explained by genes principal components (PC) using t-SNE embedding (Perplexity: {55})\")\n",
    "plt.xlabel(\"Genes PC1\")\n",
    "plt.ylabel(\"Genes PC2\")\n",
    "\n",
    "# display the plot\n",
    "plt.show()"
   ]
  },
  {
   "cell_type": "code",
   "execution_count": null,
   "metadata": {},
   "outputs": [],
   "source": [
    "# Creating cluster using DBSCAN\n",
    "dbscan_clusters = DBSCAN(eps=1.51, min_samples=10).fit(tsne_embedding_X_log)"
   ]
  },
  {
   "cell_type": "code",
   "execution_count": null,
   "metadata": {},
   "outputs": [],
   "source": [
    "cluster_df = (\n",
    "    pd.DataFrame(tsne_embedding_X_log, columns=['PC1', 'PC2'], index=dbscan_clusters.labels_+1)\n",
    "    .reset_index()\n",
    "    .rename(columns={'index':'cell_sub_type'})\n",
    "    .assign(cell_type = lambda x:np.where(x.cell_sub_type.isin([0,1,2,3]), 1, np.where(x.cell_sub_type.isin([8,9,10,11]), 2, 3)))\n",
    "    [['cell_type', 'cell_sub_type', 'PC1', 'PC2']]\n",
    ")\n",
    "\n",
    "cluster_df"
   ]
  },
  {
   "cell_type": "code",
   "execution_count": null,
   "metadata": {},
   "outputs": [],
   "source": [
    "(\n",
    "    cluster_df\n",
    "    .assign(PC1_min = lambda x:x.PC1)\n",
    "    .assign(PC1_max = lambda x:x.PC1)\n",
    "    .assign(PC1_mean = lambda x:x.PC1)\n",
    "    .assign(PC2_min = lambda x:x.PC2)\n",
    "    .assign(PC2_max = lambda x:x.PC2)\n",
    "    .assign(PC2_mean = lambda x:x.PC2)\n",
    "    .groupby(['cell_type'])\n",
    "    .agg({\n",
    "        'PC1_min':np.min,\n",
    "        'PC1_max':np.max,\n",
    "        'PC1_mean':np.mean,\n",
    "        'PC2_min':np.min,\n",
    "        'PC2_max':np.max,\n",
    "        'PC2_mean':np.mean\n",
    "    })\n",
    "    .reset_index()\n",
    "    .assign(PC1_Domain = lambda x: [f\"[{round(i,2)}, {round(j,2)}]\" for i, j in zip(x.PC1_min, x.PC1_max)])\n",
    "    .assign(PC2_Domain = lambda x: [f\"[{round(i,2)}, {round(j,2)}]\" for i, j in zip(x.PC2_min, x.PC2_max)])\n",
    "    .assign(Center = lambda x: [f\"[{round(i,2)}, {round(j,2)}]\" for i, j in zip(x.PC1_mean, x.PC2_mean)])\n",
    "    [['cell_type', 'PC1_Domain', 'PC2_Domain', 'Center']]\n",
    ")"
   ]
  },
  {
   "cell_type": "code",
   "execution_count": null,
   "metadata": {},
   "outputs": [],
   "source": [
    "# create a figure with 3 subplots in a row\n",
    "fig, axs = plt.subplots(1, 3, figsize=(16, 4))\n",
    "\n",
    "# create a scatter plot in each subplot\n",
    "sns.scatterplot(data=cluster_df[cluster_df.cluster.isin([0,1,2,3])], x=\"PC1\", y=\"PC2\", hue=\"cluster\", ax=axs[0], palette=sns.color_palette(\"hls\", 4))\n",
    "sns.scatterplot(data=cluster_df[cluster_df.cluster.isin([8,9,10,11])], x=\"PC1\", y=\"PC2\", hue=\"cluster\", ax=axs[1], palette=sns.color_palette(\"hls\", 4))\n",
    "sns.scatterplot(data=cluster_df[cluster_df.cluster.isin([4,5,6,7])], x=\"PC1\", y=\"PC2\", hue=\"cluster\", ax=axs[2], palette=sns.color_palette(\"hls\", 4))\n",
    "\n",
    "# add custom titles to each subplot\n",
    "axs[0].set_title(\"Cell type I\")\n",
    "axs[1].set_title(\"Cell type II\")\n",
    "axs[2].set_title(\"Cell type III\")\n",
    "\n",
    "# add custom x-labels and y-labels to each subplot\n",
    "axs[0].set_xlabel(\"Genes PC1\")\n",
    "axs[0].set_ylabel(\"Genes PC2\")\n",
    "axs[1].set_xlabel(\"Genes PC1\")\n",
    "axs[1].set_ylabel(\"Genes PC2\")\n",
    "axs[2].set_xlabel(\"Genes PC1\")\n",
    "axs[2].set_ylabel(\"Genes PC2\")\n",
    "\n",
    "# adjust the space between subplots\n",
    "plt.subplots_adjust(wspace=0.3)\n",
    "\n",
    "# display the plot\n",
    "plt.show()\n"
   ]
  },
  {
   "cell_type": "markdown",
   "metadata": {},
   "source": [
    "## Problem 2"
   ]
  },
  {
   "cell_type": "code",
   "execution_count": null,
   "metadata": {},
   "outputs": [],
   "source": [
    "# set the size of the plot\n",
    "plt.figure(figsize=(12, 8))\n",
    "\n",
    "sns.scatterplot(data=cluster_df, x=\"PC1\", y=\"PC2\", hue=\"cluster\", palette=sns.color_palette(\"hls\", 12))\n",
    "\n",
    "# add custom title, x-label, and y-label\n",
    "plt.title(f\"Brain cells sub-types explained by genes principal components (PC) using t-SNE embedding (Perplexity: {55}) - Clusters created using DBSCAN\")\n",
    "plt.xlabel(\"Genes PC1\")\n",
    "plt.ylabel(\"Genes PC2\")\n",
    "\n",
    "# display the plot\n",
    "plt.show()"
   ]
  },
  {
   "cell_type": "code",
   "execution_count": null,
   "metadata": {},
   "outputs": [],
   "source": [
    "(\n",
    "    cluster_df\n",
    "    .assign(cell_sub_type = lambda x: np.where(x.cell_sub_type == 0, 1, x.cell_sub_type))\n",
    "    .assign(PC1_min = lambda x:x.PC1)\n",
    "    .assign(PC1_max = lambda x:x.PC1)\n",
    "    .assign(PC1_mean = lambda x:x.PC1)\n",
    "    .assign(PC2_min = lambda x:x.PC2)\n",
    "    .assign(PC2_max = lambda x:x.PC2)\n",
    "    .assign(PC2_mean = lambda x:x.PC2)\n",
    "    .groupby(['cell_type', 'cell_sub_type'])\n",
    "    .agg({\n",
    "        'PC1_min':np.min,\n",
    "        'PC1_max':np.max,\n",
    "        'PC1_mean':np.mean,\n",
    "        'PC2_min':np.min,\n",
    "        'PC2_max':np.max,\n",
    "        'PC2_mean':np.mean\n",
    "    })\n",
    "    .reset_index()\n",
    "    .assign(PC1_Domain = lambda x: [f\"[{round(i,2)}, {round(j,2)}]\" for i, j in zip(x.PC1_min, x.PC1_max)])\n",
    "    .assign(PC2_Domain = lambda x: [f\"[{round(i,2)}, {round(j,2)}]\" for i, j in zip(x.PC2_min, x.PC2_max)])\n",
    "    .assign(Center = lambda x: [f\"[{round(i,2)}, {round(j,2)}]\" for i, j in zip(x.PC1_mean, x.PC2_mean)])\n",
    "    [['cell_type', 'cell_sub_type', 'PC1_Domain', 'PC2_Domain', 'Center']]\n",
    ")"
   ]
  },
  {
   "cell_type": "code",
   "execution_count": null,
   "metadata": {},
   "outputs": [],
   "source": [
    "labels_df = (\n",
    "    cluster_df\n",
    "    .assign(cell_sub_type = lambda x: np.where(x.cell_sub_type == 0, 1, x.cell_sub_type))\n",
    "    [['cell_sub_type']]\n",
    ")"
   ]
  },
  {
   "cell_type": "code",
   "execution_count": null,
   "metadata": {},
   "outputs": [],
   "source": [
    "#labels_df.to_csv(\"p2_cluster_labels_X_FT\")"
   ]
  },
  {
   "cell_type": "markdown",
   "metadata": {},
   "source": [
    "## Logistic Regression"
   ]
  },
  {
   "cell_type": "markdown",
   "metadata": {},
   "source": [
    "### Part 1"
   ]
  },
  {
   "cell_type": "code",
   "execution_count": null,
   "metadata": {},
   "outputs": [],
   "source": [
    "# Defining X\n",
    "X = np.load(\"X2.npy\")\n",
    "\n",
    "# Transforming the X data to log2\n",
    "X_log = np.log2(X+1)\n",
    "\n",
    "# Defining y\n",
    "y = pd.read_csv(\"p2_cluster_labels_X_FT\").cell_sub_type.values\n",
    "\n",
    "# Splitting dataset into train, test and validation sets\n",
    "X_train, X_test, y_train, y_test = train_test_split(X_log, y, test_size=0.30, stratify=y, random_state=42)\n",
    "\n",
    "print(f\"X_train size: {X_train.shape[0]} | y_train size: {y_train.shape[0]}\")\n",
    "print(f\"X_test  size: {X_test.shape[0]}  | y_test  size: {y_test.shape[0]}\")"
   ]
  },
  {
   "cell_type": "code",
   "execution_count": null,
   "metadata": {},
   "outputs": [],
   "source": [
    "# Implementing cross-validation on logistic regression\n",
    "cv_clf = LogisticRegressionCV(\n",
    "    cv=5,                   # number of cross-validation folds\n",
    "    Cs=100,                 # number of regularization values to attempt\n",
    "    penalty='l1',           # penalty to implement: l1 - Lasso and l2 - Ridge\n",
    "    solver='liblinear',     # solver that allows l1 and l2 regularizations\n",
    "    tol=1e-5,               # tolerance\n",
    "    max_iter=100,           # max number of iterations\n",
    "    multi_class='ovr',      # in a multi-class context it will be performed one-versus-all\n",
    "    random_state=42         # random state\n",
    ").fit(X_train, y_train)"
   ]
  },
  {
   "cell_type": "code",
   "execution_count": null,
   "metadata": {},
   "outputs": [],
   "source": [
    "#pickle.dump(cv_clf, open(\"cv_clf.pickle\", \"wb\"))"
   ]
  },
  {
   "cell_type": "code",
   "execution_count": null,
   "metadata": {},
   "outputs": [],
   "source": [
    "# Reading model\n",
    "cv_clf = pickle.load(open(\"cv_clf.pickle\", \"rb\"))"
   ]
  },
  {
   "cell_type": "code",
   "execution_count": null,
   "metadata": {},
   "outputs": [],
   "source": [
    "# overall performance\n",
    "print(f\"Overall Accuracy: {round(np.mean(1*(cv_clf.predict(X_test) == y_test)), 3)}\")"
   ]
  },
  {
   "cell_type": "code",
   "execution_count": null,
   "metadata": {},
   "outputs": [],
   "source": [
    "(\n",
    "    pd.DataFrame(zip(y_test, 1*(cv_clf.predict(X_test) == y_test)), columns=['Cluster Label', 'True Positive (Predicted)'])\n",
    "    .assign(Total = lambda x:1)\n",
    "    .groupby(['Cluster Label'])\n",
    "    .sum()\n",
    "    .reset_index()\n",
    "    .assign(Accuracy = lambda x:x['True Positive (Predicted)']/x.Total)\n",
    ")"
   ]
  },
  {
   "cell_type": "code",
   "execution_count": null,
   "metadata": {},
   "outputs": [],
   "source": [
    "# Save indexes for the best 100 features\n",
    "#with open('index_100.npy', 'wb') as f:\n",
    "#    np.save(f, index_100)"
   ]
  },
  {
   "cell_type": "markdown",
   "metadata": {},
   "source": [
    "### Part 2"
   ]
  },
  {
   "cell_type": "code",
   "execution_count": null,
   "metadata": {},
   "outputs": [],
   "source": [
    "# Loading the X p2 evaluation data and applying the log2(X+1) transformation\n",
    "X_train_p2_eval = np.log2(np.load(\"X_train.npy\")+1)\n",
    "X_test_p2_eval  = np.log2(np.load(\"X_test.npy\") +1)\n",
    "\n",
    "# Selecting the 100 best features\n",
    "index_best_100 = (-np.sum(np.abs(cv_clf.coef_), axis=0)).argsort()[:100]\n",
    "X_train_p2_eval_best_100 = X_train_p2_eval[:,index_best_100]\n",
    "X_test_p2_eval_best_100   = X_test_p2_eval[:,index_best_100]\n",
    "\n",
    "# Selecting 100 random features\n",
    "np.random.seed(42)\n",
    "index_random_100 = np.random.choice(a=range(0, X_train_p2_eval.shape[1]), size=100)\n",
    "X_train_p2_eval_random_100 = X_train_p2_eval[:,index_random_100]\n",
    "X_test_p2_eval_random_100  = X_test_p2_eval[:,index_random_100]\n",
    "\n",
    "# Selecting the 100 features with the highest variance\n",
    "index_high_variance_100 = (-np.std(X_train_p2_eval, axis=0)).argsort()[:100]\n",
    "X_train_p2_eval_high_variance_100 = X_train_p2_eval[:,index_high_variance_100]\n",
    "X_test_p2_eval_high_variance_100  = X_test_p2_eval[:,index_high_variance_100]\n",
    "\n",
    "# Loading the y p2 evaluation data\n",
    "y_train_p2_eval = np.load(\"y_train.npy\")\n",
    "y_test_p2_eval = np.load(\"y_test.npy\")"
   ]
  },
  {
   "cell_type": "code",
   "execution_count": null,
   "metadata": {},
   "outputs": [],
   "source": [
    "# Re-evaluate the model implementing cross-validation on logistic regression using the reduced dataset X_small\n",
    "cv_clf_best_100 = LogisticRegressionCV(\n",
    "    cv=5,                   # number of cross-validation folds\n",
    "    Cs=100,                 # number of regularization values to attempt\n",
    "    penalty='l1',           # penalty to implement: l1 - Lasso and l2 - Ridge\n",
    "    solver='liblinear',     # solver that allows l1 and l2 regularizations\n",
    "    tol=1e-5,               # tolerance\n",
    "    max_iter=1000,          # max number of iterations\n",
    "    multi_class='ovr',      # in a multi-class context it will be performed one-versus-all\n",
    "    random_state=42         # random state\n",
    ").fit(X_train_p2_eval_best_100, y_train_p2_eval)"
   ]
  },
  {
   "cell_type": "code",
   "execution_count": null,
   "metadata": {},
   "outputs": [],
   "source": [
    "pickle.dump(cv_clf_best_100, open(\"cv_clf_best_100.pickle\", \"wb\"))"
   ]
  },
  {
   "cell_type": "code",
   "execution_count": null,
   "metadata": {},
   "outputs": [],
   "source": [
    "# Re-evaluate the model implementing cross-validation on logistic regression using the reduced dataset X_small\n",
    "cv_clf_random_100 = LogisticRegressionCV(\n",
    "    cv=5,                  # number of cross-validation folds\n",
    "    Cs=100,                 # number of regularization values to attempt\n",
    "    penalty='l1',           # penalty to implement: l1 - Lasso and l2 - Ridge\n",
    "    solver='liblinear',     # solver that allows l1 and l2 regularizations\n",
    "    tol=1e-3,               # tolerance\n",
    "    max_iter=100,          # max number of iterations\n",
    "    multi_class='ovr',      # in a multi-class context it will be performed one-versus-all\n",
    "    random_state=42         # random state\n",
    ").fit(X_train_p2_eval_random_100, y_train_p2_eval)"
   ]
  },
  {
   "cell_type": "code",
   "execution_count": null,
   "metadata": {},
   "outputs": [],
   "source": [
    "pickle.dump(cv_clf_random_100, open(\"cv_clf_random_100.pickle\", \"wb\"))"
   ]
  },
  {
   "cell_type": "code",
   "execution_count": null,
   "metadata": {},
   "outputs": [],
   "source": [
    "# Re-evaluate the model implementing cross-validation on logistic regression using the reduced dataset X_small\n",
    "cv_clf_high_variance_100 = LogisticRegressionCV(\n",
    "    cv=5,                   # number of cross-validation folds\n",
    "    Cs=100,                 # number of regularization values to attempt\n",
    "    penalty='l1',           # penalty to implement: l1 - Lasso and l2 - Ridge\n",
    "    solver='liblinear',     # solver that allows l1 and l2 regularizations\n",
    "    tol=1e-5,               # tolerance\n",
    "    max_iter=1000,          # max number of iterations\n",
    "    multi_class='ovr',      # in a multi-class context it will be performed one-versus-all\n",
    "    random_state=42         # random state\n",
    ").fit(X_train_p2_eval_high_variance_100, y_train_p2_eval)"
   ]
  },
  {
   "cell_type": "code",
   "execution_count": null,
   "metadata": {},
   "outputs": [],
   "source": [
    "pickle.dump(cv_clf_high_variance_100, open(\"cv_clf_high_variance_100.pickle\", \"wb\"))"
   ]
  },
  {
   "cell_type": "code",
   "execution_count": null,
   "metadata": {},
   "outputs": [],
   "source": [
    "# overall performance\n",
    "print(f\"Best 100 features overall Accuracy: {round(np.mean(1*(cv_clf_best_100.predict(X_test_p2_eval_best_100) == y_test_p2_eval)), 3)}\")\n",
    "print(f\"Random 100 features overall Accuracy: {round(np.mean(1*(cv_clf_random_100.predict(X_test_p2_eval_random_100) == y_test_p2_eval)), 3)}\")\n",
    "print(f\"High Variance 100 features overall Accuracy: {round(np.mean(1*(cv_clf_high_variance_100.predict(X_test_p2_eval_high_variance_100) == y_test_p2_eval)), 3)}\")"
   ]
  },
  {
   "cell_type": "code",
   "execution_count": null,
   "metadata": {},
   "outputs": [],
   "source": [
    "# Best 100 features overall Accuracy: 0.889\n",
    "# Random 100 features overall Accuracy: 0.206\n",
    "# High Variance 100 features overall Accuracy: 0.892"
   ]
  },
  {
   "cell_type": "code",
   "execution_count": null,
   "metadata": {},
   "outputs": [],
   "source": [
    "var_df = (\n",
    "    pd.concat([\n",
    "        pd.DataFrame(zip(np.var(X_train_p2_eval_high_variance_100, axis=0), 100*['Highest Variance Features']), columns=['Variance', 'Features Set']),\n",
    "        pd.DataFrame(zip(np.var(X_train_p2_eval_best_100, axis=0), 100*['Best Features']), columns=['Variance', 'Features Set'])\n",
    "    ], axis=0)\n",
    "    .reset_index()\n",
    ")\n",
    "\n",
    "var_df"
   ]
  },
  {
   "cell_type": "code",
   "execution_count": null,
   "metadata": {},
   "outputs": [],
   "source": [
    "sns.color_palette(\"hls\", 4)[0]"
   ]
  },
  {
   "cell_type": "code",
   "execution_count": null,
   "metadata": {},
   "outputs": [],
   "source": [
    "# set the size of the plot\n",
    "plt.figure(figsize=(12, 8))\n",
    "\n",
    "sns.histplot(data=var_df, x=\"Variance\", hue=\"Features Set\", palette=sns.color_palette(\"hls\", 2))\n",
    "\n",
    "# add custom title, x-label, and y-label\n",
    "plt.title(f\"Variance Distribution | Highest Variance Features versus Best Features\")\n",
    "plt.xlabel(\"Variance\")\n",
    "plt.ylabel(\"Density\")\n",
    "\n",
    "# display the plot\n",
    "plt.show()"
   ]
  },
  {
   "cell_type": "code",
   "execution_count": null,
   "metadata": {},
   "outputs": [],
   "source": [
    "pd.concat([\n",
    "    pd.DataFrame(np.var(X_train_p2_eval, axis=0), columns=['Variance (All Features)']).describe(),\n",
    "    pd.DataFrame(np.var(X_train_p2_eval_random_100, axis=0), columns=['variance (Random Features)']).describe(),\n",
    "    pd.DataFrame(np.var(X_train_p2_eval_best_100, axis=0), columns=['variance (Best Features)']).describe(),\n",
    "    pd.DataFrame(np.var(X_train_p2_eval_high_variance_100, axis=0), columns=['variance (High Variance Features)']).describe(),\n",
    "], axis=1\n",
    ")"
   ]
  },
  {
   "cell_type": "code",
   "execution_count": null,
   "metadata": {},
   "outputs": [],
   "source": [
    "\n",
    "\n",
    "# set the size of the plot\n",
    "plt.figure(figsize=(12, 8))\n",
    "\n",
    "sns.histplot(x=np.var(X_train_p2_eval, axis=0))\n",
    "\n",
    "# add custom title, x-label, and y-label\n",
    "plt.title(f\"Variance Distribution | Highest Variance Features versus Best Features\")\n",
    "plt.xlabel(\"Variance\")\n",
    "plt.ylabel(\"Density\")\n",
    "\n",
    "# display the plot\n",
    "plt.show()"
   ]
  },
  {
   "cell_type": "code",
   "execution_count": null,
   "metadata": {},
   "outputs": [],
   "source": [
    "# Creating a dataframe to hold cluster's labels\n",
    "cluster_label_df = pd.DataFrame(\n",
    "    y_test_p2_eval, \n",
    "    columns=['Cluster Label']\n",
    ")\n",
    "\n",
    "# Creating a dataframe to hold the results of the prediction using the model with th 100 best features\n",
    "prediction_best_100_df = pd.DataFrame(\n",
    "    1*(cv_clf_best_100.predict(X_test_p2_eval_best_100) == y_test_p2_eval), \n",
    "    columns=['True Positive (Predicted - 100 Best)']\n",
    ")\n",
    "\n",
    "# Creating a dataframe to hold the results of the prediction using the model with th 100 random features\n",
    "prediction_random_100_df = pd.DataFrame(\n",
    "    1*(cv_clf_random_100.predict(X_test_p2_eval_best_100) == y_test_p2_eval), \n",
    "    columns=['True Positive (Predicted - 100 Random)']\n",
    ")\n",
    "\n",
    "# Creating a dataframe to hold the results of the prediction using the model with th 100 highest variance features\n",
    "prediction_high_variance_100_df = pd.DataFrame(\n",
    "    1*(cv_clf_high_variance_100.predict(X_test_p2_eval_best_100) == y_test_p2_eval), \n",
    "    columns=['True Positive (Predicted - 100 Highest Variance)']\n",
    ")\n",
    "\n",
    "\n",
    "(\n",
    "    pd.concat([cluster_label_df, prediction_best_100_df, prediction_random_100_df, prediction_high_variance_100_df], axis=1)\n",
    "    .assign(Total = lambda x:1)\n",
    "    .groupby(['Cluster Label']).sum().reset_index()\n",
    "    #.assign(Accuracy = lambda x:x['True Positive (Predicted)']/x.Total)\n",
    ")\n",
    "\n"
   ]
  },
  {
   "cell_type": "code",
   "execution_count": null,
   "metadata": {},
   "outputs": [],
   "source": [
    "(\n",
    "    pd.DataFrame(zip(y_test, 1*(cv_clf_best_100.predict(X_test) == y_test_p2_eval)), columns=['Cluster Label', 'True Positive (Predicted)'])\n",
    "    .assign(Total = lambda x:1)\n",
    "    .groupby(['Cluster Label'])\n",
    "    .sum()\n",
    "    .reset_index()\n",
    "    .assign(Accuracy = lambda x:x['True Positive (Predicted)']/x.Total)\n",
    ")"
   ]
  },
  {
   "cell_type": "code",
   "execution_count": null,
   "metadata": {},
   "outputs": [],
   "source": [
    "np.mean(1*(preds == y_test_p2_eval))"
   ]
  },
  {
   "cell_type": "code",
   "execution_count": null,
   "metadata": {},
   "outputs": [],
   "source": [
    "(\n",
    "    pd.DataFrame(zip(y_test_p2_eval, 1*(preds == y_test_p2_eval)), columns=['Cluster Label', 'True Positive (Predicted)'])\n",
    "    .assign(Total = lambda x:1)\n",
    "    .groupby(['Cluster Label'])\n",
    "    .sum()\n",
    "    .reset_index()\n",
    "    .assign(Accuracy = lambda x:x['True Positive (Predicted)']/x.Total)\n",
    ")"
   ]
  },
  {
   "cell_type": "markdown",
   "metadata": {},
   "source": [
    "## Part 3"
   ]
  },
  {
   "cell_type": "code",
   "execution_count": null,
   "metadata": {},
   "outputs": [],
   "source": [
    "# Loading the data\n",
    "X=np.load(\"X2.npy\")\n",
    "\n",
    "# Printing the shape of the resulting datasets\n",
    "print(f\"X shape: Number of cells (rows) {X.shape[0]} | Number of genes (columns) {X.shape[1]}\")\n",
    "\n",
    "# Calculating max X value for the first column\n",
    "print(f\"Max X for the first column: {np.max(X[:,0])}\")\n",
    "\n",
    "# Transforming the X data to log2\n",
    "X_log = np.log2(X+1)\n",
    "\n",
    "# Calculating max Xlog value for the first column\n",
    "print(f\"Max Xlog for the first column: {np.max(X_log[:,0])}\")"
   ]
  },
  {
   "cell_type": "code",
   "execution_count": null,
   "metadata": {},
   "outputs": [],
   "source": [
    "# Clustering cells\n",
    "kmeans_X_log = KMeans(n_clusters=3, n_init=100).fit(X_log)\n",
    "\n",
    "# Calculating PCA for the X_log matrix\n",
    "pca_X_log10 = PCA(n_components=10).fit(X_log.T)\n",
    "pca_X_log50 = PCA(n_components=50).fit(X_log.T)\n",
    "pca_X_log100 = PCA(n_components=100).fit(X_log.T)\n",
    "pca_X_log250 = PCA(n_components=250).fit(X_log.T)\n",
    "pca_X_log500 = PCA(n_components=500).fit(X_log.T)\n",
    "\n",
    "# Creating a PCA embedding with the X_log data\n",
    "pca_embedding_X_log10 = pca_X_log10.components_.T\n",
    "pca_embedding_X_log50 = pca_X_log50.components_.T\n",
    "pca_embedding_X_log100 = pca_X_log100.components_.T\n",
    "pca_embedding_X_log250 = pca_X_log250.components_.T\n",
    "pca_embedding_X_log500 = pca_X_log500.components_.T"
   ]
  },
  {
   "cell_type": "code",
   "execution_count": null,
   "metadata": {},
   "outputs": [],
   "source": [
    "# Creating a T-SNE embedding with the PCA embedding data\n",
    "tsne_embedding_X_log10 = TSNE(n_components=2, perplexity=40, learning_rate=100).fit_transform(pca_embedding_X_log10)\n",
    "tsne_embedding_X_log50 = TSNE(n_components=2, perplexity=40).fit_transform(pca_embedding_X_log50)\n",
    "tsne_embedding_X_log100 = TSNE(n_components=2, perplexity=40).fit_transform(pca_embedding_X_log100)\n",
    "tsne_embedding_X_log250 = TSNE(n_components=2, perplexity=40).fit_transform(pca_embedding_X_log250)\n",
    "tsne_embedding_X_log500 = TSNE(n_components=2, perplexity=40).fit_transform(pca_embedding_X_log500)"
   ]
  },
  {
   "cell_type": "code",
   "execution_count": null,
   "metadata": {},
   "outputs": [],
   "source": [
    "# Creating a T-SNE embedding with the PCA embedding data\n",
    "tsne_embedding_X_log10 = TSNE(n_components=2, perplexity=40, learning_rate=50).fit_transform(pca_embedding_X_log500)\n",
    "tsne_embedding_X_log50 = TSNE(n_components=2, perplexity=40, learning_rate=100).fit_transform(pca_embedding_X_log500)\n",
    "tsne_embedding_X_log100 = TSNE(n_components=2, perplexity=40, learning_rate=200).fit_transform(pca_embedding_X_log500)\n",
    "tsne_embedding_X_log250 = TSNE(n_components=2, perplexity=40, learning_rate=500).fit_transform(pca_embedding_X_log500)\n",
    "tsne_embedding_X_log500 = TSNE(n_components=2, perplexity=40, learning_rate=800).fit_transform(pca_embedding_X_log500)"
   ]
  },
  {
   "cell_type": "code",
   "execution_count": null,
   "metadata": {},
   "outputs": [],
   "source": [
    "# create a figure with 3 subplots in a row\n",
    "fig, axs = plt.subplots(1, 5, figsize=(20, 4))\n",
    "\n",
    "# create a scatter plot in each subplot\n",
    "sns.scatterplot(x=tsne_embedding_X_log10[:,0], y=tsne_embedding_X_log10[:,1], hue=kmeans_X_log.labels_, ax=axs[0])\n",
    "sns.scatterplot(x=tsne_embedding_X_log50[:,0], y=tsne_embedding_X_log50[:,1], hue=kmeans_X_log.labels_, ax=axs[1])\n",
    "sns.scatterplot(x=tsne_embedding_X_log100[:,0], y=tsne_embedding_X_log100[:,1], hue=kmeans_X_log.labels_, ax=axs[2])\n",
    "sns.scatterplot(x=tsne_embedding_X_log250[:,0], y=tsne_embedding_X_log250[:,1], hue=kmeans_X_log.labels_, ax=axs[3])\n",
    "sns.scatterplot(x=tsne_embedding_X_log500[:,0], y=tsne_embedding_X_log500[:,1], hue=kmeans_X_log.labels_, ax=axs[4])\n",
    "\n",
    "# add custom titles to each subplot\n",
    "axs[0].set_title(\"10 PC's\")\n",
    "axs[1].set_title(\"50 PC's\")\n",
    "axs[2].set_title(\"100 PC's\")\n",
    "axs[3].set_title(\"250 PC's\")\n",
    "axs[4].set_title(\"500 PC's\")\n",
    "\n",
    "# add custom x-labels and y-labels to each subplot\n",
    "axs[0].set_xlabel(\"Genes PC1\")\n",
    "axs[0].set_ylabel(\"Genes PC2\")\n",
    "axs[1].set_xlabel(\"Genes PC1\")\n",
    "axs[1].set_ylabel(\"Genes PC2\")\n",
    "axs[2].set_xlabel(\"Genes PC1\")\n",
    "axs[2].set_ylabel(\"Genes PC2\")\n",
    "axs[3].set_xlabel(\"Genes PC1\")\n",
    "axs[3].set_ylabel(\"Genes PC2\")\n",
    "axs[4].set_xlabel(\"Genes PC1\")\n",
    "axs[4].set_ylabel(\"Genes PC2\")\n",
    "\n",
    "#axs[0].set_xlim([-75,75])\n",
    "#axs[0].set_ylim([-75,75])\n",
    "#axs[1].set_xlim([-75,75])\n",
    "#axs[1].set_ylim([-75,75])\n",
    "#axs[2].set_xlim([-75,75])\n",
    "#axs[2].set_ylim([-75,75])\n",
    "#axs[3].set_xlim([-75,75])\n",
    "#axs[3].set_ylim([-75,75])\n",
    "#axs[4].set_xlim([-75,75])\n",
    "#axs[4].set_ylim([-75,75])\n",
    "\n",
    "# adjust the space between subplots\n",
    "plt.subplots_adjust(wspace=0.3)\n",
    "\n",
    "# display the plot\n",
    "plt.show()\n"
   ]
  },
  {
   "cell_type": "code",
   "execution_count": null,
   "metadata": {},
   "outputs": [],
   "source": [
    "# set the size of the plot\n",
    "plt.figure(figsize=(12, 8))\n",
    "\n",
    "sns.scatterplot(x=teste[:,0], y=teste[:,1], hue=kmeans_X_log.labels_)\n",
    "\n",
    "# add custom title, x-label, and y-label\n",
    "plt.title(f\"Variance Distribution | Highest Variance Features versus Best Features\")\n",
    "plt.xlabel(\"Variance\")\n",
    "plt.ylabel(\"Density\")\n",
    "\n",
    "# display the plot\n",
    "plt.show()"
   ]
  },
  {
   "cell_type": "code",
   "execution_count": null,
   "metadata": {},
   "outputs": [],
   "source": [
    "# Creating an empty dictionary\n",
    "tsne_dict = {}\n",
    "\n",
    "# Defining list of parameter values\n",
    "parameter_values = [1, 3, 5, 10, 25, 50, 100, 200]\n",
    "\n",
    "# Defining shape of the final image\n",
    "nrows = 2\n",
    "ncols = 4\n",
    "\n",
    "# create a figure with 3 subplots in a row\n",
    "fig, axs = plt.subplots(nrows, ncols, figsize=(4*ncols, 5*nrows))\n",
    "\n",
    "# adjust the space between subplots\n",
    "plt.subplots_adjust(wspace=0.3)\n",
    "\n",
    "# Initializing indexes\n",
    "r = 0\n",
    "c = 0\n",
    "\n",
    "for i, p in enumerate(parameter_values):\n",
    "\n",
    "    # Creating a T-SNE embedding with the chosen perplexity value\n",
    "    tsne_p = TSNE(n_components=2, perplexity=p, learning_rate=200, early_exaggeration=12).fit_transform(X_log)\n",
    "\n",
    "    # Storing embedding\n",
    "    tsne_dict[f\"perplexity_{p}\"] = tsne_p\n",
    "\n",
    "    # Creating a dataframe using the t-SNE embedding\n",
    "    tsne_df = pd.DataFrame(np.concatenate([tsne_p, kmeans_X_log.labels_.reshape(-1,1)], axis=1), columns=['PC1', 'PC2', 'Cluster'])\n",
    "\n",
    "    # Calculating center   \n",
    "    center = (\n",
    "        tsne_df.groupby(['Cluster']).mean().reset_index()\n",
    "        .drop(columns=['Cluster'])\n",
    "        .mean()\n",
    "    ).values\n",
    "\n",
    "    # Create a scatter plot in each subplot\n",
    "    sns.scatterplot(x=tsne_df.PC1 - center[0], y=tsne_df.PC2 - center[1], hue=tsne_df.Cluster, ax=axs[r,c])\n",
    "\n",
    "    # Add custom titles to each subplot\n",
    "    axs[r,c].set_title(f'Perplexity {p}')\n",
    "\n",
    "    # Add custom x-labels and y-labels to each subplot\n",
    "    axs[r,c].set_xlabel(\"Genes PC1\")\n",
    "    axs[r,c].set_ylabel(\"Genes PC2\")\n",
    "\n",
    "    axs[r,c].set_xlim([-70,70])\n",
    "    axs[r,c].set_ylim([-70,70])\n",
    "    \n",
    "    # updating column index\n",
    "    c += 1\n",
    "\n",
    "    # Adjusting subplot indexes\n",
    "    if(c == ncols):\n",
    "        c = 0\n",
    "        r += 1\n",
    "\n",
    "# display the plot\n",
    "plt.show()"
   ]
  },
  {
   "cell_type": "code",
   "execution_count": null,
   "metadata": {},
   "outputs": [],
   "source": [
    "# Defining list of parameter values\n",
    "parameter_values = [1, 3, 5, 10, 25, 50, 100, 200]\n",
    "\n",
    "# Defining shape of the final image\n",
    "nrows = 2\n",
    "ncols = 4\n",
    "\n",
    "# create a figure with 3 subplots in a row\n",
    "fig, axs = plt.subplots(nrows, ncols, figsize=(4*ncols, 4*nrows))\n",
    "\n",
    "# adjust the space between subplots\n",
    "plt.subplots_adjust(wspace=0.4, hspace=0.4)\n",
    "\n",
    "# Initializing indexes\n",
    "r = 0\n",
    "c = 0\n",
    "\n",
    "for i, p in enumerate(parameter_values):\n",
    "\n",
    "    # Creating a dataframe using the t-SNE embedding\n",
    "    tsne_df = pd.DataFrame(np.concatenate([tsne_dict[f\"perplexity_{p}\"], kmeans_X_log.labels_.reshape(-1,1)], axis=1), columns=['PC1', 'PC2', 'Cluster'])\n",
    "\n",
    "    # Calculating center   \n",
    "    center = (\n",
    "        tsne_df.groupby(['Cluster']).mean().reset_index()\n",
    "        .drop(columns=['Cluster'])\n",
    "        .mean()\n",
    "    ).values\n",
    "\n",
    "    # Create a scatter plot in each subplot\n",
    "    sns.scatterplot(x=tsne_df.PC1 - center[0], y=tsne_df.PC2 - center[1], hue=tsne_df.Cluster, ax=axs[r,c])\n",
    "\n",
    "    # Add custom titles to each subplot\n",
    "    axs[r,c].set_title(f'Perplexity {p}')\n",
    "\n",
    "    # Add custom x-labels and y-labels to each subplot\n",
    "    axs[r,c].set_xlabel(\"Genes PC1\")\n",
    "    axs[r,c].set_ylabel(\"Genes PC2\")\n",
    "\n",
    "    #axs[r,c].set_xlim([-70,70])\n",
    "    #axs[r,c].set_ylim([-70,70])\n",
    "    \n",
    "    # updating column index\n",
    "    c += 1\n",
    "\n",
    "    # Adjusting subplot indexes\n",
    "    if(c == ncols):\n",
    "        c = 0\n",
    "        r += 1\n",
    "\n",
    "# display the plot\n",
    "plt.show()"
   ]
  },
  {
   "cell_type": "code",
   "execution_count": null,
   "metadata": {},
   "outputs": [],
   "source": []
  },
  {
   "cell_type": "code",
   "execution_count": null,
   "metadata": {},
   "outputs": [],
   "source": [
    "# Creating an empty dictionary\n",
    "tsne_dict = {}\n",
    "\n",
    "# Defining list of parameter values\n",
    "parameter_values = [0.01, 10, 100, 500, 1000, 2500, 5000, 10000]\n",
    "\n",
    "# Defining shape of the final image\n",
    "nrows = 2\n",
    "ncols = 4\n",
    "\n",
    "# create a figure with 3 subplots in a row\n",
    "fig, axs = plt.subplots(nrows, ncols, figsize=(4*ncols, 5*nrows))\n",
    "\n",
    "# adjust the space between subplots\n",
    "plt.subplots_adjust(wspace=0.3)\n",
    "\n",
    "# Initializing indexes\n",
    "r = 0\n",
    "c = 0\n",
    "\n",
    "for i, p in enumerate(parameter_values):\n",
    "\n",
    "    # Creating a T-SNE embedding with the chosen perplexity value\n",
    "    tsne_p = TSNE(n_components=2, perplexity=50, learning_rate=p, early_exaggeration=12).fit_transform(X_log)\n",
    "\n",
    "    # Storing embedding\n",
    "    tsne_dict[f\"learning_rate_{p}\"] = tsne_p\n",
    "\n",
    "    # Creating a dataframe using the t-SNE embedding\n",
    "    tsne_df = pd.DataFrame(np.concatenate([tsne_p, kmeans_X_log.labels_.reshape(-1,1)], axis=1), columns=['PC1', 'PC2', 'Cluster'])\n",
    "\n",
    "    # Calculating center   \n",
    "    center = (\n",
    "        tsne_df.groupby(['Cluster']).mean().reset_index()\n",
    "        .drop(columns=['Cluster'])\n",
    "        .mean()\n",
    "    ).values\n",
    "\n",
    "    # Create a scatter plot in each subplot\n",
    "    sns.scatterplot(x=tsne_df.PC1 - center[0], y=tsne_df.PC2 - center[1], hue=tsne_df.Cluster, ax=axs[r,c])\n",
    "\n",
    "    # Add custom titles to each subplot\n",
    "    axs[r,c].set_title(f'Learning Rate {p}')\n",
    "\n",
    "    # Add custom x-labels and y-labels to each subplot\n",
    "    axs[r,c].set_xlabel(\"Genes PC1\")\n",
    "    axs[r,c].set_ylabel(\"Genes PC2\")\n",
    "\n",
    "    axs[r,c].set_xlim([-40,40])\n",
    "    axs[r,c].set_ylim([-40,40])\n",
    "    \n",
    "    # updating column index\n",
    "    c += 1\n",
    "\n",
    "    # Adjusting subplot indexes\n",
    "    if(c == ncols):\n",
    "        c = 0\n",
    "        r += 1\n",
    "\n",
    "# display the plot\n",
    "plt.show()"
   ]
  },
  {
   "cell_type": "code",
   "execution_count": null,
   "metadata": {},
   "outputs": [],
   "source": [
    "# Defining list of parameter values\n",
    "parameter_values = [0.01, 10, 100, 500, 1000, 2500, 5000, 10000]\n",
    "\n",
    "# Defining shape of the final image\n",
    "nrows = 2\n",
    "ncols = 4\n",
    "\n",
    "# create a figure with 3 subplots in a row\n",
    "fig, axs = plt.subplots(nrows, ncols, figsize=(4*ncols, 4*nrows))\n",
    "\n",
    "# adjust the space between subplots\n",
    "plt.subplots_adjust(wspace=0.4, hspace=0.4)\n",
    "\n",
    "# Initializing indexes\n",
    "r = 0\n",
    "c = 0\n",
    "\n",
    "for i, p in enumerate(parameter_values):\n",
    "\n",
    "    # Creating a dataframe using the t-SNE embedding\n",
    "    tsne_df = pd.DataFrame(np.concatenate([tsne_dict[f\"learning_rate_{p}\"], kmeans_X_log.labels_.reshape(-1,1)], axis=1), columns=['PC1', 'PC2', 'Cluster'])\n",
    "\n",
    "    # Calculating center   \n",
    "    center = (\n",
    "        tsne_df.groupby(['Cluster']).mean().reset_index()\n",
    "        .drop(columns=['Cluster'])\n",
    "        .mean()\n",
    "    ).values\n",
    "\n",
    "    # Create a scatter plot in each subplot\n",
    "    sns.scatterplot(x=tsne_df.PC1 - center[0], y=tsne_df.PC2 - center[1], hue=tsne_df.Cluster, ax=axs[r,c])\n",
    "\n",
    "    # Add custom titles to each subplot\n",
    "    axs[r,c].set_title(f'Learning Rate {p}')\n",
    "\n",
    "    # Add custom x-labels and y-labels to each subplot\n",
    "    axs[r,c].set_xlabel(\"Genes PC1\")\n",
    "    axs[r,c].set_ylabel(\"Genes PC2\")\n",
    "\n",
    "    #axs[r,c].set_xlim([-70,70])\n",
    "    #axs[r,c].set_ylim([-70,70])\n",
    "    \n",
    "    # updating column index\n",
    "    c += 1\n",
    "\n",
    "    # Adjusting subplot indexes\n",
    "    if(c == ncols):\n",
    "        c = 0\n",
    "        r += 1\n",
    "\n",
    "# display the plot\n",
    "plt.show()"
   ]
  },
  {
   "cell_type": "code",
   "execution_count": null,
   "metadata": {},
   "outputs": [],
   "source": [
    "# Defining list of parameter values\n",
    "parameter_values = [0.01, 10, 100, 500, 1000, 2500, 5000, 10000]\n",
    "\n",
    "# Defining shape of the final image\n",
    "nrows = 2\n",
    "ncols = 4\n",
    "\n",
    "# create a figure with 3 subplots in a row\n",
    "fig, axs = plt.subplots(nrows, ncols, figsize=(4*ncols, 4*nrows))\n",
    "\n",
    "# adjust the space between subplots\n",
    "plt.subplots_adjust(wspace=0.4, hspace=0.4)\n",
    "\n",
    "# Initializing indexes\n",
    "r = 0\n",
    "c = 0\n",
    "\n",
    "for i, p in enumerate(parameter_values):\n",
    "\n",
    "    # Creating a dataframe using the t-SNE embedding\n",
    "    tsne_df = pd.DataFrame(np.concatenate([tsne_dict[f\"learning_rate_{p}\"], kmeans_X_log.labels_.reshape(-1,1)], axis=1), columns=['PC1', 'PC2', 'Cluster'])\n",
    "\n",
    "    # Calculating center   \n",
    "    center = (\n",
    "        tsne_df.groupby(['Cluster']).mean().reset_index()\n",
    "        .drop(columns=['Cluster'])\n",
    "        .mean()\n",
    "    ).values\n",
    "\n",
    "    # Create a scatter plot in each subplot\n",
    "    sns.scatterplot(x=tsne_df.PC1 - center[0], y=tsne_df.PC2 - center[1], hue=tsne_df.Cluster, ax=axs[r,c])\n",
    "\n",
    "    # Add custom titles to each subplot\n",
    "    axs[r,c].set_title(f'Learning Rate {p}')\n",
    "\n",
    "    # Add custom x-labels and y-labels to each subplot\n",
    "    axs[r,c].set_xlabel(\"Genes PC1\")\n",
    "    axs[r,c].set_ylabel(\"Genes PC2\")\n",
    "\n",
    "    axs[r,c].set_xlim([-50,60])\n",
    "    axs[r,c].set_ylim([-50,60])\n",
    "    \n",
    "    # updating column index\n",
    "    c += 1\n",
    "\n",
    "    # Adjusting subplot indexes\n",
    "    if(c == ncols):\n",
    "        c = 0\n",
    "        r += 1\n",
    "\n",
    "# display the plot\n",
    "plt.show()"
   ]
  },
  {
   "cell_type": "code",
   "execution_count": null,
   "metadata": {},
   "outputs": [],
   "source": [
    "vec1 = np.random.normal(loc=[10, 30], scale=[4,4], size=(500,2))\n",
    "vec2 = np.random.normal(loc=[20, -10], scale=[2,2], size=(500,2))\n",
    "vec3 = np.random.normal(loc=[-5, 5], scale=[5,5], size=(500,2))"
   ]
  },
  {
   "cell_type": "code",
   "execution_count": null,
   "metadata": {},
   "outputs": [],
   "source": [
    "X = np.concatenate([vec1, vec2, vec3], axis=0)"
   ]
  },
  {
   "cell_type": "code",
   "execution_count": null,
   "metadata": {},
   "outputs": [],
   "source": [
    "indexes = np.random.choice(list(range(X.shape[0])), size=1500, replace=False)"
   ]
  },
  {
   "cell_type": "code",
   "execution_count": null,
   "metadata": {},
   "outputs": [],
   "source": [
    "Xshuffle = X[indexes,:]"
   ]
  },
  {
   "cell_type": "code",
   "execution_count": null,
   "metadata": {},
   "outputs": [],
   "source": [
    "noise = np.random.uniform(low=8, high=10, size=(1500, 200))"
   ]
  },
  {
   "cell_type": "code",
   "execution_count": null,
   "metadata": {},
   "outputs": [],
   "source": [
    "Xshuffle_noise = np.concatenate([Xshuffle, noise], axis=1)"
   ]
  },
  {
   "cell_type": "code",
   "execution_count": null,
   "metadata": {},
   "outputs": [],
   "source": [
    "# Creating a T-SNE embedding with the chosen perplexity value\n",
    "tsne_X = TSNE(n_components=2, perplexity=50, learning_rate=500, early_exaggeration=12).fit_transform(Xshuffle)"
   ]
  },
  {
   "cell_type": "code",
   "execution_count": null,
   "metadata": {},
   "outputs": [],
   "source": [
    "# set the size of the plot\n",
    "plt.figure(figsize=(12, 8))\n",
    "\n",
    "sns.scatterplot(x=tsne_X[:,0], y=tsne_X[:,1])\n",
    "\n",
    "# add custom title, x-label, and y-label\n",
    "plt.title(f\"Variance Distribution | Highest Variance Features versus Best Features\")\n",
    "plt.xlabel(\"Variance\")\n",
    "plt.ylabel(\"Density\")\n",
    "\n",
    "# display the plot\n",
    "plt.show()"
   ]
  },
  {
   "cell_type": "code",
   "execution_count": null,
   "metadata": {},
   "outputs": [],
   "source": [
    "# Creating a T-SNE embedding with the chosen perplexity value\n",
    "tsne_noise = TSNE(n_components=2, perplexity=50, learning_rate=500, early_exaggeration=12).fit_transform(Xshuffle_noise)\n",
    "\n",
    "# set the size of the plot\n",
    "plt.figure(figsize=(12, 8))\n",
    "\n",
    "sns.scatterplot(x=tsne_noise[:,0], y=tsne_noise[:,1])\n",
    "\n",
    "# add custom title, x-label, and y-label\n",
    "plt.title(f\"Variance Distribution | Highest Variance Features versus Best Features\")\n",
    "plt.xlabel(\"Variance\")\n",
    "plt.ylabel(\"Density\")\n",
    "\n",
    "# display the plot\n",
    "plt.show()"
   ]
  },
  {
   "cell_type": "code",
   "execution_count": null,
   "metadata": {},
   "outputs": [],
   "source": [
    "# Calculating PCA for the X_log matrix\n",
    "pca_Xnoise = PCA(n_components=50).fit(Xshuffle_noise.T);"
   ]
  },
  {
   "cell_type": "code",
   "execution_count": null,
   "metadata": {},
   "outputs": [],
   "source": [
    "# Creating a T-SNE embedding with the chosen perplexity value\n",
    "tsne_noise_pca = TSNE(n_components=2, perplexity=50, learning_rate=500, early_exaggeration=12).fit_transform(pca_Xnoise.components_.T)\n",
    "\n",
    "# set the size of the plot\n",
    "plt.figure(figsize=(12, 8))\n",
    "\n",
    "sns.scatterplot(x=tsne_noise_pca[:,0], y=tsne_noise_pca[:,1])\n",
    "\n",
    "# add custom title, x-label, and y-label\n",
    "plt.title(f\"Variance Distribution | Highest Variance Features versus Best Features\")\n",
    "plt.xlabel(\"Variance\")\n",
    "plt.ylabel(\"Density\")\n",
    "\n",
    "# display the plot\n",
    "plt.show()"
   ]
  },
  {
   "cell_type": "code",
   "execution_count": null,
   "metadata": {},
   "outputs": [],
   "source": []
  },
  {
   "cell_type": "code",
   "execution_count": 2,
   "metadata": {},
   "outputs": [],
   "source": [
    "# Importing numpy\n",
    "import numpy as np\n",
    "\n",
    "# Importing pandas\n",
    "import pandas as pd\n",
    "\n",
    "# Importing PCA\n",
    "from sklearn.decomposition import PCA\n",
    "\n",
    "# Importing MDS\n",
    "from sklearn.manifold import MDS\n",
    "\n",
    "# Importing T-SNE\n",
    "from sklearn.manifold import TSNE\n",
    "\n",
    "# Importing train test split function\n",
    "from sklearn.model_selection import train_test_split\n",
    "\n",
    "from sklearn.preprocessing import StandardScaler\n",
    "\n",
    "# Importing Seaborn\n",
    "import seaborn as sns\n",
    "\n",
    "# Importing matplotlib\n",
    "import matplotlib.pyplot as plt\n",
    "\n",
    "# Importing K-Means Clustering\n",
    "from sklearn.cluster import KMeans, DBSCAN\n",
    "\n",
    "# Importing Logistic Regression Cross-Validation function\n",
    "from sklearn.linear_model import LogisticRegressionCV, LogisticRegression\n",
    "\n",
    "# Importing Warnings\n",
    "import warnings\n",
    "\n",
    "# Importing pickle\n",
    "import pickle\n",
    "\n",
    "import time\n",
    "\n",
    "# suppress FutureWarning\n",
    "warnings.filterwarnings(\"ignore\", category=FutureWarning)"
   ]
  },
  {
   "cell_type": "code",
   "execution_count": 3,
   "metadata": {},
   "outputs": [],
   "source": [
    "# Loading the X p2 evaluation data and applying the log2(X+1) transformation\n",
    "Xtr_eval = np.log2(np.load(\"X_train.npy\")+1)\n",
    "Xtt_eval = np.log2(np.load(\"X_test.npy\")+1)\n",
    "\n",
    "# Loading the y p2 evaluation data\n",
    "ytr_eval = np.load(\"y_train.npy\")\n",
    "ytt_eval = np.load(\"y_test.npy\")"
   ]
  },
  {
   "cell_type": "code",
   "execution_count": 4,
   "metadata": {},
   "outputs": [],
   "source": [
    "scaler = StandardScaler()\n",
    "\n",
    "scaler.fit(Xtr_eval)\n",
    "\n",
    "XtrZ = scaler.transform(Xtr_eval)\n",
    "XttZ = scaler.transform(Xtt_eval)"
   ]
  },
  {
   "cell_type": "code",
   "execution_count": 5,
   "metadata": {},
   "outputs": [
    {
     "name": "stdout",
     "output_type": "stream",
     "text": [
      "Run Time 0: 44.53780150413513 seconds\n",
      "Run Time 1: 95.65845847129822 seconds\n",
      "Run Time 2: 189.26499557495117 seconds\n",
      "Run Time 3: 316.89289116859436 seconds\n",
      "Run Time 4: 469.7357437610626 seconds\n",
      "Run Time 5: 788.4033868312836 seconds\n",
      "Run Time 6: 1289.9108583927155 seconds\n",
      "Run Time 7: 2276.1246993541718 seconds\n",
      "Run Time 8: 2197.364904642105 seconds\n"
     ]
    }
   ],
   "source": [
    "cv_reg_dict = {}\n",
    "regs = [1e-6, 1e-5, 1e-4, 1e-3, 1e-2, 1e-1, 1e0, 1e1, 1e2, 1e3, 1e4, 1e5, 1e6]\n",
    "\n",
    "\n",
    "for i, r in enumerate(regs):\n",
    "\n",
    "    start_time = time.time()\n",
    "\n",
    "    # Re-evaluate the model implementing cross-validation on logistic regression using the reduced dataset X_small\n",
    "    cv_clf = LogisticRegression(\n",
    "        C=r,\n",
    "        penalty='l2',\n",
    "        solver='liblinear', \n",
    "        tol=1e-4,\n",
    "        max_iter=1000,\n",
    "        multi_class='ovr',\n",
    "    ).fit(XtrZ, ytr_eval)\n",
    "\n",
    "    cv_reg_dict[i] = cv_clf\n",
    "\n",
    "    pickle.dump(cv_reg_dict, open(\"l2_models_dict_03.pickle\", \"wb\"))\n",
    "\n",
    "    print(f\"Run Time {i}: {time.time() - start_time} seconds\")"
   ]
  },
  {
   "cell_type": "code",
   "execution_count": null,
   "metadata": {},
   "outputs": [
    {
     "name": "stdout",
     "output_type": "stream",
     "text": [
      "Run Time 0: 129.17098689079285 seconds\n",
      "Run Time 1: 130.89008784294128 seconds\n",
      "Run Time 2: 128.90697598457336 seconds\n",
      "Run Time 3: 159.2456865310669 seconds\n",
      "Run Time 4: 175.75416898727417 seconds\n",
      "Run Time 5: 226.1557378768921 seconds\n",
      "Run Time 6: 223.46430826187134 seconds\n",
      "Run Time 7: 224.54781818389893 seconds\n",
      "Run Time 8: 225.08366894721985 seconds\n",
      "Run Time 9: 232.03863525390625 seconds\n",
      "Run Time 10: 235.07268571853638 seconds\n",
      "Run Time 11: 248.48969554901123 seconds\n",
      "Run Time 12: 258.02161622047424 seconds\n",
      "Run Time 13: 262.0476715564728 seconds\n",
      "Run Time 14: 264.9710259437561 seconds\n",
      "Run Time 15: 283.5130796432495 seconds\n",
      "Run Time 16: 296.62924790382385 seconds\n"
     ]
    }
   ],
   "source": [
    "cv_reg_dict = {}\n",
    "regs = [1e-6, 1e-5, 1e-4, 1e-3, 1e-2, 1e-1, 1e0, 1e1, 1e2, 1e3, 1e4, 1e5, 1e6]\n",
    "\n",
    "\n",
    "for i, r in enumerate(regs):\n",
    "\n",
    "    start_time = time.time()\n",
    "\n",
    "    # Re-evaluate the model implementing cross-validation on logistic regression using the reduced dataset X_small\n",
    "    cv_clf = LogisticRegression(\n",
    "        C=r,\n",
    "        penalty='l1',\n",
    "        solver='liblinear', \n",
    "        tol=1e-4,   \n",
    "        max_iter=1000,\n",
    "        multi_class='ovr',\n",
    "    ).fit(XtrZ, ytr_eval)\n",
    "\n",
    "    cv_reg_dict[i] = cv_clf\n",
    "\n",
    "    pickle.dump(cv_reg_dict, open(\"l1_models_dict_03.pickle\", \"wb\"))\n",
    "\n",
    "    print(f\"Run Time {i}: {time.time() - start_time} seconds\")"
   ]
  },
  {
   "cell_type": "code",
   "execution_count": 7,
   "metadata": {},
   "outputs": [],
   "source": [
    "# Reading model\n",
    "l1_models = pickle.load(open(\"l1_models_dict_02.pickle\", \"rb\"))\n",
    "l2_models = pickle.load(open(\"l2_models_dict_02.pickle\", \"rb\"))"
   ]
  },
  {
   "cell_type": "code",
   "execution_count": 9,
   "metadata": {},
   "outputs": [],
   "source": [
    "l1_features_dict = {}\n",
    "l2_features_dict = {}\n",
    "\n",
    "for i, m in enumerate(l1_models):\n",
    "\n",
    "    # Calculating sum of coeficients and ordering it\n",
    "    sum_abs_coefs = np.sum(np.abs(l1_models[m].coef_), axis=0)\n",
    "    ordered_sum_abs_coefs = np.argsort(-sum_abs_coefs)[0:100]\n",
    "\n",
    "    l1_features_dict[i] = ordered_sum_abs_coefs\n",
    "\n",
    "\n",
    "for i, m in enumerate(l2_models):\n",
    "\n",
    "    # Calculating sum of coeficients and ordering it\n",
    "    sum_abs_coefs = np.sum(np.abs(l2_models[m].coef_), axis=0)\n",
    "    ordered_sum_abs_coefs = np.argsort(-sum_abs_coefs)[0:100]\n",
    "\n",
    "    l2_features_dict[i] = ordered_sum_abs_coefs"
   ]
  },
  {
   "cell_type": "code",
   "execution_count": 13,
   "metadata": {},
   "outputs": [
    {
     "name": "stdout",
     "output_type": "stream",
     "text": [
      "Run Time 0: 0.9536426067352295 seconds\n",
      "Run Time 1: 0.7775146961212158 seconds\n",
      "Run Time 2: 0.8213367462158203 seconds\n",
      "Run Time 3: 1.078181505203247 seconds\n",
      "Run Time 4: 1.3847568035125732 seconds\n",
      "Run Time 5: 2.3351991176605225 seconds\n",
      "Run Time 6: 2.6817193031311035 seconds\n",
      "Run Time 7: 3.7748289108276367 seconds\n",
      "Run Time 8: 3.9816157817840576 seconds\n",
      "Run Time 9: 5.3312249183654785 seconds\n",
      "Run Time 10: 5.945649862289429 seconds\n",
      "Run Time 11: 6.834094762802124 seconds\n",
      "Run Time 12: 6.900559663772583 seconds\n",
      "Run Time 13: 6.84396505355835 seconds\n",
      "Run Time 14: 7.13137674331665 seconds\n",
      "Run Time 15: 7.450761079788208 seconds\n",
      "Run Time 16: 9.576491594314575 seconds\n"
     ]
    }
   ],
   "source": [
    "l2_models_100 = {}\n",
    "\n",
    "for i, m in enumerate(l2_features_dict):\n",
    "\n",
    "    start_time = time.time()\n",
    "\n",
    "    # Re-evaluate the model implementing cross-validation on logistic regression using the reduced dataset X_small\n",
    "    cv_clf = LogisticRegression(\n",
    "        C=l2_models[i].Cs_[0],\n",
    "        penalty='l2',\n",
    "        solver='saga', \n",
    "        tol=1e-3,\n",
    "        max_iter=1000,\n",
    "        multi_class='ovr',\n",
    "        random_state=42\n",
    "    ).fit(XtrZ[:,l2_features_dict[i]], ytr_eval)\n",
    "\n",
    "    l2_models_100[i] = cv_clf\n",
    "\n",
    "    print(f\"Run Time {i}: {time.time() - start_time} seconds\")"
   ]
  },
  {
   "cell_type": "code",
   "execution_count": 12,
   "metadata": {},
   "outputs": [
    {
     "name": "stdout",
     "output_type": "stream",
     "text": [
      "Run Time 0: 0.052841901779174805 seconds\n",
      "Run Time 1: 0.050806522369384766 seconds\n",
      "Run Time 2: 0.08862495422363281 seconds\n",
      "Run Time 3: 0.44838476181030273 seconds\n",
      "Run Time 4: 2.115631341934204 seconds\n",
      "Run Time 5: 3.3491249084472656 seconds\n",
      "Run Time 6: 4.510924816131592 seconds\n",
      "Run Time 7: 8.584869861602783 seconds\n",
      "Run Time 8: 9.964682579040527 seconds\n",
      "Run Time 9: 11.677557229995728 seconds\n",
      "Run Time 10: 12.963160037994385 seconds\n",
      "Run Time 11: 13.097201585769653 seconds\n",
      "Run Time 12: 13.89504623413086 seconds\n",
      "Run Time 13: 13.943207502365112 seconds\n",
      "Run Time 14: 12.661410331726074 seconds\n",
      "Run Time 15: 13.012511491775513 seconds\n",
      "Run Time 16: 13.328543424606323 seconds\n"
     ]
    }
   ],
   "source": [
    "l1_models_100 = {}\n",
    "\n",
    "for i, m in enumerate(l1_features_dict):\n",
    "\n",
    "    start_time = time.time()\n",
    "\n",
    "    # Re-evaluate the model implementing cross-validation on logistic regression using the reduced dataset X_small\n",
    "    cv_clf = LogisticRegression(\n",
    "        C=l1_models[i].Cs_[0],\n",
    "        penalty='l1',\n",
    "        solver='saga', \n",
    "        tol=1e-3,\n",
    "        max_iter=1000,\n",
    "        multi_class='ovr',\n",
    "        random_state=42\n",
    "    ).fit(XtrZ[:,l1_features_dict[i]], ytr_eval)\n",
    "\n",
    "    l1_models_100[i] = cv_clf\n",
    "\n",
    "    print(f\"Run Time {i}: {time.time() - start_time} seconds\")"
   ]
  },
  {
   "cell_type": "code",
   "execution_count": 18,
   "metadata": {},
   "outputs": [
    {
     "name": "stdout",
     "output_type": "stream",
     "text": [
      "Regularization: 0.0001 | Score: 0.15433212996389892\n",
      "Regularization: 0.0005 | Score: 0.490072202166065\n",
      "Regularization: 0.001 | Score: 0.6245487364620939\n",
      "Regularization: 0.005 | Score: 0.8492779783393501\n",
      "Regularization: 0.01 | Score: 0.8889891696750902\n",
      "Regularization: 0.05 | Score: 0.9314079422382672\n",
      "Regularization: 0.1 | Score: 0.9305054151624549\n",
      "Regularization: 0.5 | Score: 0.9232851985559567\n",
      "Regularization: 1.0 | Score: 0.9205776173285198\n",
      "Regularization: 5.0 | Score: 0.9160649819494585\n",
      "Regularization: 10.0 | Score: 0.9133574007220217\n",
      "Regularization: 50.0 | Score: 0.9115523465703971\n",
      "Regularization: 100.0 | Score: 0.9106498194945848\n",
      "Regularization: 500.0 | Score: 0.9097472924187726\n",
      "Regularization: 1000.0 | Score: 0.9097472924187726\n",
      "Regularization: 5000.0 | Score: 0.9034296028880866\n",
      "Regularization: 10000.0 | Score: 0.9151624548736462\n"
     ]
    }
   ],
   "source": [
    "for i, m in enumerate(l2_models_100):\n",
    "\n",
    "    score = np.mean(1*(l2_models_100[i].predict(XttZ[:,l2_features_dict[i]]) == ytt_eval))\n",
    "\n",
    "    print(f\"Regularization: {l2_models_100[i].C} | Score: {score}\")"
   ]
  },
  {
   "cell_type": "code",
   "execution_count": 19,
   "metadata": {},
   "outputs": [
    {
     "name": "stdout",
     "output_type": "stream",
     "text": [
      "Regularization: 0.0001 | Score: 0.15252707581227437\n",
      "Regularization: 0.0005 | Score: 0.15252707581227437\n",
      "Regularization: 0.001 | Score: 0.0631768953068592\n",
      "Regularization: 0.005 | Score: 0.2536101083032491\n",
      "Regularization: 0.01 | Score: 0.5577617328519856\n",
      "Regularization: 0.05 | Score: 0.8574007220216606\n",
      "Regularization: 0.1 | Score: 0.8628158844765343\n",
      "Regularization: 0.5 | Score: 0.8474729241877257\n",
      "Regularization: 1.0 | Score: 0.8366425992779783\n",
      "Regularization: 5.0 | Score: 0.8429602888086642\n",
      "Regularization: 10.0 | Score: 0.8185920577617328\n",
      "Regularization: 50.0 | Score: 0.7833935018050542\n",
      "Regularization: 100.0 | Score: 0.8438628158844765\n",
      "Regularization: 500.0 | Score: 0.8655234657039711\n",
      "Regularization: 1000.0 | Score: 0.8971119133574007\n",
      "Regularization: 5000.0 | Score: 0.8727436823104693\n",
      "Regularization: 10000.0 | Score: 0.8700361010830325\n"
     ]
    }
   ],
   "source": [
    "for i, m in enumerate(l1_models_100):\n",
    "\n",
    "    score = np.mean(1*(l1_models_100[i].predict(XttZ[:,l1_features_dict[i]]) == ytt_eval))\n",
    "\n",
    "    print(f\"Regularization: {l1_models_100[i].C} | Score: {score}\")"
   ]
  },
  {
   "cell_type": "code",
   "execution_count": 20,
   "metadata": {},
   "outputs": [
    {
     "data": {
      "text/plain": [
       "array([[-0.93355694,  1.37705335, -0.58626064, ..., -0.4508869 ,\n",
       "        -0.10034216, -0.27064737],\n",
       "       [-0.93355694,  1.21159526, -0.58626064, ..., -0.79143059,\n",
       "        -0.10034216, -0.27064737],\n",
       "       [-0.93355694,  1.50601528,  1.57850613, ...,  1.82502734,\n",
       "        -0.10034216, -0.27064737],\n",
       "       ...,\n",
       "       [-0.93355694, -1.43502578, -0.58626064, ...,  0.35315673,\n",
       "        -0.10034216, -0.27064737],\n",
       "       [-0.93355694, -1.43502578, -0.58626064, ..., -0.79143059,\n",
       "        -0.10034216, -0.27064737],\n",
       "       [-0.93355694, -1.1726448 , -0.58626064, ..., -0.25314279,\n",
       "        -0.10034216, -0.27064737]])"
      ]
     },
     "execution_count": 20,
     "metadata": {},
     "output_type": "execute_result"
    }
   ],
   "source": []
  },
  {
   "cell_type": "code",
   "execution_count": 32,
   "metadata": {},
   "outputs": [],
   "source": [
    "for i, m in enumerate(l2_features_dict):\n",
    "\n",
    "    arr = np.var(Xtr_eval[:,l2_features_dict[i]], axis=0).reshape(-1,1)\n",
    "    if(i==0):\n",
    "        l2_var = arr\n",
    "    else:\n",
    "        l2_var = np.concatenate([l2_var, arr], axis=0)\n",
    "\n",
    "for i, m in enumerate(l1_features_dict):\n",
    "\n",
    "    arr = np.var(Xtr_eval[:,l1_features_dict[i]], axis=0).reshape(-1,1)\n",
    "    if(i==0):\n",
    "        l1_var = arr\n",
    "    else:\n",
    "        l1_var = np.concatenate([l1_var, arr], axis=0)"
   ]
  },
  {
   "cell_type": "code",
   "execution_count": 33,
   "metadata": {},
   "outputs": [],
   "source": [
    "labels = []\n",
    "for i in [1e-4, 5e-4, 1e-3, 5e-3, 1e-2, 5e-2, 1e-1, 5e-1, 1e0, 5e0, 1e1, 5e1, 1e2, 5e2, 1e3, 5e3, 1e4]:\n",
    "    labels += 100*[i]"
   ]
  },
  {
   "cell_type": "code",
   "execution_count": 36,
   "metadata": {},
   "outputs": [],
   "source": [
    "l2_var_df = (\n",
    "    pd.DataFrame(np.log(l2_var+1), columns=['variance'])\n",
    "    .assign(regularization = lambda x:labels)\n",
    "    .assign(regularization_type = lambda x: 'l2')\n",
    ")\n",
    "\n",
    "l1_var_df = (\n",
    "    pd.DataFrame(np.log(l1_var+1), columns=['variance'])\n",
    "    .assign(regularization = lambda x:labels)\n",
    "    .assign(regularization_type = lambda x: 'l1')\n",
    ")\n",
    "\n",
    "var_df = pd.concat([l2_var_df, l1_var_df], axis=0).reset_index()"
   ]
  },
  {
   "cell_type": "code",
   "execution_count": 37,
   "metadata": {},
   "outputs": [
    {
     "data": {
      "image/png": "[encoded data removed]",
      "text/plain": [
       "<Figure size 864x576 with 1 Axes>"
      ]
     },
     "metadata": {
      "needs_background": "light"
     },
     "output_type": "display_data"
    }
   ],
   "source": [
    "# set the size of the plot\n",
    "plt.figure(figsize=(12, 8))\n",
    "\n",
    "sns.boxplot(x=var_df.regularization, y=var_df.variance, hue=var_df.regularization_type)\n",
    "\n",
    "# add custom title, x-label, and y-label\n",
    "#plt.title(f\"Variance Distribution | Highest Variance Features versus Best Features\")\n",
    "#plt.xlabel(\"Variance\")\n",
    "#plt.ylabel(\"Density\")\n",
    "\n",
    "# display the plot\n",
    "plt.show()"
   ]
  },
  {
   "cell_type": "code",
   "execution_count": null,
   "metadata": {},
   "outputs": [],
   "source": []
  }
 ],
 "metadata": {
  "kernelspec": {
   "display_name": "base",
   "language": "python",
   "name": "python3"
  },
  "language_info": {
   "codemirror_mode": {
    "name": "ipython",
    "version": 3
   },
   "file_extension": ".py",
   "mimetype": "text/x-python",
   "name": "python",
   "nbconvert_exporter": "python",
   "pygments_lexer": "ipython3",
   "version": "3.9.12"
  },
  "orig_nbformat": 4
 },
 "nbformat": 4,
 "nbformat_minor": 2
}
